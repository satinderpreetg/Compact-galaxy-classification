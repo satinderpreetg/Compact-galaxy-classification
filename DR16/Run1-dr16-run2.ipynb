{
 "cells": [
  {
   "cell_type": "markdown",
   "metadata": {},
   "source": [
    "# Run 1"
   ]
  },
  {
   "cell_type": "code",
   "execution_count": 1,
   "metadata": {},
   "outputs": [],
   "source": [
    "import pandas as pd\n",
    "import numpy as np\n",
    "import seaborn as sns\n",
    "from sklearn.preprocessing import StandardScaler, RobustScaler, QuantileTransformer\n",
    "from sklearn.decomposition import PCA\n",
    "import matplotlib.pyplot as plt\n",
    "from mpl_toolkits import mplot3d\n",
    "import joblib\n",
    "from pickle import dump\n",
    "from pandas import read_csv\n",
    "from pickle import load\n",
    "\n",
    "%matplotlib inline"
   ]
  },
  {
   "cell_type": "code",
   "execution_count": 2,
   "metadata": {},
   "outputs": [
    {
     "name": "stderr",
     "output_type": "stream",
     "text": [
      "WARNING: AstropyDeprecationWarning: The update_default_config function is deprecated and may be removed in a future version. [astroquery._astropy_init]\n"
     ]
    }
   ],
   "source": [
    "from astroquery.ned import Ned\n",
    "import astropy.units as u\n",
    "from astropy import coordinates\n",
    "from astropy.table import Table\n",
    "import time\n",
    "from astropy.coordinates import SkyCoord"
   ]
  },
  {
   "cell_type": "code",
   "execution_count": 3,
   "metadata": {},
   "outputs": [],
   "source": [
    "# from sklearn.model_selection import train_test_split\n",
    "from sklearn.model_selection import cross_val_score\n",
    "from sklearn.model_selection import StratifiedKFold\n",
    "# from sklearn.metrics import classification_report\n",
    "from sklearn.metrics import confusion_matrix\n",
    "# from sklearn.metrics import accuracy_score\n",
    "from sklearn.linear_model import LogisticRegression\n",
    "from sklearn.tree import DecisionTreeClassifier\n",
    "from sklearn.neighbors import KNeighborsClassifier\n",
    "from sklearn.discriminant_analysis import LinearDiscriminantAnalysis\n",
    "from sklearn.naive_bayes import GaussianNB\n",
    "from sklearn.svm import SVC\n",
    "from sklearn.gaussian_process import GaussianProcessClassifier\n",
    "from sklearn.ensemble import RandomForestClassifier, VotingClassifier, AdaBoostClassifier\n",
    "from sklearn.neural_network import MLPClassifier\n",
    "from sklearn.linear_model import Perceptron\n",
    "# from sklearn.discriminant_analysis import QuadraticDiscriminantAnalysis\n",
    "# from sklearn.gaussian_process.kernels import RBF"
   ]
  },
  {
   "cell_type": "code",
   "execution_count": 4,
   "metadata": {},
   "outputs": [
    {
     "name": "stdout",
     "output_type": "stream",
     "text": [
      "1: PCA\n",
      " 2: Scaled Data\n",
      " 3: Raw Data\n",
      "1\n"
     ]
    }
   ],
   "source": [
    "data_type = input('1: PCA\\n 2: Scaled Data\\n 3: Raw Data\\n')"
   ]
  },
  {
   "cell_type": "markdown",
   "metadata": {},
   "source": [
    "# PCA & data scaling"
   ]
  },
  {
   "cell_type": "code",
   "execution_count": 5,
   "metadata": {},
   "outputs": [
    {
     "name": "stdout",
     "output_type": "stream",
     "text": [
      "['objid', 'ra', 'dec', 'g-i', 'u-g', 'u-z', 'g-z', 'g-r', 'z-w1', 'z-w2', 'z-w3', 'z-w4', 'concentration_index', 'photo_z', 'frac_dev', 'host_galaxy', 'distance', 'axis_ratio', 'category', 'radius', 'magnitude', 'u_mag', 'g_mag', 'i_mag', 'r_mag', 'z_mag', 'w1', 'w2', 'w3', 'w4', 'link']\n"
     ]
    }
   ],
   "source": [
    "df_training =  pd.read_csv(\"training_set_v2_dr16.csv\")\n",
    "columnsNamesArr = df_training.columns.values\n",
    "column_names = list(columnsNamesArr)\n",
    "print(column_names[1:])"
   ]
  },
  {
   "cell_type": "code",
   "execution_count": 6,
   "metadata": {},
   "outputs": [
    {
     "name": "stdout",
     "output_type": "stream",
     "text": [
      "category\n",
      "Contaminant       537\n",
      "Known galaxies     13\n",
      "dtype: int64\n"
     ]
    }
   ],
   "source": [
    "print(df_training.groupby('category').size())\n"
   ]
  },
  {
   "cell_type": "code",
   "execution_count": 7,
   "metadata": {},
   "outputs": [
    {
     "name": "stdout",
     "output_type": "stream",
     "text": [
      "15\n"
     ]
    }
   ],
   "source": [
    "features = ['g-i', 'u-g', 'u-z', 'g-z', 'g-r','z-w1', 'z-w2', 'z-w3', 'z-w4', 'concentration_index', 'photo_z', 'frac_dev','axis_ratio','radius', 'magnitude']\n",
    "print(len(features))"
   ]
  },
  {
   "cell_type": "code",
   "execution_count": 8,
   "metadata": {},
   "outputs": [],
   "source": [
    "plt.rcParams.update({'font.size': 20})"
   ]
  },
  {
   "cell_type": "code",
   "execution_count": 9,
   "metadata": {},
   "outputs": [],
   "source": [
    "# # %matplotlib qt\n",
    "# fig1 = plt.figure(figsize=(10,8))\n",
    "# # sns.set_context(\"paper\", font_scale=2)\n",
    "# # sns.set(font_scale = 1.5)\n",
    "# ax = sns.pairplot(df_training, \n",
    "#              vars = ['g-i', 'u-g', 'u-z', 'g-z', 'g-r','z-w1', 'z-w2', 'z-w3', 'z-w4', 'concentration_index', 'photo_z', 'frac_dev','axis_ratio','radius', 'magnitude'],  hue=\"category\",hue_order = ['Contaminant','Known galaxies'],\n",
    "#              corner=True,\n",
    "#              diag_kind = 'kde', \n",
    "#              plot_kws = {'alpha': 0.4, 's': 70, 'edgecolor': 'k'},\n",
    "#              height=3);\n",
    "# # Title \n",
    "# sns.move_legend(ax, \"upper left\")\n",
    "# plt.suptitle('Training data pairplots', \n",
    "#              size = 30);\n",
    "# plt.savefig('pair_plot_training_set_v2_dr16.pdf')"
   ]
  },
  {
   "cell_type": "code",
   "execution_count": 10,
   "metadata": {},
   "outputs": [
    {
     "name": "stdout",
     "output_type": "stream",
     "text": [
      "550\n",
      "13\n"
     ]
    }
   ],
   "source": [
    "# classification as array of 0's and 1's\n",
    "category = df_training['category']\n",
    "classification = np.NaN*np.ones(len(category))\n",
    "classification[category == 'Known galaxies'] = 1  \n",
    "classification[category == 'Contaminant'] = 0 \n",
    "print(len(classification))\n",
    "print(len(classification[classification == 1]))"
   ]
  },
  {
   "cell_type": "code",
   "execution_count": 11,
   "metadata": {},
   "outputs": [],
   "source": [
    "# define feature data and standardize it\n",
    "data = df_training.loc[:,features].values\n",
    "# define scaler\n",
    "# scaler = StandardScaler()\n",
    "scaler = RobustScaler()\n",
    "# scaler = QuantileTransformer()\n",
    "# fit scaler on the training dataset\n",
    "scaler.fit(data)\n",
    "# transform the training dataset\n",
    "data_scaled = scaler.transform(data)"
   ]
  },
  {
   "cell_type": "code",
   "execution_count": 12,
   "metadata": {},
   "outputs": [],
   "source": [
    "# transform data to 6 principle components which take into account 95 pct of the variance in the data\n",
    "# pca = PCA(n_components = 11, random_state = 2020)\n",
    "\n",
    "pca = PCA(n_components = 0.95, random_state = 2020) #this automatically chooses the amount of PC's for 95 pct variance\n",
    "\n",
    "pca.fit(data_scaled)\n",
    "principal_components = pca.transform(data_scaled)\n",
    "principal_df = pd.DataFrame(data = principal_components, columns = ['Principal Component 1','Principal Component 2','Principal Component 3','Principal Component 4','Principal Component 5','Principal Component 6'])\n",
    "final_df = pd.concat([principal_df, df_training[['category']]], axis = 1)\n"
   ]
  },
  {
   "cell_type": "code",
   "execution_count": 13,
   "metadata": {},
   "outputs": [],
   "source": [
    "plt.rcParams.update({'font.size': 10})"
   ]
  },
  {
   "cell_type": "code",
   "execution_count": 14,
   "metadata": {},
   "outputs": [
    {
     "data": {
      "text/plain": [
       "Text(0.5, 1.0, 'Influence on each principal component by features')"
      ]
     },
     "execution_count": 14,
     "metadata": {},
     "output_type": "execute_result"
    },
    {
     "data": {
      "image/png": "[encoded data removed]",
      "text/plain": [
       "<Figure size 1008x1008 with 2 Axes>"
      ]
     },
     "metadata": {
      "needs_background": "light"
     },
     "output_type": "display_data"
    }
   ],
   "source": [
    "features_map = ['g-i', 'u-g', 'u-z', 'g-z', 'g-r','z-w1', 'z-w2', 'z-w3', 'z-w4', 'concentration_index', 'photo_z', 'frac_dev','axis_ratio','radius', 'magnitude']\n",
    "fig = plt.figure(figsize = (14,14))\n",
    "ax = sns.heatmap(pca.components_,\n",
    "                 cmap='YlGnBu',\n",
    "                 yticklabels=[ \"PCA\"+str(x) for x in range(1,pca.n_components_+1)],\n",
    "                 xticklabels=features_map,\n",
    "                 cbar_kws={\"orientation\": \"horizontal\"})\n",
    "ax.set_aspect(\"equal\")\n",
    "ax.set_title('Influence on each principal component by features')"
   ]
  },
  {
   "cell_type": "code",
   "execution_count": 15,
   "metadata": {},
   "outputs": [],
   "source": [
    "X = principal_components\n",
    "y = classification"
   ]
  },
  {
   "cell_type": "code",
   "execution_count": 16,
   "metadata": {},
   "outputs": [],
   "source": [
    "if data_type == 1:\n",
    "    X = principal_components\n",
    "    y = classification\n",
    "elif data_type == 2:\n",
    "    X = data_scaled\n",
    "    y = classification\n",
    "elif data_type == 3:\n",
    "    X = data\n",
    "    y = classification"
   ]
  },
  {
   "cell_type": "code",
   "execution_count": 17,
   "metadata": {},
   "outputs": [],
   "source": [
    "# X = data_scaled\n",
    "# y = classification"
   ]
  },
  {
   "cell_type": "code",
   "execution_count": 18,
   "metadata": {},
   "outputs": [],
   "source": [
    "# X = data\n",
    "# y = classification"
   ]
  },
  {
   "cell_type": "code",
   "execution_count": 19,
   "metadata": {},
   "outputs": [],
   "source": [
    "# scorign to balanced accuracy\n",
    "# test svm and plot corner plots showing where its failing and iterate through individual contaminants\n",
    "# add new corner plots for new 45 galaxy\n",
    "# try rescaling radius to kpc\n",
    "\n",
    "\n",
    "# chheck for ways to reduce overfitting maxdepth in decision tree\n",
    "# ned look at photoz with wise"
   ]
  },
  {
   "cell_type": "markdown",
   "metadata": {},
   "source": [
    "# Model training"
   ]
  },
  {
   "cell_type": "code",
   "execution_count": 21,
   "metadata": {},
   "outputs": [
    {
     "name": "stdout",
     "output_type": "stream",
     "text": [
      "LR: 0.500000 (0.000000)\n",
      "LDA: 0.499067 (0.001616)\n",
      "KNN: 0.499067 (0.001616)\n",
      "CART: 0.526790 (0.076732)\n",
      "NB: 0.498134 (0.001866)\n",
      "SVM: 0.500000 (0.000000)\n",
      "GP: 0.499067 (0.001616)\n",
      "RF: 0.498134 (0.003231)\n",
      "MLP: 0.663118 (0.138189)\n",
      "PRCP: 0.489746 (0.015696)\n"
     ]
    }
   ],
   "source": [
    "# Spot Check Algorithms\n",
    "random_state = 2020\n",
    "models = []\n",
    "models.append(('LR', LogisticRegression(random_state = 2020,solver='liblinear', multi_class='ovr')))\n",
    "models.append(('LDA', LinearDiscriminantAnalysis()))\n",
    "models.append(('KNN', KNeighborsClassifier()))\n",
    "models.append(('CART',DecisionTreeClassifier()))\n",
    "models.append(('NB', GaussianNB()))\n",
    "models.append(('SVM', SVC(random_state = 2020,gamma='auto')))\n",
    "models.append(('GP', GaussianProcessClassifier(random_state = 2020)))\n",
    "models.append(('RF', RandomForestClassifier(random_state = 2020,max_depth=None, n_estimators=100, max_features= 'auto')))\n",
    "models.append(('MLP', MLPClassifier(random_state = 2020,activation='relu', solver='lbfgs', max_iter=1000,hidden_layer_sizes=(1500,1000,500))))\n",
    "models.append(('PRCP', Perceptron(random_state = 2020, max_iter=30, tol = 0.001)))\n",
    "# evaluate each model in turn\n",
    "results = []\n",
    "names = []\n",
    "for name, model in models:\n",
    "\tkfold = StratifiedKFold(n_splits=4, random_state=2020, shuffle=True)\n",
    "\tcv_results = cross_val_score(model, X, y, cv=kfold, scoring='balanced_accuracy')\n",
    "\tresults.append(cv_results)\n",
    "\tnames.append(name)\n",
    "\tprint('%s: %f (%f)' % (name, cv_results.mean(), cv_results.std()))\n",
    "# try neural network"
   ]
  },
  {
   "cell_type": "code",
   "execution_count": 23,
   "metadata": {},
   "outputs": [],
   "source": [
    "# # voting methods application\n",
    "# clf1 = LogisticRegression(random_state = 2020,solver='liblinear', multi_class='ovr')\n",
    "# clf2 = LinearDiscriminantAnalysis()\n",
    "# clf3 = KNeighborsClassifier()\n",
    "# clf4 = DecisionTreeClassifier()\n",
    "# clf5 = GaussianNB()\n",
    "# clf6 = GaussianProcessClassifier(random_state = 2020)\n",
    "# clf7 = SVC(random_state = 2020,gamma='auto')\n",
    "# clf8 = RandomForestClassifier(random_state = 2020,max_depth=None, n_estimators=100, max_features= 'auto')\n",
    "# clf9 = MLPClassifier(random_state = 2020, activation='relu', solver='lbfgs', max_iter=100000)\n",
    "# clf10 = Perceptron(random_state = 2020, max_iter=30, tol = 0.001)\n",
    "\n",
    "# eclf1 = VotingClassifier(estimators=[('SVM', clf7), ('MLP', clf9)], voting='hard')\n",
    "# eclf1.fit(X, y)\n",
    "# eclf_predict = eclf1.predict(X)"
   ]
  },
  {
   "cell_type": "code",
   "execution_count": 22,
   "metadata": {},
   "outputs": [],
   "source": [
    "clf = MLPClassifier(random_state = 2020,activation='relu', solver='lbfgs', max_iter=1000,hidden_layer_sizes=(1500,1000,500))\n",
    "clf.fit(X,y)\n",
    "clf_predict = clf.predict(X)"
   ]
  },
  {
   "cell_type": "code",
   "execution_count": 24,
   "metadata": {},
   "outputs": [],
   "source": [
    "# # save the model\n",
    "# dump(eclf1, open('voting_model_PCA_v1_dr7.pkl', 'wb'))\n",
    "# # save the scaler\n",
    "# dump(scaler, open('scaler_voting_model_PCA_v1_dr7.pkl', 'wb'))\n",
    "# # save the pca\n",
    "# dump(pca, open('pca_model_PCA_v1_dr7.pkl', 'wb'))"
   ]
  },
  {
   "cell_type": "code",
   "execution_count": 23,
   "metadata": {},
   "outputs": [],
   "source": [
    "plt.rcParams.update({'font.size': 20})"
   ]
  },
  {
   "cell_type": "code",
   "execution_count": 24,
   "metadata": {},
   "outputs": [
    {
     "data": {
      "image/png": "[encoded data removed]",
      "text/plain": [
       "<Figure size 792x792 with 1 Axes>"
      ]
     },
     "metadata": {
      "needs_background": "light"
     },
     "output_type": "display_data"
    }
   ],
   "source": [
    "fig1 = plt.figure(figsize=(11,11))\n",
    "g = sns.heatmap(confusion_matrix(y, clf_predict), square=True, annot=True, fmt=\"d\", cbar=False, xticklabels=['Contaminants', 'Compact Galaxies'], yticklabels=['Contaminants', 'Compact Galaxies'])\n",
    "g.set_yticklabels(labels=g.get_yticklabels(), va='center')\n",
    "plt.xlabel('predicted class')\n",
    "plt.ylabel('true class')\n",
    "plt.title('classifications')\n",
    "plt.tick_params('both', length=10, width=1.2, which='major', labelsize=20)\n",
    "plt.savefig('confusion_matrix.png')"
   ]
  },
  {
   "cell_type": "markdown",
   "metadata": {},
   "source": [
    "# Model application on Atlas3D galaxies"
   ]
  },
  {
   "cell_type": "code",
   "execution_count": 25,
   "metadata": {},
   "outputs": [
    {
     "name": "stdout",
     "output_type": "stream",
     "text": [
      "['objid', 'ra', 'dec', 'g-i', 'u-g', 'u-z', 'g-z', 'g-r', 'z-w1', 'z-w2', 'z-w3', 'z-w4', 'concentration_index', 'photo_z', 'frac_dev', 'host_galaxy', 'distance', 'axis_ratio', 'category', 'radius', 'magnitude', 'u_mag', 'g_mag', 'i_mag', 'r_mag', 'z_mag', 'w1', 'w2', 'w3', 'w4', 'link']\n"
     ]
    }
   ],
   "source": [
    "df_atlas3d = pd.read_csv(\"atlas3d_search_dr16.csv\")\n",
    "columnsNamesArr = df_atlas3d.columns.values\n",
    "column_names = list(columnsNamesArr)\n",
    "print(column_names[1:])"
   ]
  },
  {
   "cell_type": "code",
   "execution_count": 26,
   "metadata": {},
   "outputs": [],
   "source": [
    "objid = df_atlas3d['objid']\n",
    "ra, dec = df_atlas3d['ra'], df_atlas3d['dec']\n",
    "host_galaxy = df_atlas3d['host_galaxy']\n",
    "distance = df_atlas3d['distance']\n",
    "magnitude = df_atlas3d['magnitude']\n",
    "category = df_atlas3d['category']\n",
    "radius = df_atlas3d['radius']\n",
    "u_mag, g_mag, r_mag, i_mag, z_mag = df_atlas3d['u_mag'], df_atlas3d['g_mag'], df_atlas3d['r_mag'], df_atlas3d['i_mag'], df_atlas3d['z_mag']\n",
    "concentration_index = df_atlas3d['concentration_index']\n",
    "frac_dev = df_atlas3d['frac_dev']\n",
    "axis_ratio = df_atlas3d['axis_ratio']\n",
    "photoz = df_atlas3d['photo_z']\n",
    "category = df_atlas3d['category']\n",
    "g_i, u_g, u_z, g_z, g_r = df_atlas3d['g-i'], df_atlas3d['u-g'], df_atlas3d['u-z'], df_atlas3d['g-z'], df_atlas3d['g-r']\n",
    "magnitude = df_atlas3d['magnitude']\n",
    "radius = df_atlas3d['radius']\n",
    "z_w1, z_w2, z_w3, z_w4 = df_atlas3d['z-w1'], df_atlas3d['z-w2'], df_atlas3d['z-w3'], df_atlas3d['z-w4']\n",
    "w1, w2, w3, w4 = df_atlas3d['w1'], df_atlas3d['w2'], df_atlas3d['w3'], df_atlas3d['w4']"
   ]
  },
  {
   "cell_type": "code",
   "execution_count": 27,
   "metadata": {},
   "outputs": [
    {
     "name": "stderr",
     "output_type": "stream",
     "text": [
      "C:\\Users\\Home\\AppData\\Local\\Temp/ipykernel_5948/2455194359.py:1: SettingWithCopyWarning: \n",
      "A value is trying to be set on a copy of a slice from a DataFrame\n",
      "\n",
      "See the caveats in the documentation: https://pandas.pydata.org/pandas-docs/stable/user_guide/indexing.html#returning-a-view-versus-a-copy\n",
      "  category[category == 'Possible contaminants'] = 'Possible compact galaxies'\n"
     ]
    }
   ],
   "source": [
    "category[category == 'Possible contaminants'] = 'Possible compact galaxies'"
   ]
  },
  {
   "cell_type": "code",
   "execution_count": 28,
   "metadata": {},
   "outputs": [],
   "source": [
    "#make a link to sdss for this object\n",
    "objid = np.array(objid)\n",
    "link = []\n",
    "for i in range(len(objid)):\n",
    "    url = 'http://skyserver.sdss.org/dr16/en/tools/explore/Summary.aspx?id=' + str(objid[i])\n",
    "    link.append(url)\n",
    "link = np.array(link)"
   ]
  },
  {
   "cell_type": "code",
   "execution_count": 29,
   "metadata": {},
   "outputs": [
    {
     "name": "stdout",
     "output_type": "stream",
     "text": [
      "category\n",
      "Known galaxies                  13\n",
      "Possible compact galaxies    16832\n",
      "dtype: int64\n"
     ]
    }
   ],
   "source": [
    "print(df_atlas3d.groupby('category').size())"
   ]
  },
  {
   "cell_type": "code",
   "execution_count": 30,
   "metadata": {},
   "outputs": [],
   "source": [
    "#PCA\n",
    "X = df_atlas3d.loc[:,features].values\n",
    "X_scaled = scaler.transform(X)\n",
    "X_pca_scaled = pca.transform(X_scaled)\n",
    "y = clf.predict(X_pca_scaled) "
   ]
  },
  {
   "cell_type": "code",
   "execution_count": 31,
   "metadata": {},
   "outputs": [],
   "source": [
    "# #Scaled\n",
    "# X = df_atlas3d.loc[:,features].values\n",
    "# X_scaled = scaler.transform(X)\n",
    "# # X_pca_scaled = pca.transform(X_scaled)\n",
    "# y = eclf1.predict(X_scaled) "
   ]
  },
  {
   "cell_type": "code",
   "execution_count": 32,
   "metadata": {},
   "outputs": [],
   "source": [
    "# #Raw\n",
    "# X = df_atlas3d.loc[:,features].values\n",
    "# # X_scaled = scaler.transform(X)\n",
    "# # X_pca_scaled = pca.transform(X_scaled)\n",
    "# y = eclf1.predict(X) "
   ]
  },
  {
   "cell_type": "code",
   "execution_count": 33,
   "metadata": {},
   "outputs": [
    {
     "name": "stdout",
     "output_type": "stream",
     "text": [
      "Voting method: 199\n"
     ]
    }
   ],
   "source": [
    "index_1a = np.where(y == 1)[0]\n",
    "print('Voting method:', len(index_1a))\n",
    "index_1b = np.where(y == 0)[0]"
   ]
  },
  {
   "cell_type": "code",
   "execution_count": 34,
   "metadata": {},
   "outputs": [],
   "source": [
    "# dictionary of lists  \n",
    "dict = {'objid': objid[index_1a], 'ra': ra[index_1a], 'dec': dec[index_1a], 'g-i': g_mag[index_1a] - i_mag[index_1a], 'u-g': u_mag[index_1a] - g_mag[index_1a], 'u-z': u_mag[index_1a] - z_mag[index_1a], 'g-z': g_mag[index_1a] - z_mag[index_1a], 'g-r': g_mag[index_1a] - r_mag[index_1a],'z-w1': z_w1[index_1a],'z-w2': z_w2[index_1a],'z-w3': z_w3[index_1a],'z-w4': z_w4[index_1a], 'concentration_index': concentration_index[index_1a], 'photo_z': photoz[index_1a], 'frac_dev': frac_dev[index_1a], 'host_galaxy': host_galaxy[index_1a], 'distance': distance[index_1a], 'axis_ratio': axis_ratio[index_1a], 'category': category[index_1a], 'radius': radius[index_1a], 'magnitude': magnitude[index_1a], 'u_mag': u_mag[index_1a], 'g_mag': g_mag[index_1a], 'i_mag': i_mag[index_1a], 'r_mag': r_mag[index_1a], 'z_mag': z_mag[index_1a],'w1': w1[index_1a],'w2': w2[index_1a],'w3': w3[index_1a],'w4': w4[index_1a] , 'link': link[index_1a]}   \n",
    "df_voting_results= pd.DataFrame(dict) \n",
    "    \n",
    "# saving the dataframe \n",
    "df_voting_results.to_csv('voting_results_v2.csv',index = False) "
   ]
  },
  {
   "cell_type": "code",
   "execution_count": 35,
   "metadata": {},
   "outputs": [
    {
     "name": "stdout",
     "output_type": "stream",
     "text": [
      "category\n",
      "Known galaxies                13\n",
      "Possible compact galaxies    186\n",
      "dtype: int64\n",
      "From a total of 871 host galaxies\n"
     ]
    }
   ],
   "source": [
    "print(df_voting_results.groupby('category').size())\n",
    "print('From a total of 871 host galaxies')"
   ]
  },
  {
   "cell_type": "markdown",
   "metadata": {},
   "source": [
    "# NED search for possible compact galaxies from "
   ]
  },
  {
   "cell_type": "code",
   "execution_count": 50,
   "metadata": {},
   "outputs": [],
   "source": [
    "objid_voting = df_voting_results['objid']\n",
    "ra_voting, dec_voting = np.array(df_voting_results['ra']), np.array(df_voting_results['dec'])\n",
    "host_galaxy_voting = df_voting_results['host_galaxy']\n",
    "distance_voting = df_voting_results['distance']\n",
    "magnitude_voting = df_voting_results['magnitude']\n",
    "category_voting = df_voting_results['category']\n",
    "radius_voting = df_voting_results['radius']\n",
    "u_mag_voting, g_mag_voting, r_mag_voting, i_mag_voting, z_mag_voting = df_voting_results['u_mag'], df_voting_results['g_mag'], df_voting_results['r_mag'], df_voting_results['i_mag'], df_voting_results['z_mag']\n",
    "concentration_index_voting = df_voting_results['concentration_index']\n",
    "frac_dev_voting = df_voting_results['frac_dev']\n",
    "axis_ratio_voting = df_voting_results['axis_ratio']\n",
    "photoz_voting = df_voting_results['photo_z']\n",
    "category_voting = df_voting_results['category']\n",
    "g_i_voting, u_g_voting, u_z_voting, g_z_voting, g_r_voting = df_voting_results['g-i'], df_voting_results['u-g'], df_voting_results['u-z'], df_voting_results['g-z'], df_voting_results['g-r']\n",
    "z_w1_voting, z_w2_voting, z_w3_voting, z_w4_voting = df_voting_results['z-w1'],df_voting_results['z-w2'],df_voting_results['z-w3'],df_voting_results['z-w4']\n",
    "w1_voting, w2_voting, w3_voting, w4_voting = df_voting_results['w1'],df_voting_results['w2'],df_voting_results['w3'],df_voting_results['w4']\n",
    "link_voting = df_voting_results['link']"
   ]
  },
  {
   "cell_type": "code",
   "execution_count": 51,
   "metadata": {},
   "outputs": [
    {
     "name": "stdout",
     "output_type": "stream",
     "text": [
      "0\n"
     ]
    },
    {
     "name": "stderr",
     "output_type": "stream",
     "text": [
      "WARNING: AstropyDeprecationWarning: \"pedantic\" was deprecated in version 5.0 and will be removed in a future version. Use argument \"verify\" instead. [astroquery.ned.core]\n"
     ]
    },
    {
     "name": "stdout",
     "output_type": "stream",
     "text": [
      "1\n"
     ]
    },
    {
     "name": "stderr",
     "output_type": "stream",
     "text": [
      "WARNING: AstropyDeprecationWarning: \"pedantic\" was deprecated in version 5.0 and will be removed in a future version. Use argument \"verify\" instead. [astroquery.ned.core]\n"
     ]
    },
    {
     "name": "stdout",
     "output_type": "stream",
     "text": [
      "2\n"
     ]
    },
    {
     "name": "stderr",
     "output_type": "stream",
     "text": [
      "WARNING: AstropyDeprecationWarning: \"pedantic\" was deprecated in version 5.0 and will be removed in a future version. Use argument \"verify\" instead. [astroquery.ned.core]\n"
     ]
    },
    {
     "name": "stdout",
     "output_type": "stream",
     "text": [
      "3\n"
     ]
    },
    {
     "name": "stderr",
     "output_type": "stream",
     "text": [
      "WARNING: AstropyDeprecationWarning: \"pedantic\" was deprecated in version 5.0 and will be removed in a future version. Use argument \"verify\" instead. [astroquery.ned.core]\n"
     ]
    },
    {
     "name": "stdout",
     "output_type": "stream",
     "text": [
      "4\n"
     ]
    },
    {
     "name": "stderr",
     "output_type": "stream",
     "text": [
      "WARNING: AstropyDeprecationWarning: \"pedantic\" was deprecated in version 5.0 and will be removed in a future version. Use argument \"verify\" instead. [astroquery.ned.core]\n"
     ]
    },
    {
     "name": "stdout",
     "output_type": "stream",
     "text": [
      "5\n"
     ]
    },
    {
     "name": "stderr",
     "output_type": "stream",
     "text": [
      "WARNING: AstropyDeprecationWarning: \"pedantic\" was deprecated in version 5.0 and will be removed in a future version. Use argument \"verify\" instead. [astroquery.ned.core]\n"
     ]
    },
    {
     "name": "stdout",
     "output_type": "stream",
     "text": [
      "6\n"
     ]
    },
    {
     "name": "stderr",
     "output_type": "stream",
     "text": [
      "WARNING: AstropyDeprecationWarning: \"pedantic\" was deprecated in version 5.0 and will be removed in a future version. Use argument \"verify\" instead. [astroquery.ned.core]\n"
     ]
    },
    {
     "name": "stdout",
     "output_type": "stream",
     "text": [
      "7\n"
     ]
    },
    {
     "name": "stderr",
     "output_type": "stream",
     "text": [
      "WARNING: AstropyDeprecationWarning: \"pedantic\" was deprecated in version 5.0 and will be removed in a future version. Use argument \"verify\" instead. [astroquery.ned.core]\n"
     ]
    },
    {
     "name": "stdout",
     "output_type": "stream",
     "text": [
      "8\n"
     ]
    },
    {
     "name": "stderr",
     "output_type": "stream",
     "text": [
      "WARNING: AstropyDeprecationWarning: \"pedantic\" was deprecated in version 5.0 and will be removed in a future version. Use argument \"verify\" instead. [astroquery.ned.core]\n"
     ]
    },
    {
     "name": "stdout",
     "output_type": "stream",
     "text": [
      "9\n"
     ]
    },
    {
     "name": "stderr",
     "output_type": "stream",
     "text": [
      "WARNING: AstropyDeprecationWarning: \"pedantic\" was deprecated in version 5.0 and will be removed in a future version. Use argument \"verify\" instead. [astroquery.ned.core]\n"
     ]
    },
    {
     "name": "stdout",
     "output_type": "stream",
     "text": [
      "10\n"
     ]
    },
    {
     "name": "stderr",
     "output_type": "stream",
     "text": [
      "WARNING: AstropyDeprecationWarning: \"pedantic\" was deprecated in version 5.0 and will be removed in a future version. Use argument \"verify\" instead. [astroquery.ned.core]\n"
     ]
    },
    {
     "name": "stdout",
     "output_type": "stream",
     "text": [
      "11\n"
     ]
    },
    {
     "name": "stderr",
     "output_type": "stream",
     "text": [
      "WARNING: AstropyDeprecationWarning: \"pedantic\" was deprecated in version 5.0 and will be removed in a future version. Use argument \"verify\" instead. [astroquery.ned.core]\n"
     ]
    },
    {
     "name": "stdout",
     "output_type": "stream",
     "text": [
      "12\n"
     ]
    },
    {
     "name": "stderr",
     "output_type": "stream",
     "text": [
      "WARNING: AstropyDeprecationWarning: \"pedantic\" was deprecated in version 5.0 and will be removed in a future version. Use argument \"verify\" instead. [astroquery.ned.core]\n"
     ]
    },
    {
     "name": "stdout",
     "output_type": "stream",
     "text": [
      "13\n"
     ]
    },
    {
     "name": "stderr",
     "output_type": "stream",
     "text": [
      "WARNING: AstropyDeprecationWarning: \"pedantic\" was deprecated in version 5.0 and will be removed in a future version. Use argument \"verify\" instead. [astroquery.ned.core]\n"
     ]
    },
    {
     "name": "stdout",
     "output_type": "stream",
     "text": [
      "14\n"
     ]
    },
    {
     "name": "stderr",
     "output_type": "stream",
     "text": [
      "WARNING: AstropyDeprecationWarning: \"pedantic\" was deprecated in version 5.0 and will be removed in a future version. Use argument \"verify\" instead. [astroquery.ned.core]\n"
     ]
    },
    {
     "name": "stdout",
     "output_type": "stream",
     "text": [
      "15\n"
     ]
    },
    {
     "name": "stderr",
     "output_type": "stream",
     "text": [
      "WARNING: AstropyDeprecationWarning: \"pedantic\" was deprecated in version 5.0 and will be removed in a future version. Use argument \"verify\" instead. [astroquery.ned.core]\n"
     ]
    },
    {
     "name": "stdout",
     "output_type": "stream",
     "text": [
      "16\n"
     ]
    },
    {
     "name": "stderr",
     "output_type": "stream",
     "text": [
      "WARNING: AstropyDeprecationWarning: \"pedantic\" was deprecated in version 5.0 and will be removed in a future version. Use argument \"verify\" instead. [astroquery.ned.core]\n"
     ]
    },
    {
     "name": "stdout",
     "output_type": "stream",
     "text": [
      "17\n"
     ]
    },
    {
     "name": "stderr",
     "output_type": "stream",
     "text": [
      "WARNING: AstropyDeprecationWarning: \"pedantic\" was deprecated in version 5.0 and will be removed in a future version. Use argument \"verify\" instead. [astroquery.ned.core]\n",
      "WARNING"
     ]
    },
    {
     "name": "stdout",
     "output_type": "stream",
     "text": [
      "18\n"
     ]
    },
    {
     "name": "stderr",
     "output_type": "stream",
     "text": [
      ": AstropyDeprecationWarning: \"pedantic\" was deprecated in version 5.0 and will be removed in a future version. Use argument \"verify\" instead. [astroquery.ned.core]\n"
     ]
    },
    {
     "name": "stdout",
     "output_type": "stream",
     "text": [
      "19\n"
     ]
    },
    {
     "name": "stderr",
     "output_type": "stream",
     "text": [
      "WARNING: AstropyDeprecationWarning: \"pedantic\" was deprecated in version 5.0 and will be removed in a future version. Use argument \"verify\" instead. [astroquery.ned.core]\n"
     ]
    },
    {
     "name": "stdout",
     "output_type": "stream",
     "text": [
      "20\n"
     ]
    },
    {
     "name": "stderr",
     "output_type": "stream",
     "text": [
      "WARNING: AstropyDeprecationWarning: \"pedantic\" was deprecated in version 5.0 and will be removed in a future version. Use argument \"verify\" instead. [astroquery.ned.core]\n"
     ]
    },
    {
     "name": "stdout",
     "output_type": "stream",
     "text": [
      "21\n"
     ]
    },
    {
     "name": "stderr",
     "output_type": "stream",
     "text": [
      "WARNING: AstropyDeprecationWarning: \"pedantic\" was deprecated in version 5.0 and will be removed in a future version. Use argument \"verify\" instead. [astroquery.ned.core]\n",
      "WARNING: AstropyDeprecationWarning: \"pedantic\" was deprecated in version 5.0 and will be removed in a future version. Use argument \"verify\" instead. [astroquery.ned.core]\n"
     ]
    },
    {
     "name": "stdout",
     "output_type": "stream",
     "text": [
      "22\n",
      "23\n"
     ]
    },
    {
     "name": "stderr",
     "output_type": "stream",
     "text": [
      "WARNING: AstropyDeprecationWarning: \"pedantic\" was deprecated in version 5.0 and will be removed in a future version. Use argument \"verify\" instead. [astroquery.ned.core]\n"
     ]
    },
    {
     "name": "stdout",
     "output_type": "stream",
     "text": [
      "24\n"
     ]
    },
    {
     "name": "stderr",
     "output_type": "stream",
     "text": [
      "WARNING: AstropyDeprecationWarning: \"pedantic\" was deprecated in version 5.0 and will be removed in a future version. Use argument \"verify\" instead. [astroquery.ned.core]\n"
     ]
    },
    {
     "name": "stdout",
     "output_type": "stream",
     "text": [
      "25\n"
     ]
    },
    {
     "name": "stderr",
     "output_type": "stream",
     "text": [
      "WARNING: AstropyDeprecationWarning: \"pedantic\" was deprecated in version 5.0 and will be removed in a future version. Use argument \"verify\" instead. [astroquery.ned.core]\n"
     ]
    },
    {
     "name": "stdout",
     "output_type": "stream",
     "text": [
      "26\n"
     ]
    },
    {
     "name": "stderr",
     "output_type": "stream",
     "text": [
      "WARNING: AstropyDeprecationWarning: \"pedantic\" was deprecated in version 5.0 and will be removed in a future version. Use argument \"verify\" instead. [astroquery.ned.core]\n"
     ]
    },
    {
     "name": "stdout",
     "output_type": "stream",
     "text": [
      "27\n"
     ]
    },
    {
     "name": "stderr",
     "output_type": "stream",
     "text": [
      "WARNING: AstropyDeprecationWarning: \"pedantic\" was deprecated in version 5.0 and will be removed in a future version. Use argument \"verify\" instead. [astroquery.ned.core]\n"
     ]
    },
    {
     "name": "stdout",
     "output_type": "stream",
     "text": [
      "28\n"
     ]
    },
    {
     "name": "stderr",
     "output_type": "stream",
     "text": [
      "WARNING: AstropyDeprecationWarning: \"pedantic\" was deprecated in version 5.0 and will be removed in a future version. Use argument \"verify\" instead. [astroquery.ned.core]\n"
     ]
    },
    {
     "name": "stdout",
     "output_type": "stream",
     "text": [
      "29\n"
     ]
    },
    {
     "name": "stderr",
     "output_type": "stream",
     "text": [
      "WARNING: AstropyDeprecationWarning: \"pedantic\" was deprecated in version 5.0 and will be removed in a future version. Use argument \"verify\" instead. [astroquery.ned.core]\n"
     ]
    },
    {
     "name": "stdout",
     "output_type": "stream",
     "text": [
      "30\n"
     ]
    },
    {
     "name": "stderr",
     "output_type": "stream",
     "text": [
      "WARNING: AstropyDeprecationWarning: \"pedantic\" was deprecated in version 5.0 and will be removed in a future version. Use argument \"verify\" instead. [astroquery.ned.core]\n"
     ]
    },
    {
     "name": "stdout",
     "output_type": "stream",
     "text": [
      "31\n"
     ]
    },
    {
     "name": "stderr",
     "output_type": "stream",
     "text": [
      "WARNING: AstropyDeprecationWarning: \"pedantic\" was deprecated in version 5.0 and will be removed in a future version. Use argument \"verify\" instead. [astroquery.ned.core]\n"
     ]
    },
    {
     "name": "stdout",
     "output_type": "stream",
     "text": [
      "32\n"
     ]
    },
    {
     "name": "stderr",
     "output_type": "stream",
     "text": [
      "WARNING: AstropyDeprecationWarning: \"pedantic\" was deprecated in version 5.0 and will be removed in a future version. Use argument \"verify\" instead. [astroquery.ned.core]\n"
     ]
    },
    {
     "name": "stdout",
     "output_type": "stream",
     "text": [
      "33\n"
     ]
    },
    {
     "name": "stderr",
     "output_type": "stream",
     "text": [
      "WARNING: AstropyDeprecationWarning: \"pedantic\" was deprecated in version 5.0 and will be removed in a future version. Use argument \"verify\" instead. [astroquery.ned.core]\n",
      "WARNING"
     ]
    },
    {
     "name": "stdout",
     "output_type": "stream",
     "text": [
      "34\n"
     ]
    },
    {
     "name": "stderr",
     "output_type": "stream",
     "text": [
      ": AstropyDeprecationWarning: \"pedantic\" was deprecated in version 5.0 and will be removed in a future version. Use argument \"verify\" instead. [astroquery.ned.core]\n"
     ]
    },
    {
     "name": "stdout",
     "output_type": "stream",
     "text": [
      "35\n"
     ]
    },
    {
     "name": "stderr",
     "output_type": "stream",
     "text": [
      "WARNING: AstropyDeprecationWarning: \"pedantic\" was deprecated in version 5.0 and will be removed in a future version. Use argument \"verify\" instead. [astroquery.ned.core]\n"
     ]
    },
    {
     "name": "stdout",
     "output_type": "stream",
     "text": [
      "36\n"
     ]
    },
    {
     "name": "stderr",
     "output_type": "stream",
     "text": [
      "WARNING: AstropyDeprecationWarning: \"pedantic\" was deprecated in version 5.0 and will be removed in a future version. Use argument \"verify\" instead. [astroquery.ned.core]\n"
     ]
    },
    {
     "name": "stdout",
     "output_type": "stream",
     "text": [
      "37\n"
     ]
    },
    {
     "name": "stderr",
     "output_type": "stream",
     "text": [
      "WARNING: AstropyDeprecationWarning: \"pedantic\" was deprecated in version 5.0 and will be removed in a future version. Use argument \"verify\" instead. [astroquery.ned.core]\n"
     ]
    },
    {
     "name": "stdout",
     "output_type": "stream",
     "text": [
      "38\n"
     ]
    },
    {
     "name": "stderr",
     "output_type": "stream",
     "text": [
      "WARNING: AstropyDeprecationWarning: \"pedantic\" was deprecated in version 5.0 and will be removed in a future version. Use argument \"verify\" instead. [astroquery.ned.core]\n"
     ]
    },
    {
     "name": "stdout",
     "output_type": "stream",
     "text": [
      "39\n"
     ]
    },
    {
     "name": "stderr",
     "output_type": "stream",
     "text": [
      "WARNING: AstropyDeprecationWarning: \"pedantic\" was deprecated in version 5.0 and will be removed in a future version. Use argument \"verify\" instead. [astroquery.ned.core]\n"
     ]
    },
    {
     "name": "stdout",
     "output_type": "stream",
     "text": [
      "40\n"
     ]
    },
    {
     "name": "stderr",
     "output_type": "stream",
     "text": [
      "WARNING: AstropyDeprecationWarning: \"pedantic\" was deprecated in version 5.0 and will be removed in a future version. Use argument \"verify\" instead. [astroquery.ned.core]\n"
     ]
    },
    {
     "name": "stdout",
     "output_type": "stream",
     "text": [
      "41\n"
     ]
    },
    {
     "name": "stderr",
     "output_type": "stream",
     "text": [
      "WARNING: AstropyDeprecationWarning: \"pedantic\" was deprecated in version 5.0 and will be removed in a future version. Use argument \"verify\" instead. [astroquery.ned.core]\n"
     ]
    },
    {
     "name": "stdout",
     "output_type": "stream",
     "text": [
      "42\n"
     ]
    },
    {
     "name": "stderr",
     "output_type": "stream",
     "text": [
      "WARNING: AstropyDeprecationWarning: \"pedantic\" was deprecated in version 5.0 and will be removed in a future version. Use argument \"verify\" instead. [astroquery.ned.core]\n"
     ]
    },
    {
     "name": "stdout",
     "output_type": "stream",
     "text": [
      "43\n"
     ]
    },
    {
     "name": "stderr",
     "output_type": "stream",
     "text": [
      "WARNING: AstropyDeprecationWarning: \"pedantic\" was deprecated in version 5.0 and will be removed in a future version. Use argument \"verify\" instead. [astroquery.ned.core]\n"
     ]
    },
    {
     "name": "stdout",
     "output_type": "stream",
     "text": [
      "44\n"
     ]
    },
    {
     "name": "stderr",
     "output_type": "stream",
     "text": [
      "WARNING: AstropyDeprecationWarning: \"pedantic\" was deprecated in version 5.0 and will be removed in a future version. Use argument \"verify\" instead. [astroquery.ned.core]\n"
     ]
    },
    {
     "name": "stdout",
     "output_type": "stream",
     "text": [
      "45\n"
     ]
    },
    {
     "name": "stderr",
     "output_type": "stream",
     "text": [
      "WARNING: AstropyDeprecationWarning: \"pedantic\" was deprecated in version 5.0 and will be removed in a future version. Use argument \"verify\" instead. [astroquery.ned.core]\n"
     ]
    },
    {
     "name": "stdout",
     "output_type": "stream",
     "text": [
      "46\n"
     ]
    },
    {
     "name": "stderr",
     "output_type": "stream",
     "text": [
      "WARNING: AstropyDeprecationWarning: \"pedantic\" was deprecated in version 5.0 and will be removed in a future version. Use argument \"verify\" instead. [astroquery.ned.core]\n"
     ]
    },
    {
     "name": "stdout",
     "output_type": "stream",
     "text": [
      "47\n"
     ]
    },
    {
     "name": "stderr",
     "output_type": "stream",
     "text": [
      "WARNING: AstropyDeprecationWarning: \"pedantic\" was deprecated in version 5.0 and will be removed in a future version. Use argument \"verify\" instead. [astroquery.ned.core]\n"
     ]
    },
    {
     "name": "stdout",
     "output_type": "stream",
     "text": [
      "48\n"
     ]
    },
    {
     "name": "stderr",
     "output_type": "stream",
     "text": [
      "WARNING: AstropyDeprecationWarning: \"pedantic\" was deprecated in version 5.0 and will be removed in a future version. Use argument \"verify\" instead. [astroquery.ned.core]\n"
     ]
    },
    {
     "name": "stdout",
     "output_type": "stream",
     "text": [
      "49\n"
     ]
    },
    {
     "name": "stderr",
     "output_type": "stream",
     "text": [
      "WARNING: AstropyDeprecationWarning: \"pedantic\" was deprecated in version 5.0 and will be removed in a future version. Use argument \"verify\" instead. [astroquery.ned.core]\n"
     ]
    },
    {
     "name": "stdout",
     "output_type": "stream",
     "text": [
      "50\n"
     ]
    },
    {
     "name": "stderr",
     "output_type": "stream",
     "text": [
      "WARNING: AstropyDeprecationWarning: \"pedantic\" was deprecated in version 5.0 and will be removed in a future version. Use argument \"verify\" instead. [astroquery.ned.core]\n"
     ]
    },
    {
     "name": "stdout",
     "output_type": "stream",
     "text": [
      "51\n"
     ]
    },
    {
     "name": "stderr",
     "output_type": "stream",
     "text": [
      "WARNING: AstropyDeprecationWarning: \"pedantic\" was deprecated in version 5.0 and will be removed in a future version. Use argument \"verify\" instead. [astroquery.ned.core]\n"
     ]
    },
    {
     "name": "stdout",
     "output_type": "stream",
     "text": [
      "52\n"
     ]
    },
    {
     "name": "stderr",
     "output_type": "stream",
     "text": [
      "WARNING: AstropyDeprecationWarning: \"pedantic\" was deprecated in version 5.0 and will be removed in a future version. Use argument \"verify\" instead. [astroquery.ned.core]\n"
     ]
    },
    {
     "name": "stdout",
     "output_type": "stream",
     "text": [
      "53\n"
     ]
    },
    {
     "name": "stderr",
     "output_type": "stream",
     "text": [
      "WARNING: AstropyDeprecationWarning: \"pedantic\" was deprecated in version 5.0 and will be removed in a future version. Use argument \"verify\" instead. [astroquery.ned.core]\n"
     ]
    },
    {
     "name": "stdout",
     "output_type": "stream",
     "text": [
      "54\n"
     ]
    },
    {
     "name": "stderr",
     "output_type": "stream",
     "text": [
      "WARNING: AstropyDeprecationWarning: \"pedantic\" was deprecated in version 5.0 and will be removed in a future version. Use argument \"verify\" instead. [astroquery.ned.core]\n"
     ]
    },
    {
     "name": "stdout",
     "output_type": "stream",
     "text": [
      "55\n"
     ]
    },
    {
     "name": "stderr",
     "output_type": "stream",
     "text": [
      "WARNING: AstropyDeprecationWarning: \"pedantic\" was deprecated in version 5.0 and will be removed in a future version. Use argument \"verify\" instead. [astroquery.ned.core]\n"
     ]
    },
    {
     "name": "stdout",
     "output_type": "stream",
     "text": [
      "56\n"
     ]
    },
    {
     "name": "stderr",
     "output_type": "stream",
     "text": [
      "WARNING: AstropyDeprecationWarning: \"pedantic\" was deprecated in version 5.0 and will be removed in a future version. Use argument \"verify\" instead. [astroquery.ned.core]\n"
     ]
    },
    {
     "name": "stdout",
     "output_type": "stream",
     "text": [
      "57\n"
     ]
    },
    {
     "name": "stderr",
     "output_type": "stream",
     "text": [
      "WARNING: AstropyDeprecationWarning: \"pedantic\" was deprecated in version 5.0 and will be removed in a future version. Use argument \"verify\" instead. [astroquery.ned.core]\n"
     ]
    },
    {
     "name": "stdout",
     "output_type": "stream",
     "text": [
      "58\n"
     ]
    },
    {
     "name": "stderr",
     "output_type": "stream",
     "text": [
      "WARNING: AstropyDeprecationWarning: \"pedantic\" was deprecated in version 5.0 and will be removed in a future version. Use argument \"verify\" instead. [astroquery.ned.core]\n",
      "WARNING"
     ]
    },
    {
     "name": "stdout",
     "output_type": "stream",
     "text": [
      "59\n",
      "60\n"
     ]
    },
    {
     "name": "stderr",
     "output_type": "stream",
     "text": [
      ": AstropyDeprecationWarning: \"pedantic\" was deprecated in version 5.0 and will be removed in a future version. Use argument \"verify\" instead. [astroquery.ned.core]\n",
      "WARNING: AstropyDeprecationWarning: \"pedantic\" was deprecated in version 5.0 and will be removed in a future version. Use argument \"verify\" instead. [astroquery.ned.core]\n",
      "WARNING: AstropyDeprecationWarning: \"pedantic\" was deprecated in version 5.0 and will be removed in a future version. Use argument \"verify\" instead. [astroquery.ned.core]\n"
     ]
    },
    {
     "name": "stdout",
     "output_type": "stream",
     "text": [
      "61\n",
      "62\n"
     ]
    },
    {
     "name": "stderr",
     "output_type": "stream",
     "text": [
      "WARNING: AstropyDeprecationWarning: \"pedantic\" was deprecated in version 5.0 and will be removed in a future version. Use argument \"verify\" instead. [astroquery.ned.core]\n"
     ]
    },
    {
     "name": "stdout",
     "output_type": "stream",
     "text": [
      "63\n"
     ]
    },
    {
     "name": "stderr",
     "output_type": "stream",
     "text": [
      "WARNING: AstropyDeprecationWarning: \"pedantic\" was deprecated in version 5.0 and will be removed in a future version. Use argument \"verify\" instead. [astroquery.ned.core]\n"
     ]
    },
    {
     "name": "stdout",
     "output_type": "stream",
     "text": [
      "64\n"
     ]
    },
    {
     "name": "stderr",
     "output_type": "stream",
     "text": [
      "WARNING: AstropyDeprecationWarning: \"pedantic\" was deprecated in version 5.0 and will be removed in a future version. Use argument \"verify\" instead. [astroquery.ned.core]\n"
     ]
    },
    {
     "name": "stdout",
     "output_type": "stream",
     "text": [
      "65\n"
     ]
    },
    {
     "name": "stderr",
     "output_type": "stream",
     "text": [
      "WARNING: AstropyDeprecationWarning: \"pedantic\" was deprecated in version 5.0 and will be removed in a future version. Use argument \"verify\" instead. [astroquery.ned.core]\n"
     ]
    },
    {
     "name": "stdout",
     "output_type": "stream",
     "text": [
      "66\n"
     ]
    },
    {
     "name": "stderr",
     "output_type": "stream",
     "text": [
      "WARNING: AstropyDeprecationWarning: \"pedantic\" was deprecated in version 5.0 and will be removed in a future version. Use argument \"verify\" instead. [astroquery.ned.core]\n"
     ]
    },
    {
     "name": "stdout",
     "output_type": "stream",
     "text": [
      "67\n"
     ]
    },
    {
     "name": "stderr",
     "output_type": "stream",
     "text": [
      "WARNING: AstropyDeprecationWarning: \"pedantic\" was deprecated in version 5.0 and will be removed in a future version. Use argument \"verify\" instead. [astroquery.ned.core]\n"
     ]
    },
    {
     "name": "stdout",
     "output_type": "stream",
     "text": [
      "68\n"
     ]
    },
    {
     "name": "stderr",
     "output_type": "stream",
     "text": [
      "WARNING: AstropyDeprecationWarning: \"pedantic\" was deprecated in version 5.0 and will be removed in a future version. Use argument \"verify\" instead. [astroquery.ned.core]\n"
     ]
    },
    {
     "name": "stdout",
     "output_type": "stream",
     "text": [
      "69\n"
     ]
    },
    {
     "name": "stderr",
     "output_type": "stream",
     "text": [
      "WARNING: AstropyDeprecationWarning: \"pedantic\" was deprecated in version 5.0 and will be removed in a future version. Use argument \"verify\" instead. [astroquery.ned.core]\n"
     ]
    },
    {
     "name": "stdout",
     "output_type": "stream",
     "text": [
      "70\n"
     ]
    },
    {
     "name": "stderr",
     "output_type": "stream",
     "text": [
      "WARNING: AstropyDeprecationWarning: \"pedantic\" was deprecated in version 5.0 and will be removed in a future version. Use argument \"verify\" instead. [astroquery.ned.core]\n"
     ]
    },
    {
     "name": "stdout",
     "output_type": "stream",
     "text": [
      "71\n"
     ]
    },
    {
     "name": "stderr",
     "output_type": "stream",
     "text": [
      "WARNING: AstropyDeprecationWarning: \"pedantic\" was deprecated in version 5.0 and will be removed in a future version. Use argument \"verify\" instead. [astroquery.ned.core]\n"
     ]
    },
    {
     "name": "stdout",
     "output_type": "stream",
     "text": [
      "72\n"
     ]
    },
    {
     "name": "stderr",
     "output_type": "stream",
     "text": [
      "WARNING: AstropyDeprecationWarning: \"pedantic\" was deprecated in version 5.0 and will be removed in a future version. Use argument \"verify\" instead. [astroquery.ned.core]\n"
     ]
    },
    {
     "name": "stdout",
     "output_type": "stream",
     "text": [
      "73\n"
     ]
    },
    {
     "name": "stderr",
     "output_type": "stream",
     "text": [
      "WARNING: AstropyDeprecationWarning: \"pedantic\" was deprecated in version 5.0 and will be removed in a future version. Use argument \"verify\" instead. [astroquery.ned.core]\n"
     ]
    },
    {
     "name": "stdout",
     "output_type": "stream",
     "text": [
      "74\n"
     ]
    },
    {
     "name": "stderr",
     "output_type": "stream",
     "text": [
      "WARNING: AstropyDeprecationWarning: \"pedantic\" was deprecated in version 5.0 and will be removed in a future version. Use argument \"verify\" instead. [astroquery.ned.core]\n"
     ]
    },
    {
     "name": "stdout",
     "output_type": "stream",
     "text": [
      "75\n"
     ]
    },
    {
     "name": "stderr",
     "output_type": "stream",
     "text": [
      "WARNING: AstropyDeprecationWarning: \"pedantic\" was deprecated in version 5.0 and will be removed in a future version. Use argument \"verify\" instead. [astroquery.ned.core]\n"
     ]
    },
    {
     "name": "stdout",
     "output_type": "stream",
     "text": [
      "76\n"
     ]
    },
    {
     "name": "stderr",
     "output_type": "stream",
     "text": [
      "WARNING: AstropyDeprecationWarning: \"pedantic\" was deprecated in version 5.0 and will be removed in a future version. Use argument \"verify\" instead. [astroquery.ned.core]\n"
     ]
    },
    {
     "name": "stdout",
     "output_type": "stream",
     "text": [
      "77\n"
     ]
    },
    {
     "name": "stderr",
     "output_type": "stream",
     "text": [
      "WARNING: AstropyDeprecationWarning: \"pedantic\" was deprecated in version 5.0 and will be removed in a future version. Use argument \"verify\" instead. [astroquery.ned.core]\n"
     ]
    },
    {
     "name": "stdout",
     "output_type": "stream",
     "text": [
      "78\n"
     ]
    },
    {
     "name": "stderr",
     "output_type": "stream",
     "text": [
      "WARNING: AstropyDeprecationWarning: \"pedantic\" was deprecated in version 5.0 and will be removed in a future version. Use argument \"verify\" instead. [astroquery.ned.core]\n"
     ]
    },
    {
     "name": "stdout",
     "output_type": "stream",
     "text": [
      "79\n"
     ]
    },
    {
     "name": "stderr",
     "output_type": "stream",
     "text": [
      "WARNING: AstropyDeprecationWarning: \"pedantic\" was deprecated in version 5.0 and will be removed in a future version. Use argument \"verify\" instead. [astroquery.ned.core]\n"
     ]
    },
    {
     "name": "stdout",
     "output_type": "stream",
     "text": [
      "80\n"
     ]
    },
    {
     "name": "stderr",
     "output_type": "stream",
     "text": [
      "WARNING: AstropyDeprecationWarning: \"pedantic\" was deprecated in version 5.0 and will be removed in a future version. Use argument \"verify\" instead. [astroquery.ned.core]\n"
     ]
    },
    {
     "name": "stdout",
     "output_type": "stream",
     "text": [
      "81\n"
     ]
    },
    {
     "name": "stderr",
     "output_type": "stream",
     "text": [
      "WARNING: AstropyDeprecationWarning: \"pedantic\" was deprecated in version 5.0 and will be removed in a future version. Use argument \"verify\" instead. [astroquery.ned.core]\n"
     ]
    },
    {
     "name": "stdout",
     "output_type": "stream",
     "text": [
      "82\n"
     ]
    },
    {
     "name": "stderr",
     "output_type": "stream",
     "text": [
      "WARNING: AstropyDeprecationWarning: \"pedantic\" was deprecated in version 5.0 and will be removed in a future version. Use argument \"verify\" instead. [astroquery.ned.core]\n"
     ]
    },
    {
     "name": "stdout",
     "output_type": "stream",
     "text": [
      "83\n"
     ]
    },
    {
     "name": "stderr",
     "output_type": "stream",
     "text": [
      "WARNING: AstropyDeprecationWarning: \"pedantic\" was deprecated in version 5.0 and will be removed in a future version. Use argument \"verify\" instead. [astroquery.ned.core]\n",
      "WARNING: AstropyDeprecationWarning: \"pedantic\" was deprecated in version 5.0 and will be removed in a future version. Use argument \"verify\" instead. [astroquery.ned.core]\n"
     ]
    },
    {
     "name": "stdout",
     "output_type": "stream",
     "text": [
      "84\n",
      "85"
     ]
    },
    {
     "name": "stderr",
     "output_type": "stream",
     "text": [
      "WARNING: AstropyDeprecationWarning: \"pedantic\" was deprecated in version 5.0 and will be removed in a future version. Use argument \"verify\" instead. [astroquery.ned.core]\n"
     ]
    },
    {
     "name": "stdout",
     "output_type": "stream",
     "text": [
      "\n",
      "86\n"
     ]
    },
    {
     "name": "stderr",
     "output_type": "stream",
     "text": [
      "WARNING: AstropyDeprecationWarning: \"pedantic\" was deprecated in version 5.0 and will be removed in a future version. Use argument \"verify\" instead. [astroquery.ned.core]\n"
     ]
    },
    {
     "name": "stdout",
     "output_type": "stream",
     "text": [
      "87\n"
     ]
    },
    {
     "name": "stderr",
     "output_type": "stream",
     "text": [
      "WARNING: AstropyDeprecationWarning: \"pedantic\" was deprecated in version 5.0 and will be removed in a future version. Use argument \"verify\" instead. [astroquery.ned.core]\n"
     ]
    },
    {
     "name": "stdout",
     "output_type": "stream",
     "text": [
      "88\n"
     ]
    },
    {
     "name": "stderr",
     "output_type": "stream",
     "text": [
      "WARNING: AstropyDeprecationWarning: \"pedantic\" was deprecated in version 5.0 and will be removed in a future version. Use argument \"verify\" instead. [astroquery.ned.core]\n"
     ]
    },
    {
     "name": "stdout",
     "output_type": "stream",
     "text": [
      "89\n"
     ]
    },
    {
     "name": "stderr",
     "output_type": "stream",
     "text": [
      "WARNING: AstropyDeprecationWarning: \"pedantic\" was deprecated in version 5.0 and will be removed in a future version. Use argument \"verify\" instead. [astroquery.ned.core]\n",
      "WARNING"
     ]
    },
    {
     "name": "stdout",
     "output_type": "stream",
     "text": [
      "90\n"
     ]
    },
    {
     "name": "stderr",
     "output_type": "stream",
     "text": [
      ": AstropyDeprecationWarning: \"pedantic\" was deprecated in version 5.0 and will be removed in a future version. Use argument \"verify\" instead. [astroquery.ned.core]\n",
      "WARNING"
     ]
    },
    {
     "name": "stdout",
     "output_type": "stream",
     "text": [
      "91\n"
     ]
    },
    {
     "name": "stderr",
     "output_type": "stream",
     "text": [
      ": AstropyDeprecationWarning: \"pedantic\" was deprecated in version 5.0 and will be removed in a future version. Use argument \"verify\" instead. [astroquery.ned.core]\n",
      "WARNING"
     ]
    },
    {
     "name": "stdout",
     "output_type": "stream",
     "text": [
      "92\n"
     ]
    },
    {
     "name": "stderr",
     "output_type": "stream",
     "text": [
      ": AstropyDeprecationWarning: \"pedantic\" was deprecated in version 5.0 and will be removed in a future version. Use argument \"verify\" instead. [astroquery.ned.core]\n"
     ]
    },
    {
     "name": "stdout",
     "output_type": "stream",
     "text": [
      "93\n"
     ]
    },
    {
     "name": "stderr",
     "output_type": "stream",
     "text": [
      "WARNING: AstropyDeprecationWarning: \"pedantic\" was deprecated in version 5.0 and will be removed in a future version. Use argument \"verify\" instead. [astroquery.ned.core]\n"
     ]
    },
    {
     "name": "stdout",
     "output_type": "stream",
     "text": [
      "94\n"
     ]
    },
    {
     "name": "stderr",
     "output_type": "stream",
     "text": [
      "WARNING: AstropyDeprecationWarning: \"pedantic\" was deprecated in version 5.0 and will be removed in a future version. Use argument \"verify\" instead. [astroquery.ned.core]\n"
     ]
    },
    {
     "name": "stdout",
     "output_type": "stream",
     "text": [
      "95\n"
     ]
    },
    {
     "name": "stderr",
     "output_type": "stream",
     "text": [
      "WARNING: AstropyDeprecationWarning: \"pedantic\" was deprecated in version 5.0 and will be removed in a future version. Use argument \"verify\" instead. [astroquery.ned.core]\n"
     ]
    },
    {
     "name": "stdout",
     "output_type": "stream",
     "text": [
      "96\n"
     ]
    },
    {
     "name": "stderr",
     "output_type": "stream",
     "text": [
      "WARNING: AstropyDeprecationWarning: \"pedantic\" was deprecated in version 5.0 and will be removed in a future version. Use argument \"verify\" instead. [astroquery.ned.core]\n"
     ]
    },
    {
     "name": "stdout",
     "output_type": "stream",
     "text": [
      "97\n"
     ]
    },
    {
     "name": "stderr",
     "output_type": "stream",
     "text": [
      "WARNING: AstropyDeprecationWarning: \"pedantic\" was deprecated in version 5.0 and will be removed in a future version. Use argument \"verify\" instead. [astroquery.ned.core]\n"
     ]
    },
    {
     "name": "stdout",
     "output_type": "stream",
     "text": [
      "98\n"
     ]
    },
    {
     "name": "stderr",
     "output_type": "stream",
     "text": [
      "WARNING: AstropyDeprecationWarning: \"pedantic\" was deprecated in version 5.0 and will be removed in a future version. Use argument \"verify\" instead. [astroquery.ned.core]\n"
     ]
    },
    {
     "name": "stdout",
     "output_type": "stream",
     "text": [
      "99\n"
     ]
    },
    {
     "name": "stderr",
     "output_type": "stream",
     "text": [
      "WARNING: AstropyDeprecationWarning: \"pedantic\" was deprecated in version 5.0 and will be removed in a future version. Use argument \"verify\" instead. [astroquery.ned.core]\n",
      "WARNING"
     ]
    },
    {
     "name": "stdout",
     "output_type": "stream",
     "text": [
      "100\n",
      "101"
     ]
    },
    {
     "name": "stderr",
     "output_type": "stream",
     "text": [
      ": AstropyDeprecationWarning: \"pedantic\" was deprecated in version 5.0 and will be removed in a future version. Use argument \"verify\" instead. [astroquery.ned.core]\n"
     ]
    },
    {
     "name": "stdout",
     "output_type": "stream",
     "text": [
      "\n"
     ]
    },
    {
     "name": "stderr",
     "output_type": "stream",
     "text": [
      "WARNING: AstropyDeprecationWarning: \"pedantic\" was deprecated in version 5.0 and will be removed in a future version. Use argument \"verify\" instead. [astroquery.ned.core]\n"
     ]
    },
    {
     "name": "stdout",
     "output_type": "stream",
     "text": [
      "102\n"
     ]
    },
    {
     "name": "stderr",
     "output_type": "stream",
     "text": [
      "WARNING: AstropyDeprecationWarning: \"pedantic\" was deprecated in version 5.0 and will be removed in a future version. Use argument \"verify\" instead. [astroquery.ned.core]\n"
     ]
    },
    {
     "name": "stdout",
     "output_type": "stream",
     "text": [
      "103\n"
     ]
    },
    {
     "name": "stderr",
     "output_type": "stream",
     "text": [
      "WARNING: AstropyDeprecationWarning: \"pedantic\" was deprecated in version 5.0 and will be removed in a future version. Use argument \"verify\" instead. [astroquery.ned.core]\n"
     ]
    },
    {
     "name": "stdout",
     "output_type": "stream",
     "text": [
      "104\n"
     ]
    },
    {
     "name": "stderr",
     "output_type": "stream",
     "text": [
      "WARNING: AstropyDeprecationWarning: \"pedantic\" was deprecated in version 5.0 and will be removed in a future version. Use argument \"verify\" instead. [astroquery.ned.core]\n"
     ]
    },
    {
     "name": "stdout",
     "output_type": "stream",
     "text": [
      "105\n"
     ]
    },
    {
     "name": "stderr",
     "output_type": "stream",
     "text": [
      "WARNING: AstropyDeprecationWarning: \"pedantic\" was deprecated in version 5.0 and will be removed in a future version. Use argument \"verify\" instead. [astroquery.ned.core]\n"
     ]
    },
    {
     "name": "stdout",
     "output_type": "stream",
     "text": [
      "106\n"
     ]
    },
    {
     "name": "stderr",
     "output_type": "stream",
     "text": [
      "WARNING: AstropyDeprecationWarning: \"pedantic\" was deprecated in version 5.0 and will be removed in a future version. Use argument \"verify\" instead. [astroquery.ned.core]\n"
     ]
    },
    {
     "name": "stdout",
     "output_type": "stream",
     "text": [
      "107\n"
     ]
    },
    {
     "name": "stderr",
     "output_type": "stream",
     "text": [
      "WARNING: AstropyDeprecationWarning: \"pedantic\" was deprecated in version 5.0 and will be removed in a future version. Use argument \"verify\" instead. [astroquery.ned.core]\n",
      "WARNING: AstropyDeprecationWarning: \"pedantic\" was deprecated in version 5.0 and will be removed in a future version. Use argument \"verify\" instead. [astroquery.ned.core]\n"
     ]
    },
    {
     "name": "stdout",
     "output_type": "stream",
     "text": [
      "108\n",
      "109\n"
     ]
    },
    {
     "name": "stderr",
     "output_type": "stream",
     "text": [
      "WARNING: AstropyDeprecationWarning: \"pedantic\" was deprecated in version 5.0 and will be removed in a future version. Use argument \"verify\" instead. [astroquery.ned.core]\n"
     ]
    },
    {
     "name": "stdout",
     "output_type": "stream",
     "text": [
      "110\n"
     ]
    },
    {
     "name": "stderr",
     "output_type": "stream",
     "text": [
      "WARNING: AstropyDeprecationWarning: \"pedantic\" was deprecated in version 5.0 and will be removed in a future version. Use argument \"verify\" instead. [astroquery.ned.core]\n"
     ]
    },
    {
     "name": "stdout",
     "output_type": "stream",
     "text": [
      "111\n"
     ]
    },
    {
     "name": "stderr",
     "output_type": "stream",
     "text": [
      "WARNING: AstropyDeprecationWarning: \"pedantic\" was deprecated in version 5.0 and will be removed in a future version. Use argument \"verify\" instead. [astroquery.ned.core]\n"
     ]
    },
    {
     "name": "stdout",
     "output_type": "stream",
     "text": [
      "112\n"
     ]
    },
    {
     "name": "stderr",
     "output_type": "stream",
     "text": [
      "WARNING: AstropyDeprecationWarning: \"pedantic\" was deprecated in version 5.0 and will be removed in a future version. Use argument \"verify\" instead. [astroquery.ned.core]\n"
     ]
    },
    {
     "name": "stdout",
     "output_type": "stream",
     "text": [
      "113\n"
     ]
    },
    {
     "name": "stderr",
     "output_type": "stream",
     "text": [
      "WARNING: AstropyDeprecationWarning: \"pedantic\" was deprecated in version 5.0 and will be removed in a future version. Use argument \"verify\" instead. [astroquery.ned.core]\n"
     ]
    },
    {
     "name": "stdout",
     "output_type": "stream",
     "text": [
      "114\n"
     ]
    },
    {
     "name": "stderr",
     "output_type": "stream",
     "text": [
      "WARNING: AstropyDeprecationWarning: \"pedantic\" was deprecated in version 5.0 and will be removed in a future version. Use argument \"verify\" instead. [astroquery.ned.core]\n"
     ]
    },
    {
     "name": "stdout",
     "output_type": "stream",
     "text": [
      "115\n"
     ]
    },
    {
     "name": "stderr",
     "output_type": "stream",
     "text": [
      "WARNING: AstropyDeprecationWarning: \"pedantic\" was deprecated in version 5.0 and will be removed in a future version. Use argument \"verify\" instead. [astroquery.ned.core]\n"
     ]
    },
    {
     "name": "stdout",
     "output_type": "stream",
     "text": [
      "116\n"
     ]
    },
    {
     "name": "stderr",
     "output_type": "stream",
     "text": [
      "WARNING: AstropyDeprecationWarning: \"pedantic\" was deprecated in version 5.0 and will be removed in a future version. Use argument \"verify\" instead. [astroquery.ned.core]\n"
     ]
    },
    {
     "name": "stdout",
     "output_type": "stream",
     "text": [
      "117\n"
     ]
    },
    {
     "name": "stderr",
     "output_type": "stream",
     "text": [
      "WARNING: AstropyDeprecationWarning: \"pedantic\" was deprecated in version 5.0 and will be removed in a future version. Use argument \"verify\" instead. [astroquery.ned.core]\n"
     ]
    },
    {
     "name": "stdout",
     "output_type": "stream",
     "text": [
      "118\n"
     ]
    },
    {
     "name": "stderr",
     "output_type": "stream",
     "text": [
      "WARNING: AstropyDeprecationWarning: \"pedantic\" was deprecated in version 5.0 and will be removed in a future version. Use argument \"verify\" instead. [astroquery.ned.core]\n"
     ]
    },
    {
     "name": "stdout",
     "output_type": "stream",
     "text": [
      "119\n"
     ]
    },
    {
     "name": "stderr",
     "output_type": "stream",
     "text": [
      "WARNING: AstropyDeprecationWarning: \"pedantic\" was deprecated in version 5.0 and will be removed in a future version. Use argument \"verify\" instead. [astroquery.ned.core]\n"
     ]
    },
    {
     "name": "stdout",
     "output_type": "stream",
     "text": [
      "120\n"
     ]
    },
    {
     "name": "stderr",
     "output_type": "stream",
     "text": [
      "WARNING: AstropyDeprecationWarning: \"pedantic\" was deprecated in version 5.0 and will be removed in a future version. Use argument \"verify\" instead. [astroquery.ned.core]\n"
     ]
    },
    {
     "name": "stdout",
     "output_type": "stream",
     "text": [
      "121\n"
     ]
    },
    {
     "name": "stderr",
     "output_type": "stream",
     "text": [
      "WARNING: AstropyDeprecationWarning: \"pedantic\" was deprecated in version 5.0 and will be removed in a future version. Use argument \"verify\" instead. [astroquery.ned.core]\n"
     ]
    },
    {
     "name": "stdout",
     "output_type": "stream",
     "text": [
      "122\n"
     ]
    },
    {
     "name": "stderr",
     "output_type": "stream",
     "text": [
      "WARNING: AstropyDeprecationWarning: \"pedantic\" was deprecated in version 5.0 and will be removed in a future version. Use argument \"verify\" instead. [astroquery.ned.core]\n"
     ]
    },
    {
     "name": "stdout",
     "output_type": "stream",
     "text": [
      "123\n"
     ]
    },
    {
     "name": "stderr",
     "output_type": "stream",
     "text": [
      "WARNING: AstropyDeprecationWarning: \"pedantic\" was deprecated in version 5.0 and will be removed in a future version. Use argument \"verify\" instead. [astroquery.ned.core]\n"
     ]
    },
    {
     "name": "stdout",
     "output_type": "stream",
     "text": [
      "124\n"
     ]
    },
    {
     "name": "stderr",
     "output_type": "stream",
     "text": [
      "WARNING: AstropyDeprecationWarning: \"pedantic\" was deprecated in version 5.0 and will be removed in a future version. Use argument \"verify\" instead. [astroquery.ned.core]\n"
     ]
    },
    {
     "name": "stdout",
     "output_type": "stream",
     "text": [
      "125\n"
     ]
    },
    {
     "name": "stderr",
     "output_type": "stream",
     "text": [
      "WARNING: AstropyDeprecationWarning: \"pedantic\" was deprecated in version 5.0 and will be removed in a future version. Use argument \"verify\" instead. [astroquery.ned.core]\n"
     ]
    },
    {
     "name": "stdout",
     "output_type": "stream",
     "text": [
      "126\n"
     ]
    },
    {
     "name": "stderr",
     "output_type": "stream",
     "text": [
      "WARNING: AstropyDeprecationWarning: \"pedantic\" was deprecated in version 5.0 and will be removed in a future version. Use argument \"verify\" instead. [astroquery.ned.core]\n"
     ]
    },
    {
     "name": "stdout",
     "output_type": "stream",
     "text": [
      "127\n"
     ]
    },
    {
     "name": "stderr",
     "output_type": "stream",
     "text": [
      "WARNING: AstropyDeprecationWarning: \"pedantic\" was deprecated in version 5.0 and will be removed in a future version. Use argument \"verify\" instead. [astroquery.ned.core]\n"
     ]
    },
    {
     "name": "stdout",
     "output_type": "stream",
     "text": [
      "128\n"
     ]
    },
    {
     "name": "stderr",
     "output_type": "stream",
     "text": [
      "WARNING: AstropyDeprecationWarning: \"pedantic\" was deprecated in version 5.0 and will be removed in a future version. Use argument \"verify\" instead. [astroquery.ned.core]\n"
     ]
    },
    {
     "name": "stdout",
     "output_type": "stream",
     "text": [
      "129\n"
     ]
    },
    {
     "name": "stderr",
     "output_type": "stream",
     "text": [
      "WARNING: AstropyDeprecationWarning: \"pedantic\" was deprecated in version 5.0 and will be removed in a future version. Use argument \"verify\" instead. [astroquery.ned.core]\n",
      "WARNING"
     ]
    },
    {
     "name": "stdout",
     "output_type": "stream",
     "text": [
      "130\n"
     ]
    },
    {
     "name": "stderr",
     "output_type": "stream",
     "text": [
      ": AstropyDeprecationWarning: \"pedantic\" was deprecated in version 5.0 and will be removed in a future version. Use argument \"verify\" instead. [astroquery.ned.core]\n"
     ]
    },
    {
     "name": "stdout",
     "output_type": "stream",
     "text": [
      "131\n"
     ]
    },
    {
     "name": "stderr",
     "output_type": "stream",
     "text": [
      "WARNING: AstropyDeprecationWarning: \"pedantic\" was deprecated in version 5.0 and will be removed in a future version. Use argument \"verify\" instead. [astroquery.ned.core]\n"
     ]
    },
    {
     "name": "stdout",
     "output_type": "stream",
     "text": [
      "132\n"
     ]
    },
    {
     "name": "stderr",
     "output_type": "stream",
     "text": [
      "WARNING: AstropyDeprecationWarning: \"pedantic\" was deprecated in version 5.0 and will be removed in a future version. Use argument \"verify\" instead. [astroquery.ned.core]\n"
     ]
    },
    {
     "name": "stdout",
     "output_type": "stream",
     "text": [
      "133\n"
     ]
    },
    {
     "name": "stderr",
     "output_type": "stream",
     "text": [
      "WARNING: AstropyDeprecationWarning: \"pedantic\" was deprecated in version 5.0 and will be removed in a future version. Use argument \"verify\" instead. [astroquery.ned.core]\n"
     ]
    },
    {
     "name": "stdout",
     "output_type": "stream",
     "text": [
      "134\n"
     ]
    },
    {
     "name": "stderr",
     "output_type": "stream",
     "text": [
      "WARNING: AstropyDeprecationWarning: \"pedantic\" was deprecated in version 5.0 and will be removed in a future version. Use argument \"verify\" instead. [astroquery.ned.core]\n"
     ]
    },
    {
     "name": "stdout",
     "output_type": "stream",
     "text": [
      "135\n"
     ]
    },
    {
     "name": "stderr",
     "output_type": "stream",
     "text": [
      "WARNING: AstropyDeprecationWarning: \"pedantic\" was deprecated in version 5.0 and will be removed in a future version. Use argument \"verify\" instead. [astroquery.ned.core]\n"
     ]
    },
    {
     "name": "stdout",
     "output_type": "stream",
     "text": [
      "136\n"
     ]
    },
    {
     "name": "stderr",
     "output_type": "stream",
     "text": [
      "WARNING: AstropyDeprecationWarning: \"pedantic\" was deprecated in version 5.0 and will be removed in a future version. Use argument \"verify\" instead. [astroquery.ned.core]\n"
     ]
    },
    {
     "name": "stdout",
     "output_type": "stream",
     "text": [
      "137\n"
     ]
    },
    {
     "name": "stderr",
     "output_type": "stream",
     "text": [
      "WARNING: AstropyDeprecationWarning: \"pedantic\" was deprecated in version 5.0 and will be removed in a future version. Use argument \"verify\" instead. [astroquery.ned.core]\n"
     ]
    },
    {
     "name": "stdout",
     "output_type": "stream",
     "text": [
      "138\n"
     ]
    },
    {
     "name": "stderr",
     "output_type": "stream",
     "text": [
      "WARNING: AstropyDeprecationWarning: \"pedantic\" was deprecated in version 5.0 and will be removed in a future version. Use argument \"verify\" instead. [astroquery.ned.core]\n"
     ]
    },
    {
     "name": "stdout",
     "output_type": "stream",
     "text": [
      "139\n"
     ]
    },
    {
     "name": "stderr",
     "output_type": "stream",
     "text": [
      "WARNING: AstropyDeprecationWarning: \"pedantic\" was deprecated in version 5.0 and will be removed in a future version. Use argument \"verify\" instead. [astroquery.ned.core]\n"
     ]
    },
    {
     "name": "stdout",
     "output_type": "stream",
     "text": [
      "140\n"
     ]
    },
    {
     "name": "stderr",
     "output_type": "stream",
     "text": [
      "WARNING: AstropyDeprecationWarning: \"pedantic\" was deprecated in version 5.0 and will be removed in a future version. Use argument \"verify\" instead. [astroquery.ned.core]\n"
     ]
    },
    {
     "name": "stdout",
     "output_type": "stream",
     "text": [
      "141\n"
     ]
    },
    {
     "name": "stderr",
     "output_type": "stream",
     "text": [
      "WARNING: AstropyDeprecationWarning: \"pedantic\" was deprecated in version 5.0 and will be removed in a future version. Use argument \"verify\" instead. [astroquery.ned.core]\n"
     ]
    },
    {
     "name": "stdout",
     "output_type": "stream",
     "text": [
      "142\n"
     ]
    },
    {
     "name": "stderr",
     "output_type": "stream",
     "text": [
      "WARNING: AstropyDeprecationWarning: \"pedantic\" was deprecated in version 5.0 and will be removed in a future version. Use argument \"verify\" instead. [astroquery.ned.core]\n"
     ]
    },
    {
     "name": "stdout",
     "output_type": "stream",
     "text": [
      "143\n"
     ]
    },
    {
     "name": "stderr",
     "output_type": "stream",
     "text": [
      "WARNING: AstropyDeprecationWarning: \"pedantic\" was deprecated in version 5.0 and will be removed in a future version. Use argument \"verify\" instead. [astroquery.ned.core]\n"
     ]
    },
    {
     "name": "stdout",
     "output_type": "stream",
     "text": [
      "144\n"
     ]
    },
    {
     "name": "stderr",
     "output_type": "stream",
     "text": [
      "WARNING: AstropyDeprecationWarning: \"pedantic\" was deprecated in version 5.0 and will be removed in a future version. Use argument \"verify\" instead. [astroquery.ned.core]\n"
     ]
    },
    {
     "name": "stdout",
     "output_type": "stream",
     "text": [
      "145\n"
     ]
    },
    {
     "name": "stderr",
     "output_type": "stream",
     "text": [
      "WARNING: AstropyDeprecationWarning: \"pedantic\" was deprecated in version 5.0 and will be removed in a future version. Use argument \"verify\" instead. [astroquery.ned.core]\n"
     ]
    },
    {
     "name": "stdout",
     "output_type": "stream",
     "text": [
      "146\n"
     ]
    },
    {
     "name": "stderr",
     "output_type": "stream",
     "text": [
      "WARNING: AstropyDeprecationWarning: \"pedantic\" was deprecated in version 5.0 and will be removed in a future version. Use argument \"verify\" instead. [astroquery.ned.core]\n"
     ]
    },
    {
     "name": "stdout",
     "output_type": "stream",
     "text": [
      "147\n"
     ]
    },
    {
     "name": "stderr",
     "output_type": "stream",
     "text": [
      "WARNING: AstropyDeprecationWarning: \"pedantic\" was deprecated in version 5.0 and will be removed in a future version. Use argument \"verify\" instead. [astroquery.ned.core]\n"
     ]
    },
    {
     "name": "stdout",
     "output_type": "stream",
     "text": [
      "148\n"
     ]
    },
    {
     "name": "stderr",
     "output_type": "stream",
     "text": [
      "WARNING: AstropyDeprecationWarning: \"pedantic\" was deprecated in version 5.0 and will be removed in a future version. Use argument \"verify\" instead. [astroquery.ned.core]\n"
     ]
    },
    {
     "name": "stdout",
     "output_type": "stream",
     "text": [
      "149\n"
     ]
    },
    {
     "name": "stderr",
     "output_type": "stream",
     "text": [
      "WARNING: AstropyDeprecationWarning: \"pedantic\" was deprecated in version 5.0 and will be removed in a future version. Use argument \"verify\" instead. [astroquery.ned.core]\n"
     ]
    },
    {
     "name": "stdout",
     "output_type": "stream",
     "text": [
      "150\n"
     ]
    },
    {
     "name": "stderr",
     "output_type": "stream",
     "text": [
      "WARNING: AstropyDeprecationWarning: \"pedantic\" was deprecated in version 5.0 and will be removed in a future version. Use argument \"verify\" instead. [astroquery.ned.core]\n"
     ]
    },
    {
     "name": "stdout",
     "output_type": "stream",
     "text": [
      "151\n"
     ]
    },
    {
     "name": "stderr",
     "output_type": "stream",
     "text": [
      "WARNING: AstropyDeprecationWarning: \"pedantic\" was deprecated in version 5.0 and will be removed in a future version. Use argument \"verify\" instead. [astroquery.ned.core]\n"
     ]
    },
    {
     "name": "stdout",
     "output_type": "stream",
     "text": [
      "152\n"
     ]
    },
    {
     "name": "stderr",
     "output_type": "stream",
     "text": [
      "WARNING: AstropyDeprecationWarning: \"pedantic\" was deprecated in version 5.0 and will be removed in a future version. Use argument \"verify\" instead. [astroquery.ned.core]\n"
     ]
    },
    {
     "name": "stdout",
     "output_type": "stream",
     "text": [
      "153\n"
     ]
    },
    {
     "name": "stderr",
     "output_type": "stream",
     "text": [
      "WARNING: AstropyDeprecationWarning: \"pedantic\" was deprecated in version 5.0 and will be removed in a future version. Use argument \"verify\" instead. [astroquery.ned.core]\n"
     ]
    },
    {
     "name": "stdout",
     "output_type": "stream",
     "text": [
      "154\n"
     ]
    },
    {
     "name": "stderr",
     "output_type": "stream",
     "text": [
      "WARNING: AstropyDeprecationWarning: \"pedantic\" was deprecated in version 5.0 and will be removed in a future version. Use argument \"verify\" instead. [astroquery.ned.core]\n"
     ]
    },
    {
     "name": "stdout",
     "output_type": "stream",
     "text": [
      "155\n"
     ]
    },
    {
     "name": "stderr",
     "output_type": "stream",
     "text": [
      "WARNING: AstropyDeprecationWarning: \"pedantic\" was deprecated in version 5.0 and will be removed in a future version. Use argument \"verify\" instead. [astroquery.ned.core]\n"
     ]
    },
    {
     "name": "stdout",
     "output_type": "stream",
     "text": [
      "156\n"
     ]
    },
    {
     "name": "stderr",
     "output_type": "stream",
     "text": [
      "WARNING: AstropyDeprecationWarning: \"pedantic\" was deprecated in version 5.0 and will be removed in a future version. Use argument \"verify\" instead. [astroquery.ned.core]\n"
     ]
    },
    {
     "name": "stdout",
     "output_type": "stream",
     "text": [
      "157\n"
     ]
    },
    {
     "name": "stderr",
     "output_type": "stream",
     "text": [
      "WARNING: AstropyDeprecationWarning: \"pedantic\" was deprecated in version 5.0 and will be removed in a future version. Use argument \"verify\" instead. [astroquery.ned.core]\n"
     ]
    },
    {
     "name": "stdout",
     "output_type": "stream",
     "text": [
      "158\n"
     ]
    },
    {
     "name": "stderr",
     "output_type": "stream",
     "text": [
      "WARNING: AstropyDeprecationWarning: \"pedantic\" was deprecated in version 5.0 and will be removed in a future version. Use argument \"verify\" instead. [astroquery.ned.core]\n"
     ]
    },
    {
     "name": "stdout",
     "output_type": "stream",
     "text": [
      "159\n"
     ]
    },
    {
     "name": "stderr",
     "output_type": "stream",
     "text": [
      "WARNING: AstropyDeprecationWarning: \"pedantic\" was deprecated in version 5.0 and will be removed in a future version. Use argument \"verify\" instead. [astroquery.ned.core]\n"
     ]
    },
    {
     "name": "stdout",
     "output_type": "stream",
     "text": [
      "160\n"
     ]
    },
    {
     "name": "stderr",
     "output_type": "stream",
     "text": [
      "WARNING: AstropyDeprecationWarning: \"pedantic\" was deprecated in version 5.0 and will be removed in a future version. Use argument \"verify\" instead. [astroquery.ned.core]\n"
     ]
    },
    {
     "name": "stdout",
     "output_type": "stream",
     "text": [
      "161\n"
     ]
    },
    {
     "name": "stderr",
     "output_type": "stream",
     "text": [
      "WARNING: AstropyDeprecationWarning: \"pedantic\" was deprecated in version 5.0 and will be removed in a future version. Use argument \"verify\" instead. [astroquery.ned.core]\n"
     ]
    },
    {
     "name": "stdout",
     "output_type": "stream",
     "text": [
      "162\n"
     ]
    },
    {
     "name": "stderr",
     "output_type": "stream",
     "text": [
      "WARNING: AstropyDeprecationWarning: \"pedantic\" was deprecated in version 5.0 and will be removed in a future version. Use argument \"verify\" instead. [astroquery.ned.core]\n"
     ]
    },
    {
     "name": "stdout",
     "output_type": "stream",
     "text": [
      "163\n"
     ]
    },
    {
     "name": "stderr",
     "output_type": "stream",
     "text": [
      "WARNING: AstropyDeprecationWarning: \"pedantic\" was deprecated in version 5.0 and will be removed in a future version. Use argument \"verify\" instead. [astroquery.ned.core]\n"
     ]
    },
    {
     "name": "stdout",
     "output_type": "stream",
     "text": [
      "164\n"
     ]
    },
    {
     "name": "stderr",
     "output_type": "stream",
     "text": [
      "WARNING: AstropyDeprecationWarning: \"pedantic\" was deprecated in version 5.0 and will be removed in a future version. Use argument \"verify\" instead. [astroquery.ned.core]\n"
     ]
    },
    {
     "name": "stdout",
     "output_type": "stream",
     "text": [
      "165\n"
     ]
    },
    {
     "name": "stderr",
     "output_type": "stream",
     "text": [
      "WARNING: AstropyDeprecationWarning: \"pedantic\" was deprecated in version 5.0 and will be removed in a future version. Use argument \"verify\" instead. [astroquery.ned.core]\n"
     ]
    },
    {
     "name": "stdout",
     "output_type": "stream",
     "text": [
      "166\n"
     ]
    },
    {
     "name": "stderr",
     "output_type": "stream",
     "text": [
      "WARNING: AstropyDeprecationWarning: \"pedantic\" was deprecated in version 5.0 and will be removed in a future version. Use argument \"verify\" instead. [astroquery.ned.core]\n"
     ]
    },
    {
     "name": "stdout",
     "output_type": "stream",
     "text": [
      "167\n"
     ]
    },
    {
     "name": "stderr",
     "output_type": "stream",
     "text": [
      "WARNING: AstropyDeprecationWarning: \"pedantic\" was deprecated in version 5.0 and will be removed in a future version. Use argument \"verify\" instead. [astroquery.ned.core]\n"
     ]
    },
    {
     "name": "stdout",
     "output_type": "stream",
     "text": [
      "168\n"
     ]
    },
    {
     "name": "stderr",
     "output_type": "stream",
     "text": [
      "WARNING: AstropyDeprecationWarning: \"pedantic\" was deprecated in version 5.0 and will be removed in a future version. Use argument \"verify\" instead. [astroquery.ned.core]\n"
     ]
    },
    {
     "name": "stdout",
     "output_type": "stream",
     "text": [
      "169\n"
     ]
    },
    {
     "name": "stderr",
     "output_type": "stream",
     "text": [
      "WARNING: AstropyDeprecationWarning: \"pedantic\" was deprecated in version 5.0 and will be removed in a future version. Use argument \"verify\" instead. [astroquery.ned.core]\n"
     ]
    },
    {
     "name": "stdout",
     "output_type": "stream",
     "text": [
      "170\n"
     ]
    },
    {
     "name": "stderr",
     "output_type": "stream",
     "text": [
      "WARNING: AstropyDeprecationWarning: \"pedantic\" was deprecated in version 5.0 and will be removed in a future version. Use argument \"verify\" instead. [astroquery.ned.core]\n"
     ]
    },
    {
     "name": "stdout",
     "output_type": "stream",
     "text": [
      "171\n"
     ]
    },
    {
     "name": "stderr",
     "output_type": "stream",
     "text": [
      "WARNING: AstropyDeprecationWarning: \"pedantic\" was deprecated in version 5.0 and will be removed in a future version. Use argument \"verify\" instead. [astroquery.ned.core]\n"
     ]
    },
    {
     "name": "stdout",
     "output_type": "stream",
     "text": [
      "172\n"
     ]
    },
    {
     "name": "stderr",
     "output_type": "stream",
     "text": [
      "WARNING: AstropyDeprecationWarning: \"pedantic\" was deprecated in version 5.0 and will be removed in a future version. Use argument \"verify\" instead. [astroquery.ned.core]\n"
     ]
    },
    {
     "name": "stdout",
     "output_type": "stream",
     "text": [
      "173\n"
     ]
    },
    {
     "name": "stderr",
     "output_type": "stream",
     "text": [
      "WARNING: AstropyDeprecationWarning: \"pedantic\" was deprecated in version 5.0 and will be removed in a future version. Use argument \"verify\" instead. [astroquery.ned.core]\n"
     ]
    },
    {
     "name": "stdout",
     "output_type": "stream",
     "text": [
      "174\n"
     ]
    },
    {
     "name": "stderr",
     "output_type": "stream",
     "text": [
      "WARNING: AstropyDeprecationWarning: \"pedantic\" was deprecated in version 5.0 and will be removed in a future version. Use argument \"verify\" instead. [astroquery.ned.core]\n",
      "WARNING"
     ]
    },
    {
     "name": "stdout",
     "output_type": "stream",
     "text": [
      "175\n"
     ]
    },
    {
     "name": "stderr",
     "output_type": "stream",
     "text": [
      ": AstropyDeprecationWarning: \"pedantic\" was deprecated in version 5.0 and will be removed in a future version. Use argument \"verify\" instead. [astroquery.ned.core]\n"
     ]
    },
    {
     "name": "stdout",
     "output_type": "stream",
     "text": [
      "176\n"
     ]
    },
    {
     "name": "stderr",
     "output_type": "stream",
     "text": [
      "WARNING: AstropyDeprecationWarning: \"pedantic\" was deprecated in version 5.0 and will be removed in a future version. Use argument \"verify\" instead. [astroquery.ned.core]\n"
     ]
    },
    {
     "name": "stdout",
     "output_type": "stream",
     "text": [
      "177\n"
     ]
    },
    {
     "name": "stderr",
     "output_type": "stream",
     "text": [
      "WARNING: AstropyDeprecationWarning: \"pedantic\" was deprecated in version 5.0 and will be removed in a future version. Use argument \"verify\" instead. [astroquery.ned.core]\n"
     ]
    },
    {
     "name": "stdout",
     "output_type": "stream",
     "text": [
      "178\n"
     ]
    },
    {
     "name": "stderr",
     "output_type": "stream",
     "text": [
      "WARNING: AstropyDeprecationWarning: \"pedantic\" was deprecated in version 5.0 and will be removed in a future version. Use argument \"verify\" instead. [astroquery.ned.core]\n"
     ]
    },
    {
     "name": "stdout",
     "output_type": "stream",
     "text": [
      "179\n"
     ]
    },
    {
     "name": "stderr",
     "output_type": "stream",
     "text": [
      "WARNING: AstropyDeprecationWarning: \"pedantic\" was deprecated in version 5.0 and will be removed in a future version. Use argument \"verify\" instead. [astroquery.ned.core]\n"
     ]
    },
    {
     "name": "stdout",
     "output_type": "stream",
     "text": [
      "180\n"
     ]
    },
    {
     "name": "stderr",
     "output_type": "stream",
     "text": [
      "WARNING: AstropyDeprecationWarning: \"pedantic\" was deprecated in version 5.0 and will be removed in a future version. Use argument \"verify\" instead. [astroquery.ned.core]\n"
     ]
    },
    {
     "name": "stdout",
     "output_type": "stream",
     "text": [
      "181\n"
     ]
    },
    {
     "name": "stderr",
     "output_type": "stream",
     "text": [
      "WARNING: AstropyDeprecationWarning: \"pedantic\" was deprecated in version 5.0 and will be removed in a future version. Use argument \"verify\" instead. [astroquery.ned.core]\n"
     ]
    },
    {
     "name": "stdout",
     "output_type": "stream",
     "text": [
      "182\n"
     ]
    },
    {
     "name": "stderr",
     "output_type": "stream",
     "text": [
      "WARNING: AstropyDeprecationWarning: \"pedantic\" was deprecated in version 5.0 and will be removed in a future version. Use argument \"verify\" instead. [astroquery.ned.core]\n"
     ]
    },
    {
     "name": "stdout",
     "output_type": "stream",
     "text": [
      "183\n"
     ]
    },
    {
     "name": "stderr",
     "output_type": "stream",
     "text": [
      "WARNING: AstropyDeprecationWarning: \"pedantic\" was deprecated in version 5.0 and will be removed in a future version. Use argument \"verify\" instead. [astroquery.ned.core]\n"
     ]
    },
    {
     "name": "stdout",
     "output_type": "stream",
     "text": [
      "184\n"
     ]
    },
    {
     "name": "stderr",
     "output_type": "stream",
     "text": [
      "WARNING: AstropyDeprecationWarning: \"pedantic\" was deprecated in version 5.0 and will be removed in a future version. Use argument \"verify\" instead. [astroquery.ned.core]\n"
     ]
    },
    {
     "name": "stdout",
     "output_type": "stream",
     "text": [
      "185\n"
     ]
    },
    {
     "name": "stderr",
     "output_type": "stream",
     "text": [
      "WARNING: AstropyDeprecationWarning: \"pedantic\" was deprecated in version 5.0 and will be removed in a future version. Use argument \"verify\" instead. [astroquery.ned.core]\n"
     ]
    },
    {
     "name": "stdout",
     "output_type": "stream",
     "text": [
      "186\n"
     ]
    },
    {
     "name": "stderr",
     "output_type": "stream",
     "text": [
      "WARNING: AstropyDeprecationWarning: \"pedantic\" was deprecated in version 5.0 and will be removed in a future version. Use argument \"verify\" instead. [astroquery.ned.core]\n"
     ]
    },
    {
     "name": "stdout",
     "output_type": "stream",
     "text": [
      "187\n"
     ]
    },
    {
     "name": "stderr",
     "output_type": "stream",
     "text": [
      "WARNING: AstropyDeprecationWarning: \"pedantic\" was deprecated in version 5.0 and will be removed in a future version. Use argument \"verify\" instead. [astroquery.ned.core]\n"
     ]
    },
    {
     "name": "stdout",
     "output_type": "stream",
     "text": [
      "188\n"
     ]
    },
    {
     "name": "stderr",
     "output_type": "stream",
     "text": [
      "WARNING: AstropyDeprecationWarning: \"pedantic\" was deprecated in version 5.0 and will be removed in a future version. Use argument \"verify\" instead. [astroquery.ned.core]\n"
     ]
    },
    {
     "name": "stdout",
     "output_type": "stream",
     "text": [
      "189\n"
     ]
    },
    {
     "name": "stderr",
     "output_type": "stream",
     "text": [
      "WARNING: AstropyDeprecationWarning: \"pedantic\" was deprecated in version 5.0 and will be removed in a future version. Use argument \"verify\" instead. [astroquery.ned.core]\n"
     ]
    },
    {
     "name": "stdout",
     "output_type": "stream",
     "text": [
      "190\n"
     ]
    },
    {
     "name": "stderr",
     "output_type": "stream",
     "text": [
      "WARNING: AstropyDeprecationWarning: \"pedantic\" was deprecated in version 5.0 and will be removed in a future version. Use argument \"verify\" instead. [astroquery.ned.core]\n"
     ]
    },
    {
     "name": "stdout",
     "output_type": "stream",
     "text": [
      "191\n"
     ]
    },
    {
     "name": "stderr",
     "output_type": "stream",
     "text": [
      "WARNING: AstropyDeprecationWarning: \"pedantic\" was deprecated in version 5.0 and will be removed in a future version. Use argument \"verify\" instead. [astroquery.ned.core]\n"
     ]
    },
    {
     "name": "stdout",
     "output_type": "stream",
     "text": [
      "192\n"
     ]
    },
    {
     "name": "stderr",
     "output_type": "stream",
     "text": [
      "WARNING: AstropyDeprecationWarning: \"pedantic\" was deprecated in version 5.0 and will be removed in a future version. Use argument \"verify\" instead. [astroquery.ned.core]\n"
     ]
    },
    {
     "name": "stdout",
     "output_type": "stream",
     "text": [
      "193\n"
     ]
    },
    {
     "name": "stderr",
     "output_type": "stream",
     "text": [
      "WARNING: AstropyDeprecationWarning: \"pedantic\" was deprecated in version 5.0 and will be removed in a future version. Use argument \"verify\" instead. [astroquery.ned.core]\n"
     ]
    },
    {
     "name": "stdout",
     "output_type": "stream",
     "text": [
      "194\n"
     ]
    },
    {
     "name": "stderr",
     "output_type": "stream",
     "text": [
      "WARNING: AstropyDeprecationWarning: \"pedantic\" was deprecated in version 5.0 and will be removed in a future version. Use argument \"verify\" instead. [astroquery.ned.core]\n"
     ]
    },
    {
     "name": "stdout",
     "output_type": "stream",
     "text": [
      "195\n"
     ]
    },
    {
     "name": "stderr",
     "output_type": "stream",
     "text": [
      "WARNING: AstropyDeprecationWarning: \"pedantic\" was deprecated in version 5.0 and will be removed in a future version. Use argument \"verify\" instead. [astroquery.ned.core]\n"
     ]
    },
    {
     "name": "stdout",
     "output_type": "stream",
     "text": [
      "196\n"
     ]
    },
    {
     "name": "stderr",
     "output_type": "stream",
     "text": [
      "WARNING: AstropyDeprecationWarning: \"pedantic\" was deprecated in version 5.0 and will be removed in a future version. Use argument \"verify\" instead. [astroquery.ned.core]\n"
     ]
    },
    {
     "name": "stdout",
     "output_type": "stream",
     "text": [
      "197\n"
     ]
    },
    {
     "name": "stderr",
     "output_type": "stream",
     "text": [
      "WARNING: AstropyDeprecationWarning: \"pedantic\" was deprecated in version 5.0 and will be removed in a future version. Use argument \"verify\" instead. [astroquery.ned.core]\n"
     ]
    },
    {
     "name": "stdout",
     "output_type": "stream",
     "text": [
      "198\n"
     ]
    },
    {
     "name": "stderr",
     "output_type": "stream",
     "text": [
      "WARNING: AstropyDeprecationWarning: \"pedantic\" was deprecated in version 5.0 and will be removed in a future version. Use argument \"verify\" instead. [astroquery.ned.core]\n"
     ]
    },
    {
     "name": "stdout",
     "output_type": "stream",
     "text": [
      "199\n"
     ]
    },
    {
     "name": "stderr",
     "output_type": "stream",
     "text": [
      "WARNING: AstropyDeprecationWarning: \"pedantic\" was deprecated in version 5.0 and will be removed in a future version. Use argument \"verify\" instead. [astroquery.ned.core]\n"
     ]
    },
    {
     "name": "stdout",
     "output_type": "stream",
     "text": [
      "200\n",
      "201\n"
     ]
    },
    {
     "name": "stderr",
     "output_type": "stream",
     "text": [
      "WARNING: AstropyDeprecationWarning: \"pedantic\" was deprecated in version 5.0 and will be removed in a future version. Use argument \"verify\" instead. [astroquery.ned.core]\n",
      "WARNING: AstropyDeprecationWarning: \"pedantic\" was deprecated in version 5.0 and will be removed in a future version. Use argument \"verify\" instead. [astroquery.ned.core]\n"
     ]
    },
    {
     "name": "stdout",
     "output_type": "stream",
     "text": [
      "202\n"
     ]
    },
    {
     "name": "stderr",
     "output_type": "stream",
     "text": [
      "WARNING: AstropyDeprecationWarning: \"pedantic\" was deprecated in version 5.0 and will be removed in a future version. Use argument \"verify\" instead. [astroquery.ned.core]\n"
     ]
    },
    {
     "name": "stdout",
     "output_type": "stream",
     "text": [
      "203\n"
     ]
    },
    {
     "name": "stderr",
     "output_type": "stream",
     "text": [
      "WARNING: AstropyDeprecationWarning: \"pedantic\" was deprecated in version 5.0 and will be removed in a future version. Use argument \"verify\" instead. [astroquery.ned.core]\n"
     ]
    },
    {
     "name": "stdout",
     "output_type": "stream",
     "text": [
      "204\n"
     ]
    },
    {
     "name": "stderr",
     "output_type": "stream",
     "text": [
      "WARNING: AstropyDeprecationWarning: \"pedantic\" was deprecated in version 5.0 and will be removed in a future version. Use argument \"verify\" instead. [astroquery.ned.core]\n"
     ]
    },
    {
     "name": "stdout",
     "output_type": "stream",
     "text": [
      "205\n"
     ]
    },
    {
     "name": "stderr",
     "output_type": "stream",
     "text": [
      "WARNING: AstropyDeprecationWarning: \"pedantic\" was deprecated in version 5.0 and will be removed in a future version. Use argument \"verify\" instead. [astroquery.ned.core]\n"
     ]
    },
    {
     "name": "stdout",
     "output_type": "stream",
     "text": [
      "206\n"
     ]
    },
    {
     "name": "stderr",
     "output_type": "stream",
     "text": [
      "WARNING: AstropyDeprecationWarning: \"pedantic\" was deprecated in version 5.0 and will be removed in a future version. Use argument \"verify\" instead. [astroquery.ned.core]\n"
     ]
    },
    {
     "name": "stdout",
     "output_type": "stream",
     "text": [
      "207\n"
     ]
    },
    {
     "name": "stderr",
     "output_type": "stream",
     "text": [
      "WARNING: AstropyDeprecationWarning: \"pedantic\" was deprecated in version 5.0 and will be removed in a future version. Use argument \"verify\" instead. [astroquery.ned.core]\n"
     ]
    },
    {
     "name": "stdout",
     "output_type": "stream",
     "text": [
      "208\n"
     ]
    },
    {
     "name": "stderr",
     "output_type": "stream",
     "text": [
      "WARNING: AstropyDeprecationWarning: \"pedantic\" was deprecated in version 5.0 and will be removed in a future version. Use argument \"verify\" instead. [astroquery.ned.core]\n"
     ]
    },
    {
     "name": "stdout",
     "output_type": "stream",
     "text": [
      "209\n"
     ]
    },
    {
     "name": "stderr",
     "output_type": "stream",
     "text": [
      "WARNING: AstropyDeprecationWarning: \"pedantic\" was deprecated in version 5.0 and will be removed in a future version. Use argument \"verify\" instead. [astroquery.ned.core]\n"
     ]
    },
    {
     "name": "stdout",
     "output_type": "stream",
     "text": [
      "210\n"
     ]
    },
    {
     "name": "stderr",
     "output_type": "stream",
     "text": [
      "WARNING: AstropyDeprecationWarning: \"pedantic\" was deprecated in version 5.0 and will be removed in a future version. Use argument \"verify\" instead. [astroquery.ned.core]\n"
     ]
    },
    {
     "name": "stdout",
     "output_type": "stream",
     "text": [
      "211\n"
     ]
    },
    {
     "name": "stderr",
     "output_type": "stream",
     "text": [
      "WARNING: AstropyDeprecationWarning: \"pedantic\" was deprecated in version 5.0 and will be removed in a future version. Use argument \"verify\" instead. [astroquery.ned.core]\n"
     ]
    },
    {
     "name": "stdout",
     "output_type": "stream",
     "text": [
      "212\n"
     ]
    },
    {
     "name": "stderr",
     "output_type": "stream",
     "text": [
      "WARNING: AstropyDeprecationWarning: \"pedantic\" was deprecated in version 5.0 and will be removed in a future version. Use argument \"verify\" instead. [astroquery.ned.core]\n"
     ]
    },
    {
     "name": "stdout",
     "output_type": "stream",
     "text": [
      "213\n"
     ]
    },
    {
     "name": "stderr",
     "output_type": "stream",
     "text": [
      "WARNING: AstropyDeprecationWarning: \"pedantic\" was deprecated in version 5.0 and will be removed in a future version. Use argument \"verify\" instead. [astroquery.ned.core]\n"
     ]
    },
    {
     "name": "stdout",
     "output_type": "stream",
     "text": [
      "214\n"
     ]
    },
    {
     "name": "stderr",
     "output_type": "stream",
     "text": [
      "WARNING: AstropyDeprecationWarning: \"pedantic\" was deprecated in version 5.0 and will be removed in a future version. Use argument \"verify\" instead. [astroquery.ned.core]\n"
     ]
    },
    {
     "name": "stdout",
     "output_type": "stream",
     "text": [
      "215\n"
     ]
    },
    {
     "name": "stderr",
     "output_type": "stream",
     "text": [
      "WARNING: AstropyDeprecationWarning: \"pedantic\" was deprecated in version 5.0 and will be removed in a future version. Use argument \"verify\" instead. [astroquery.ned.core]\n"
     ]
    },
    {
     "name": "stdout",
     "output_type": "stream",
     "text": [
      "216\n"
     ]
    },
    {
     "name": "stderr",
     "output_type": "stream",
     "text": [
      "WARNING: AstropyDeprecationWarning: \"pedantic\" was deprecated in version 5.0 and will be removed in a future version. Use argument \"verify\" instead. [astroquery.ned.core]\n"
     ]
    },
    {
     "name": "stdout",
     "output_type": "stream",
     "text": [
      "217\n"
     ]
    },
    {
     "name": "stderr",
     "output_type": "stream",
     "text": [
      "WARNING: AstropyDeprecationWarning: \"pedantic\" was deprecated in version 5.0 and will be removed in a future version. Use argument \"verify\" instead. [astroquery.ned.core]\n"
     ]
    },
    {
     "name": "stdout",
     "output_type": "stream",
     "text": [
      "218\n"
     ]
    },
    {
     "name": "stderr",
     "output_type": "stream",
     "text": [
      "WARNING: AstropyDeprecationWarning: \"pedantic\" was deprecated in version 5.0 and will be removed in a future version. Use argument \"verify\" instead. [astroquery.ned.core]\n"
     ]
    },
    {
     "name": "stdout",
     "output_type": "stream",
     "text": [
      "219\n"
     ]
    },
    {
     "name": "stderr",
     "output_type": "stream",
     "text": [
      "WARNING: AstropyDeprecationWarning: \"pedantic\" was deprecated in version 5.0 and will be removed in a future version. Use argument \"verify\" instead. [astroquery.ned.core]\n"
     ]
    },
    {
     "name": "stdout",
     "output_type": "stream",
     "text": [
      "220\n"
     ]
    },
    {
     "name": "stderr",
     "output_type": "stream",
     "text": [
      "WARNING: AstropyDeprecationWarning: \"pedantic\" was deprecated in version 5.0 and will be removed in a future version. Use argument \"verify\" instead. [astroquery.ned.core]\n"
     ]
    },
    {
     "name": "stdout",
     "output_type": "stream",
     "text": [
      "221\n"
     ]
    },
    {
     "name": "stderr",
     "output_type": "stream",
     "text": [
      "WARNING: AstropyDeprecationWarning: \"pedantic\" was deprecated in version 5.0 and will be removed in a future version. Use argument \"verify\" instead. [astroquery.ned.core]\n"
     ]
    },
    {
     "name": "stdout",
     "output_type": "stream",
     "text": [
      "222\n"
     ]
    },
    {
     "name": "stderr",
     "output_type": "stream",
     "text": [
      "WARNING: AstropyDeprecationWarning: \"pedantic\" was deprecated in version 5.0 and will be removed in a future version. Use argument \"verify\" instead. [astroquery.ned.core]\n"
     ]
    },
    {
     "name": "stdout",
     "output_type": "stream",
     "text": [
      "223\n"
     ]
    },
    {
     "name": "stderr",
     "output_type": "stream",
     "text": [
      "WARNING: AstropyDeprecationWarning: \"pedantic\" was deprecated in version 5.0 and will be removed in a future version. Use argument \"verify\" instead. [astroquery.ned.core]\n"
     ]
    },
    {
     "name": "stdout",
     "output_type": "stream",
     "text": [
      "224\n"
     ]
    },
    {
     "name": "stderr",
     "output_type": "stream",
     "text": [
      "WARNING: AstropyDeprecationWarning: \"pedantic\" was deprecated in version 5.0 and will be removed in a future version. Use argument \"verify\" instead. [astroquery.ned.core]\n"
     ]
    },
    {
     "name": "stdout",
     "output_type": "stream",
     "text": [
      "225\n"
     ]
    },
    {
     "name": "stderr",
     "output_type": "stream",
     "text": [
      "WARNING: AstropyDeprecationWarning: \"pedantic\" was deprecated in version 5.0 and will be removed in a future version. Use argument \"verify\" instead. [astroquery.ned.core]\n",
      "WARNING: AstropyDeprecationWarning: \"pedantic\" was deprecated in version 5.0 and will be removed in a future version. Use argument \"verify\" instead. [astroquery.ned.core]\n"
     ]
    },
    {
     "name": "stdout",
     "output_type": "stream",
     "text": [
      "226\n",
      "227\n"
     ]
    },
    {
     "name": "stderr",
     "output_type": "stream",
     "text": [
      "WARNING: AstropyDeprecationWarning: \"pedantic\" was deprecated in version 5.0 and will be removed in a future version. Use argument \"verify\" instead. [astroquery.ned.core]\n"
     ]
    },
    {
     "name": "stdout",
     "output_type": "stream",
     "text": [
      "228\n"
     ]
    },
    {
     "name": "stderr",
     "output_type": "stream",
     "text": [
      "WARNING: AstropyDeprecationWarning: \"pedantic\" was deprecated in version 5.0 and will be removed in a future version. Use argument \"verify\" instead. [astroquery.ned.core]\n"
     ]
    },
    {
     "name": "stdout",
     "output_type": "stream",
     "text": [
      "229\n"
     ]
    },
    {
     "name": "stderr",
     "output_type": "stream",
     "text": [
      "WARNING: AstropyDeprecationWarning: \"pedantic\" was deprecated in version 5.0 and will be removed in a future version. Use argument \"verify\" instead. [astroquery.ned.core]\n"
     ]
    },
    {
     "name": "stdout",
     "output_type": "stream",
     "text": [
      "230\n"
     ]
    },
    {
     "name": "stderr",
     "output_type": "stream",
     "text": [
      "WARNING: AstropyDeprecationWarning: \"pedantic\" was deprecated in version 5.0 and will be removed in a future version. Use argument \"verify\" instead. [astroquery.ned.core]\n"
     ]
    },
    {
     "name": "stdout",
     "output_type": "stream",
     "text": [
      "231\n"
     ]
    },
    {
     "name": "stderr",
     "output_type": "stream",
     "text": [
      "WARNING: AstropyDeprecationWarning: \"pedantic\" was deprecated in version 5.0 and will be removed in a future version. Use argument \"verify\" instead. [astroquery.ned.core]\n"
     ]
    },
    {
     "name": "stdout",
     "output_type": "stream",
     "text": [
      "232\n"
     ]
    },
    {
     "name": "stderr",
     "output_type": "stream",
     "text": [
      "WARNING: AstropyDeprecationWarning: \"pedantic\" was deprecated in version 5.0 and will be removed in a future version. Use argument \"verify\" instead. [astroquery.ned.core]\n"
     ]
    },
    {
     "name": "stdout",
     "output_type": "stream",
     "text": [
      "233\n"
     ]
    },
    {
     "name": "stderr",
     "output_type": "stream",
     "text": [
      "WARNING: AstropyDeprecationWarning: \"pedantic\" was deprecated in version 5.0 and will be removed in a future version. Use argument \"verify\" instead. [astroquery.ned.core]\n"
     ]
    },
    {
     "name": "stdout",
     "output_type": "stream",
     "text": [
      "234\n"
     ]
    },
    {
     "name": "stderr",
     "output_type": "stream",
     "text": [
      "WARNING: AstropyDeprecationWarning: \"pedantic\" was deprecated in version 5.0 and will be removed in a future version. Use argument \"verify\" instead. [astroquery.ned.core]\n"
     ]
    },
    {
     "name": "stdout",
     "output_type": "stream",
     "text": [
      "235\n"
     ]
    },
    {
     "name": "stderr",
     "output_type": "stream",
     "text": [
      "WARNING: AstropyDeprecationWarning: \"pedantic\" was deprecated in version 5.0 and will be removed in a future version. Use argument \"verify\" instead. [astroquery.ned.core]\n"
     ]
    },
    {
     "name": "stdout",
     "output_type": "stream",
     "text": [
      "236\n"
     ]
    },
    {
     "name": "stderr",
     "output_type": "stream",
     "text": [
      "WARNING: AstropyDeprecationWarning: \"pedantic\" was deprecated in version 5.0 and will be removed in a future version. Use argument \"verify\" instead. [astroquery.ned.core]\n"
     ]
    },
    {
     "name": "stdout",
     "output_type": "stream",
     "text": [
      "237\n"
     ]
    },
    {
     "name": "stderr",
     "output_type": "stream",
     "text": [
      "WARNING: AstropyDeprecationWarning: \"pedantic\" was deprecated in version 5.0 and will be removed in a future version. Use argument \"verify\" instead. [astroquery.ned.core]\n"
     ]
    },
    {
     "name": "stdout",
     "output_type": "stream",
     "text": [
      "238\n"
     ]
    },
    {
     "name": "stderr",
     "output_type": "stream",
     "text": [
      "WARNING: AstropyDeprecationWarning: \"pedantic\" was deprecated in version 5.0 and will be removed in a future version. Use argument \"verify\" instead. [astroquery.ned.core]\n"
     ]
    },
    {
     "name": "stdout",
     "output_type": "stream",
     "text": [
      "239\n"
     ]
    },
    {
     "name": "stderr",
     "output_type": "stream",
     "text": [
      "WARNING: AstropyDeprecationWarning: \"pedantic\" was deprecated in version 5.0 and will be removed in a future version. Use argument \"verify\" instead. [astroquery.ned.core]\n"
     ]
    },
    {
     "name": "stdout",
     "output_type": "stream",
     "text": [
      "240\n"
     ]
    },
    {
     "name": "stderr",
     "output_type": "stream",
     "text": [
      "WARNING: AstropyDeprecationWarning: \"pedantic\" was deprecated in version 5.0 and will be removed in a future version. Use argument \"verify\" instead. [astroquery.ned.core]\n"
     ]
    },
    {
     "name": "stdout",
     "output_type": "stream",
     "text": [
      "241\n"
     ]
    },
    {
     "name": "stderr",
     "output_type": "stream",
     "text": [
      "WARNING: AstropyDeprecationWarning: \"pedantic\" was deprecated in version 5.0 and will be removed in a future version. Use argument \"verify\" instead. [astroquery.ned.core]\n"
     ]
    },
    {
     "name": "stdout",
     "output_type": "stream",
     "text": [
      "242\n"
     ]
    },
    {
     "name": "stderr",
     "output_type": "stream",
     "text": [
      "WARNING: AstropyDeprecationWarning: \"pedantic\" was deprecated in version 5.0 and will be removed in a future version. Use argument \"verify\" instead. [astroquery.ned.core]\n"
     ]
    },
    {
     "name": "stdout",
     "output_type": "stream",
     "text": [
      "243\n"
     ]
    },
    {
     "name": "stderr",
     "output_type": "stream",
     "text": [
      "WARNING: AstropyDeprecationWarning: \"pedantic\" was deprecated in version 5.0 and will be removed in a future version. Use argument \"verify\" instead. [astroquery.ned.core]\n"
     ]
    },
    {
     "name": "stdout",
     "output_type": "stream",
     "text": [
      "244\n"
     ]
    },
    {
     "name": "stderr",
     "output_type": "stream",
     "text": [
      "WARNING: AstropyDeprecationWarning: \"pedantic\" was deprecated in version 5.0 and will be removed in a future version. Use argument \"verify\" instead. [astroquery.ned.core]\n"
     ]
    },
    {
     "name": "stdout",
     "output_type": "stream",
     "text": [
      "245\n"
     ]
    },
    {
     "name": "stderr",
     "output_type": "stream",
     "text": [
      "WARNING: AstropyDeprecationWarning: \"pedantic\" was deprecated in version 5.0 and will be removed in a future version. Use argument \"verify\" instead. [astroquery.ned.core]\n"
     ]
    },
    {
     "name": "stdout",
     "output_type": "stream",
     "text": [
      "246\n"
     ]
    },
    {
     "name": "stderr",
     "output_type": "stream",
     "text": [
      "WARNING: AstropyDeprecationWarning: \"pedantic\" was deprecated in version 5.0 and will be removed in a future version. Use argument \"verify\" instead. [astroquery.ned.core]\n"
     ]
    },
    {
     "name": "stdout",
     "output_type": "stream",
     "text": [
      "247\n"
     ]
    },
    {
     "name": "stderr",
     "output_type": "stream",
     "text": [
      "WARNING: AstropyDeprecationWarning: \"pedantic\" was deprecated in version 5.0 and will be removed in a future version. Use argument \"verify\" instead. [astroquery.ned.core]\n"
     ]
    },
    {
     "name": "stdout",
     "output_type": "stream",
     "text": [
      "248\n"
     ]
    },
    {
     "name": "stderr",
     "output_type": "stream",
     "text": [
      "WARNING: AstropyDeprecationWarning: \"pedantic\" was deprecated in version 5.0 and will be removed in a future version. Use argument \"verify\" instead. [astroquery.ned.core]\n"
     ]
    },
    {
     "name": "stdout",
     "output_type": "stream",
     "text": [
      "249\n"
     ]
    },
    {
     "name": "stderr",
     "output_type": "stream",
     "text": [
      "WARNING: AstropyDeprecationWarning: \"pedantic\" was deprecated in version 5.0 and will be removed in a future version. Use argument \"verify\" instead. [astroquery.ned.core]\n"
     ]
    },
    {
     "name": "stdout",
     "output_type": "stream",
     "text": [
      "250\n"
     ]
    },
    {
     "name": "stderr",
     "output_type": "stream",
     "text": [
      "WARNING: AstropyDeprecationWarning: \"pedantic\" was deprecated in version 5.0 and will be removed in a future version. Use argument \"verify\" instead. [astroquery.ned.core]\n"
     ]
    },
    {
     "name": "stdout",
     "output_type": "stream",
     "text": [
      "251\n"
     ]
    },
    {
     "name": "stderr",
     "output_type": "stream",
     "text": [
      "WARNING: AstropyDeprecationWarning: \"pedantic\" was deprecated in version 5.0 and will be removed in a future version. Use argument \"verify\" instead. [astroquery.ned.core]\n"
     ]
    },
    {
     "name": "stdout",
     "output_type": "stream",
     "text": [
      "252\n"
     ]
    },
    {
     "name": "stderr",
     "output_type": "stream",
     "text": [
      "WARNING: AstropyDeprecationWarning: \"pedantic\" was deprecated in version 5.0 and will be removed in a future version. Use argument \"verify\" instead. [astroquery.ned.core]\n"
     ]
    },
    {
     "name": "stdout",
     "output_type": "stream",
     "text": [
      "253\n"
     ]
    },
    {
     "name": "stderr",
     "output_type": "stream",
     "text": [
      "WARNING: AstropyDeprecationWarning: \"pedantic\" was deprecated in version 5.0 and will be removed in a future version. Use argument \"verify\" instead. [astroquery.ned.core]\n"
     ]
    },
    {
     "name": "stdout",
     "output_type": "stream",
     "text": [
      "254\n"
     ]
    },
    {
     "name": "stderr",
     "output_type": "stream",
     "text": [
      "WARNING: AstropyDeprecationWarning: \"pedantic\" was deprecated in version 5.0 and will be removed in a future version. Use argument \"verify\" instead. [astroquery.ned.core]\n"
     ]
    },
    {
     "name": "stdout",
     "output_type": "stream",
     "text": [
      "255\n"
     ]
    },
    {
     "name": "stderr",
     "output_type": "stream",
     "text": [
      "WARNING: AstropyDeprecationWarning: \"pedantic\" was deprecated in version 5.0 and will be removed in a future version. Use argument \"verify\" instead. [astroquery.ned.core]\n"
     ]
    },
    {
     "name": "stdout",
     "output_type": "stream",
     "text": [
      "256\n"
     ]
    },
    {
     "name": "stderr",
     "output_type": "stream",
     "text": [
      "WARNING: AstropyDeprecationWarning: \"pedantic\" was deprecated in version 5.0 and will be removed in a future version. Use argument \"verify\" instead. [astroquery.ned.core]\n"
     ]
    },
    {
     "name": "stdout",
     "output_type": "stream",
     "text": [
      "257\n"
     ]
    },
    {
     "name": "stderr",
     "output_type": "stream",
     "text": [
      "WARNING: AstropyDeprecationWarning: \"pedantic\" was deprecated in version 5.0 and will be removed in a future version. Use argument \"verify\" instead. [astroquery.ned.core]\n"
     ]
    },
    {
     "name": "stdout",
     "output_type": "stream",
     "text": [
      "258\n"
     ]
    },
    {
     "name": "stderr",
     "output_type": "stream",
     "text": [
      "WARNING: AstropyDeprecationWarning: \"pedantic\" was deprecated in version 5.0 and will be removed in a future version. Use argument \"verify\" instead. [astroquery.ned.core]\n"
     ]
    },
    {
     "name": "stdout",
     "output_type": "stream",
     "text": [
      "259\n"
     ]
    },
    {
     "name": "stderr",
     "output_type": "stream",
     "text": [
      "WARNING: AstropyDeprecationWarning: \"pedantic\" was deprecated in version 5.0 and will be removed in a future version. Use argument \"verify\" instead. [astroquery.ned.core]\n"
     ]
    },
    {
     "name": "stdout",
     "output_type": "stream",
     "text": [
      "260\n"
     ]
    },
    {
     "name": "stderr",
     "output_type": "stream",
     "text": [
      "WARNING: AstropyDeprecationWarning: \"pedantic\" was deprecated in version 5.0 and will be removed in a future version. Use argument \"verify\" instead. [astroquery.ned.core]\n"
     ]
    },
    {
     "name": "stdout",
     "output_type": "stream",
     "text": [
      "261\n"
     ]
    },
    {
     "name": "stderr",
     "output_type": "stream",
     "text": [
      "WARNING: AstropyDeprecationWarning: \"pedantic\" was deprecated in version 5.0 and will be removed in a future version. Use argument \"verify\" instead. [astroquery.ned.core]\n"
     ]
    },
    {
     "name": "stdout",
     "output_type": "stream",
     "text": [
      "262\n"
     ]
    },
    {
     "name": "stderr",
     "output_type": "stream",
     "text": [
      "WARNING: AstropyDeprecationWarning: \"pedantic\" was deprecated in version 5.0 and will be removed in a future version. Use argument \"verify\" instead. [astroquery.ned.core]\n"
     ]
    },
    {
     "name": "stdout",
     "output_type": "stream",
     "text": [
      "263\n"
     ]
    },
    {
     "name": "stderr",
     "output_type": "stream",
     "text": [
      "WARNING: AstropyDeprecationWarning: \"pedantic\" was deprecated in version 5.0 and will be removed in a future version. Use argument \"verify\" instead. [astroquery.ned.core]\n"
     ]
    },
    {
     "name": "stdout",
     "output_type": "stream",
     "text": [
      "264\n"
     ]
    },
    {
     "name": "stderr",
     "output_type": "stream",
     "text": [
      "WARNING: AstropyDeprecationWarning: \"pedantic\" was deprecated in version 5.0 and will be removed in a future version. Use argument \"verify\" instead. [astroquery.ned.core]\n"
     ]
    },
    {
     "name": "stdout",
     "output_type": "stream",
     "text": [
      "265\n"
     ]
    },
    {
     "name": "stderr",
     "output_type": "stream",
     "text": [
      "WARNING: AstropyDeprecationWarning: \"pedantic\" was deprecated in version 5.0 and will be removed in a future version. Use argument \"verify\" instead. [astroquery.ned.core]\n"
     ]
    },
    {
     "name": "stdout",
     "output_type": "stream",
     "text": [
      "266\n"
     ]
    },
    {
     "name": "stderr",
     "output_type": "stream",
     "text": [
      "WARNING: AstropyDeprecationWarning: \"pedantic\" was deprecated in version 5.0 and will be removed in a future version. Use argument \"verify\" instead. [astroquery.ned.core]\n"
     ]
    },
    {
     "name": "stdout",
     "output_type": "stream",
     "text": [
      "267\n"
     ]
    },
    {
     "name": "stderr",
     "output_type": "stream",
     "text": [
      "WARNING: AstropyDeprecationWarning: \"pedantic\" was deprecated in version 5.0 and will be removed in a future version. Use argument \"verify\" instead. [astroquery.ned.core]\n"
     ]
    },
    {
     "name": "stdout",
     "output_type": "stream",
     "text": [
      "268\n"
     ]
    },
    {
     "name": "stderr",
     "output_type": "stream",
     "text": [
      "WARNING: AstropyDeprecationWarning: \"pedantic\" was deprecated in version 5.0 and will be removed in a future version. Use argument \"verify\" instead. [astroquery.ned.core]\n"
     ]
    },
    {
     "name": "stdout",
     "output_type": "stream",
     "text": [
      "269\n"
     ]
    },
    {
     "name": "stderr",
     "output_type": "stream",
     "text": [
      "WARNING: AstropyDeprecationWarning: \"pedantic\" was deprecated in version 5.0 and will be removed in a future version. Use argument \"verify\" instead. [astroquery.ned.core]\n"
     ]
    },
    {
     "name": "stdout",
     "output_type": "stream",
     "text": [
      "270\n"
     ]
    },
    {
     "name": "stderr",
     "output_type": "stream",
     "text": [
      "WARNING: AstropyDeprecationWarning: \"pedantic\" was deprecated in version 5.0 and will be removed in a future version. Use argument \"verify\" instead. [astroquery.ned.core]\n"
     ]
    },
    {
     "name": "stdout",
     "output_type": "stream",
     "text": [
      "271\n"
     ]
    },
    {
     "name": "stderr",
     "output_type": "stream",
     "text": [
      "WARNING: AstropyDeprecationWarning: \"pedantic\" was deprecated in version 5.0 and will be removed in a future version. Use argument \"verify\" instead. [astroquery.ned.core]\n"
     ]
    },
    {
     "name": "stdout",
     "output_type": "stream",
     "text": [
      "272\n"
     ]
    },
    {
     "name": "stderr",
     "output_type": "stream",
     "text": [
      "WARNING: AstropyDeprecationWarning: \"pedantic\" was deprecated in version 5.0 and will be removed in a future version. Use argument \"verify\" instead. [astroquery.ned.core]\n"
     ]
    },
    {
     "name": "stdout",
     "output_type": "stream",
     "text": [
      "273\n"
     ]
    },
    {
     "name": "stderr",
     "output_type": "stream",
     "text": [
      "WARNING: AstropyDeprecationWarning: \"pedantic\" was deprecated in version 5.0 and will be removed in a future version. Use argument \"verify\" instead. [astroquery.ned.core]\n"
     ]
    },
    {
     "name": "stdout",
     "output_type": "stream",
     "text": [
      "274\n"
     ]
    },
    {
     "name": "stderr",
     "output_type": "stream",
     "text": [
      "WARNING: AstropyDeprecationWarning: \"pedantic\" was deprecated in version 5.0 and will be removed in a future version. Use argument \"verify\" instead. [astroquery.ned.core]\n"
     ]
    },
    {
     "name": "stdout",
     "output_type": "stream",
     "text": [
      "275\n"
     ]
    },
    {
     "name": "stderr",
     "output_type": "stream",
     "text": [
      "WARNING: AstropyDeprecationWarning: \"pedantic\" was deprecated in version 5.0 and will be removed in a future version. Use argument \"verify\" instead. [astroquery.ned.core]\n"
     ]
    },
    {
     "name": "stdout",
     "output_type": "stream",
     "text": [
      "276\n"
     ]
    },
    {
     "name": "stderr",
     "output_type": "stream",
     "text": [
      "WARNING: AstropyDeprecationWarning: \"pedantic\" was deprecated in version 5.0 and will be removed in a future version. Use argument \"verify\" instead. [astroquery.ned.core]\n"
     ]
    },
    {
     "name": "stdout",
     "output_type": "stream",
     "text": [
      "277\n"
     ]
    },
    {
     "name": "stderr",
     "output_type": "stream",
     "text": [
      "WARNING: AstropyDeprecationWarning: \"pedantic\" was deprecated in version 5.0 and will be removed in a future version. Use argument \"verify\" instead. [astroquery.ned.core]\n"
     ]
    },
    {
     "name": "stdout",
     "output_type": "stream",
     "text": [
      "278\n"
     ]
    },
    {
     "name": "stderr",
     "output_type": "stream",
     "text": [
      "WARNING: AstropyDeprecationWarning: \"pedantic\" was deprecated in version 5.0 and will be removed in a future version. Use argument \"verify\" instead. [astroquery.ned.core]\n"
     ]
    },
    {
     "name": "stdout",
     "output_type": "stream",
     "text": [
      "279\n"
     ]
    },
    {
     "name": "stderr",
     "output_type": "stream",
     "text": [
      "WARNING: AstropyDeprecationWarning: \"pedantic\" was deprecated in version 5.0 and will be removed in a future version. Use argument \"verify\" instead. [astroquery.ned.core]\n"
     ]
    },
    {
     "name": "stdout",
     "output_type": "stream",
     "text": [
      "280\n"
     ]
    },
    {
     "name": "stderr",
     "output_type": "stream",
     "text": [
      "WARNING: AstropyDeprecationWarning: \"pedantic\" was deprecated in version 5.0 and will be removed in a future version. Use argument \"verify\" instead. [astroquery.ned.core]\n"
     ]
    },
    {
     "name": "stdout",
     "output_type": "stream",
     "text": [
      "281\n"
     ]
    },
    {
     "name": "stderr",
     "output_type": "stream",
     "text": [
      "WARNING: AstropyDeprecationWarning: \"pedantic\" was deprecated in version 5.0 and will be removed in a future version. Use argument \"verify\" instead. [astroquery.ned.core]\n"
     ]
    },
    {
     "name": "stdout",
     "output_type": "stream",
     "text": [
      "282\n"
     ]
    },
    {
     "name": "stderr",
     "output_type": "stream",
     "text": [
      "WARNING: AstropyDeprecationWarning: \"pedantic\" was deprecated in version 5.0 and will be removed in a future version. Use argument \"verify\" instead. [astroquery.ned.core]\n"
     ]
    },
    {
     "name": "stdout",
     "output_type": "stream",
     "text": [
      "283\n"
     ]
    },
    {
     "name": "stderr",
     "output_type": "stream",
     "text": [
      "WARNING: AstropyDeprecationWarning: \"pedantic\" was deprecated in version 5.0 and will be removed in a future version. Use argument \"verify\" instead. [astroquery.ned.core]\n"
     ]
    },
    {
     "name": "stdout",
     "output_type": "stream",
     "text": [
      "284\n"
     ]
    },
    {
     "name": "stderr",
     "output_type": "stream",
     "text": [
      "WARNING: AstropyDeprecationWarning: \"pedantic\" was deprecated in version 5.0 and will be removed in a future version. Use argument \"verify\" instead. [astroquery.ned.core]\n"
     ]
    },
    {
     "name": "stdout",
     "output_type": "stream",
     "text": [
      "285\n"
     ]
    },
    {
     "name": "stderr",
     "output_type": "stream",
     "text": [
      "WARNING: AstropyDeprecationWarning: \"pedantic\" was deprecated in version 5.0 and will be removed in a future version. Use argument \"verify\" instead. [astroquery.ned.core]\n"
     ]
    },
    {
     "name": "stdout",
     "output_type": "stream",
     "text": [
      "286\n"
     ]
    },
    {
     "name": "stderr",
     "output_type": "stream",
     "text": [
      "WARNING: AstropyDeprecationWarning: \"pedantic\" was deprecated in version 5.0 and will be removed in a future version. Use argument \"verify\" instead. [astroquery.ned.core]\n"
     ]
    },
    {
     "name": "stdout",
     "output_type": "stream",
     "text": [
      "287\n"
     ]
    },
    {
     "name": "stderr",
     "output_type": "stream",
     "text": [
      "WARNING: AstropyDeprecationWarning: \"pedantic\" was deprecated in version 5.0 and will be removed in a future version. Use argument \"verify\" instead. [astroquery.ned.core]\n"
     ]
    },
    {
     "name": "stdout",
     "output_type": "stream",
     "text": [
      "288\n"
     ]
    },
    {
     "name": "stderr",
     "output_type": "stream",
     "text": [
      "WARNING: AstropyDeprecationWarning: \"pedantic\" was deprecated in version 5.0 and will be removed in a future version. Use argument \"verify\" instead. [astroquery.ned.core]\n"
     ]
    },
    {
     "name": "stdout",
     "output_type": "stream",
     "text": [
      "289\n"
     ]
    },
    {
     "name": "stderr",
     "output_type": "stream",
     "text": [
      "WARNING: AstropyDeprecationWarning: \"pedantic\" was deprecated in version 5.0 and will be removed in a future version. Use argument \"verify\" instead. [astroquery.ned.core]\n"
     ]
    },
    {
     "name": "stdout",
     "output_type": "stream",
     "text": [
      "290\n"
     ]
    },
    {
     "name": "stderr",
     "output_type": "stream",
     "text": [
      "WARNING: AstropyDeprecationWarning: \"pedantic\" was deprecated in version 5.0 and will be removed in a future version. Use argument \"verify\" instead. [astroquery.ned.core]\n"
     ]
    },
    {
     "name": "stdout",
     "output_type": "stream",
     "text": [
      "291\n"
     ]
    },
    {
     "name": "stderr",
     "output_type": "stream",
     "text": [
      "WARNING: AstropyDeprecationWarning: \"pedantic\" was deprecated in version 5.0 and will be removed in a future version. Use argument \"verify\" instead. [astroquery.ned.core]\n"
     ]
    },
    {
     "name": "stdout",
     "output_type": "stream",
     "text": [
      "292\n"
     ]
    },
    {
     "name": "stderr",
     "output_type": "stream",
     "text": [
      "WARNING: AstropyDeprecationWarning: \"pedantic\" was deprecated in version 5.0 and will be removed in a future version. Use argument \"verify\" instead. [astroquery.ned.core]\n"
     ]
    },
    {
     "name": "stdout",
     "output_type": "stream",
     "text": [
      "293\n"
     ]
    },
    {
     "name": "stderr",
     "output_type": "stream",
     "text": [
      "WARNING: AstropyDeprecationWarning: \"pedantic\" was deprecated in version 5.0 and will be removed in a future version. Use argument \"verify\" instead. [astroquery.ned.core]\n"
     ]
    },
    {
     "name": "stdout",
     "output_type": "stream",
     "text": [
      "294\n"
     ]
    },
    {
     "name": "stderr",
     "output_type": "stream",
     "text": [
      "WARNING: AstropyDeprecationWarning: \"pedantic\" was deprecated in version 5.0 and will be removed in a future version. Use argument \"verify\" instead. [astroquery.ned.core]\n"
     ]
    },
    {
     "name": "stdout",
     "output_type": "stream",
     "text": [
      "295\n"
     ]
    },
    {
     "name": "stderr",
     "output_type": "stream",
     "text": [
      "WARNING: AstropyDeprecationWarning: \"pedantic\" was deprecated in version 5.0 and will be removed in a future version. Use argument \"verify\" instead. [astroquery.ned.core]\n"
     ]
    },
    {
     "name": "stdout",
     "output_type": "stream",
     "text": [
      "296\n"
     ]
    },
    {
     "name": "stderr",
     "output_type": "stream",
     "text": [
      "WARNING: AstropyDeprecationWarning: \"pedantic\" was deprecated in version 5.0 and will be removed in a future version. Use argument \"verify\" instead. [astroquery.ned.core]\n"
     ]
    },
    {
     "name": "stdout",
     "output_type": "stream",
     "text": [
      "297\n"
     ]
    },
    {
     "name": "stderr",
     "output_type": "stream",
     "text": [
      "WARNING: AstropyDeprecationWarning: \"pedantic\" was deprecated in version 5.0 and will be removed in a future version. Use argument \"verify\" instead. [astroquery.ned.core]\n"
     ]
    },
    {
     "name": "stdout",
     "output_type": "stream",
     "text": [
      "298\n"
     ]
    },
    {
     "name": "stderr",
     "output_type": "stream",
     "text": [
      "WARNING: AstropyDeprecationWarning: \"pedantic\" was deprecated in version 5.0 and will be removed in a future version. Use argument \"verify\" instead. [astroquery.ned.core]\n"
     ]
    },
    {
     "name": "stdout",
     "output_type": "stream",
     "text": [
      "299\n"
     ]
    },
    {
     "name": "stderr",
     "output_type": "stream",
     "text": [
      "WARNING: AstropyDeprecationWarning: \"pedantic\" was deprecated in version 5.0 and will be removed in a future version. Use argument \"verify\" instead. [astroquery.ned.core]\n"
     ]
    },
    {
     "name": "stdout",
     "output_type": "stream",
     "text": [
      "300\n"
     ]
    },
    {
     "name": "stderr",
     "output_type": "stream",
     "text": [
      "WARNING: AstropyDeprecationWarning: \"pedantic\" was deprecated in version 5.0 and will be removed in a future version. Use argument \"verify\" instead. [astroquery.ned.core]\n"
     ]
    },
    {
     "name": "stdout",
     "output_type": "stream",
     "text": [
      "301\n"
     ]
    },
    {
     "name": "stderr",
     "output_type": "stream",
     "text": [
      "WARNING: AstropyDeprecationWarning: \"pedantic\" was deprecated in version 5.0 and will be removed in a future version. Use argument \"verify\" instead. [astroquery.ned.core]\n"
     ]
    },
    {
     "name": "stdout",
     "output_type": "stream",
     "text": [
      "302\n"
     ]
    },
    {
     "name": "stderr",
     "output_type": "stream",
     "text": [
      "WARNING: AstropyDeprecationWarning: \"pedantic\" was deprecated in version 5.0 and will be removed in a future version. Use argument \"verify\" instead. [astroquery.ned.core]\n"
     ]
    },
    {
     "name": "stdout",
     "output_type": "stream",
     "text": [
      "303\n"
     ]
    },
    {
     "name": "stderr",
     "output_type": "stream",
     "text": [
      "WARNING: AstropyDeprecationWarning: \"pedantic\" was deprecated in version 5.0 and will be removed in a future version. Use argument \"verify\" instead. [astroquery.ned.core]\n"
     ]
    },
    {
     "name": "stdout",
     "output_type": "stream",
     "text": [
      "304\n"
     ]
    },
    {
     "name": "stderr",
     "output_type": "stream",
     "text": [
      "WARNING: AstropyDeprecationWarning: \"pedantic\" was deprecated in version 5.0 and will be removed in a future version. Use argument \"verify\" instead. [astroquery.ned.core]\n"
     ]
    },
    {
     "name": "stdout",
     "output_type": "stream",
     "text": [
      "305\n"
     ]
    },
    {
     "name": "stderr",
     "output_type": "stream",
     "text": [
      "WARNING: AstropyDeprecationWarning: \"pedantic\" was deprecated in version 5.0 and will be removed in a future version. Use argument \"verify\" instead. [astroquery.ned.core]\n"
     ]
    },
    {
     "name": "stdout",
     "output_type": "stream",
     "text": [
      "306\n"
     ]
    },
    {
     "name": "stderr",
     "output_type": "stream",
     "text": [
      "WARNING: AstropyDeprecationWarning: \"pedantic\" was deprecated in version 5.0 and will be removed in a future version. Use argument \"verify\" instead. [astroquery.ned.core]\n"
     ]
    },
    {
     "name": "stdout",
     "output_type": "stream",
     "text": [
      "307\n"
     ]
    },
    {
     "name": "stderr",
     "output_type": "stream",
     "text": [
      "WARNING: AstropyDeprecationWarning: \"pedantic\" was deprecated in version 5.0 and will be removed in a future version. Use argument \"verify\" instead. [astroquery.ned.core]\n",
      "WARNING"
     ]
    },
    {
     "name": "stdout",
     "output_type": "stream",
     "text": [
      "308\n"
     ]
    },
    {
     "name": "stderr",
     "output_type": "stream",
     "text": [
      ": AstropyDeprecationWarning: \"pedantic\" was deprecated in version 5.0 and will be removed in a future version. Use argument \"verify\" instead. [astroquery.ned.core]\n"
     ]
    },
    {
     "name": "stdout",
     "output_type": "stream",
     "text": [
      "309\n"
     ]
    },
    {
     "name": "stderr",
     "output_type": "stream",
     "text": [
      "WARNING: AstropyDeprecationWarning: \"pedantic\" was deprecated in version 5.0 and will be removed in a future version. Use argument \"verify\" instead. [astroquery.ned.core]\n",
      "WARNING"
     ]
    },
    {
     "name": "stdout",
     "output_type": "stream",
     "text": [
      "310\n"
     ]
    },
    {
     "name": "stderr",
     "output_type": "stream",
     "text": [
      ": AstropyDeprecationWarning: \"pedantic\" was deprecated in version 5.0 and will be removed in a future version. Use argument \"verify\" instead. [astroquery.ned.core]\n"
     ]
    },
    {
     "name": "stdout",
     "output_type": "stream",
     "text": [
      "311\n"
     ]
    },
    {
     "name": "stderr",
     "output_type": "stream",
     "text": [
      "WARNING: AstropyDeprecationWarning: \"pedantic\" was deprecated in version 5.0 and will be removed in a future version. Use argument \"verify\" instead. [astroquery.ned.core]\n"
     ]
    },
    {
     "name": "stdout",
     "output_type": "stream",
     "text": [
      "312\n"
     ]
    },
    {
     "name": "stderr",
     "output_type": "stream",
     "text": [
      "WARNING: AstropyDeprecationWarning: \"pedantic\" was deprecated in version 5.0 and will be removed in a future version. Use argument \"verify\" instead. [astroquery.ned.core]\n"
     ]
    },
    {
     "name": "stdout",
     "output_type": "stream",
     "text": [
      "313\n"
     ]
    },
    {
     "name": "stderr",
     "output_type": "stream",
     "text": [
      "WARNING: AstropyDeprecationWarning: \"pedantic\" was deprecated in version 5.0 and will be removed in a future version. Use argument \"verify\" instead. [astroquery.ned.core]\n",
      "WARNING: AstropyDeprecationWarning: \"pedantic\" was deprecated in version 5.0 and will be removed in a future version. Use argument \"verify\" instead. [astroquery.ned.core]\n"
     ]
    },
    {
     "name": "stdout",
     "output_type": "stream",
     "text": [
      "314\n",
      "315\n"
     ]
    },
    {
     "name": "stderr",
     "output_type": "stream",
     "text": [
      "WARNING: AstropyDeprecationWarning: \"pedantic\" was deprecated in version 5.0 and will be removed in a future version. Use argument \"verify\" instead. [astroquery.ned.core]\n"
     ]
    },
    {
     "name": "stdout",
     "output_type": "stream",
     "text": [
      "316\n"
     ]
    },
    {
     "name": "stderr",
     "output_type": "stream",
     "text": [
      "WARNING: AstropyDeprecationWarning: \"pedantic\" was deprecated in version 5.0 and will be removed in a future version. Use argument \"verify\" instead. [astroquery.ned.core]\n"
     ]
    },
    {
     "name": "stdout",
     "output_type": "stream",
     "text": [
      "317\n"
     ]
    },
    {
     "name": "stderr",
     "output_type": "stream",
     "text": [
      "WARNING: AstropyDeprecationWarning: \"pedantic\" was deprecated in version 5.0 and will be removed in a future version. Use argument \"verify\" instead. [astroquery.ned.core]\n"
     ]
    },
    {
     "name": "stdout",
     "output_type": "stream",
     "text": [
      "318\n"
     ]
    },
    {
     "name": "stderr",
     "output_type": "stream",
     "text": [
      "WARNING: AstropyDeprecationWarning: \"pedantic\" was deprecated in version 5.0 and will be removed in a future version. Use argument \"verify\" instead. [astroquery.ned.core]\n"
     ]
    },
    {
     "name": "stdout",
     "output_type": "stream",
     "text": [
      "319\n"
     ]
    },
    {
     "name": "stderr",
     "output_type": "stream",
     "text": [
      "WARNING: AstropyDeprecationWarning: \"pedantic\" was deprecated in version 5.0 and will be removed in a future version. Use argument \"verify\" instead. [astroquery.ned.core]\n"
     ]
    },
    {
     "name": "stdout",
     "output_type": "stream",
     "text": [
      "320\n"
     ]
    },
    {
     "name": "stderr",
     "output_type": "stream",
     "text": [
      "WARNING: AstropyDeprecationWarning: \"pedantic\" was deprecated in version 5.0 and will be removed in a future version. Use argument \"verify\" instead. [astroquery.ned.core]\n"
     ]
    },
    {
     "name": "stdout",
     "output_type": "stream",
     "text": [
      "321\n"
     ]
    },
    {
     "name": "stderr",
     "output_type": "stream",
     "text": [
      "WARNING: AstropyDeprecationWarning: \"pedantic\" was deprecated in version 5.0 and will be removed in a future version. Use argument \"verify\" instead. [astroquery.ned.core]\n"
     ]
    },
    {
     "name": "stdout",
     "output_type": "stream",
     "text": [
      "322\n"
     ]
    },
    {
     "name": "stderr",
     "output_type": "stream",
     "text": [
      "WARNING: AstropyDeprecationWarning: \"pedantic\" was deprecated in version 5.0 and will be removed in a future version. Use argument \"verify\" instead. [astroquery.ned.core]\n"
     ]
    },
    {
     "name": "stdout",
     "output_type": "stream",
     "text": [
      "323\n"
     ]
    },
    {
     "name": "stderr",
     "output_type": "stream",
     "text": [
      "WARNING: AstropyDeprecationWarning: \"pedantic\" was deprecated in version 5.0 and will be removed in a future version. Use argument \"verify\" instead. [astroquery.ned.core]\n"
     ]
    },
    {
     "name": "stdout",
     "output_type": "stream",
     "text": [
      "324\n"
     ]
    },
    {
     "name": "stderr",
     "output_type": "stream",
     "text": [
      "WARNING: AstropyDeprecationWarning: \"pedantic\" was deprecated in version 5.0 and will be removed in a future version. Use argument \"verify\" instead. [astroquery.ned.core]\n"
     ]
    },
    {
     "name": "stdout",
     "output_type": "stream",
     "text": [
      "325\n"
     ]
    },
    {
     "name": "stderr",
     "output_type": "stream",
     "text": [
      "WARNING: AstropyDeprecationWarning: \"pedantic\" was deprecated in version 5.0 and will be removed in a future version. Use argument \"verify\" instead. [astroquery.ned.core]\n"
     ]
    },
    {
     "name": "stdout",
     "output_type": "stream",
     "text": [
      "326\n"
     ]
    },
    {
     "name": "stderr",
     "output_type": "stream",
     "text": [
      "WARNING: AstropyDeprecationWarning: \"pedantic\" was deprecated in version 5.0 and will be removed in a future version. Use argument \"verify\" instead. [astroquery.ned.core]\n"
     ]
    },
    {
     "name": "stdout",
     "output_type": "stream",
     "text": [
      "327\n"
     ]
    },
    {
     "name": "stderr",
     "output_type": "stream",
     "text": [
      "WARNING: AstropyDeprecationWarning: \"pedantic\" was deprecated in version 5.0 and will be removed in a future version. Use argument \"verify\" instead. [astroquery.ned.core]\n"
     ]
    },
    {
     "name": "stdout",
     "output_type": "stream",
     "text": [
      "328\n"
     ]
    },
    {
     "name": "stderr",
     "output_type": "stream",
     "text": [
      "WARNING: AstropyDeprecationWarning: \"pedantic\" was deprecated in version 5.0 and will be removed in a future version. Use argument \"verify\" instead. [astroquery.ned.core]\n"
     ]
    }
   ],
   "source": [
    "name1 = []\n",
    "ra1 = []\n",
    "dec1 = []\n",
    "velocity1 = []\n",
    "redshift1 = []\n",
    "flag1 = []\n",
    "for i in range(len(ra_voting)):\n",
    "    print(i)\n",
    "#     if i%200 == 0:\n",
    "#         time.sleep(15)\n",
    "    co = coordinates.SkyCoord(ra=ra_voting[i], dec=dec_voting[i], unit=(u.deg, u.deg))\n",
    "    results = Ned.query_region(co, radius=1* u.arcsec, equinox='J2000.0')\n",
    "    if len(results) == 0:\n",
    "        name1_temp, ra1_temp, dec1_temp, vel1_temp, redshift1_temp, flag1_temp = np.nan, np.nan, np.nan, np.nan, np.nan, np.nan\n",
    "        name1.append(name1_temp)\n",
    "        ra1.append(ra1_temp)\n",
    "        dec1.append(dec1_temp)\n",
    "        velocity1.append(vel1_temp)\n",
    "        redshift1.append(redshift1_temp)\n",
    "        flag1.append(flag1_temp)\n",
    "    else:\n",
    "        name1_temp, ra1_temp, dec1_temp, vel1_temp, redshift1_temp, flag1_temp = results['Object Name'], results['RA'], results['DEC'], results['Velocity'], results['Redshift'], results['Redshift Flag']\n",
    "        for j in range(len(name1_temp)):\n",
    "            name1.append(name1_temp[j])\n",
    "            ra1.append(ra1_temp[j])\n",
    "            dec1.append(dec1_temp[j])\n",
    "            velocity1.append(vel1_temp[j])\n",
    "            redshift1.append(redshift1_temp[j])\n",
    "            flag1.append(flag1_temp[j])"
   ]
  },
  {
   "cell_type": "code",
   "execution_count": 52,
   "metadata": {},
   "outputs": [],
   "source": [
    "# dictionary of lists  \n",
    "dict = {'name': name1, 'ra': ra1, 'dec': dec1, 'velocity': velocity1, 'redshift': redshift1, 'flag': flag1}  \n",
    "df_ned_voting = pd.DataFrame(dict) \n",
    "    \n",
    "# saving the dataframe \n",
    "# df1.to_csv('ned_compact_dr7.csv') "
   ]
  },
  {
   "cell_type": "markdown",
   "metadata": {},
   "source": [
    "# NED (with specz > 0.01) and ML results crossmatching"
   ]
  },
  {
   "cell_type": "code",
   "execution_count": 53,
   "metadata": {},
   "outputs": [],
   "source": [
    "ra_ned_voting, dec_ned_voting, name_ned_voting, velocity_ned_voting, redshift_ned_voting, flag_ned_voting = df_ned_voting['ra'], df_ned_voting['dec'], df_ned_voting['name'], df_ned_voting['velocity'], df_ned_voting['redshift'], df_ned_voting['flag']"
   ]
  },
  {
   "cell_type": "code",
   "execution_count": 54,
   "metadata": {},
   "outputs": [
    {
     "name": "stderr",
     "output_type": "stream",
     "text": [
      "C:\\Users\\Home\\anaconda3\\lib\\site-packages\\pandas\\core\\dtypes\\cast.py:1201: UserWarning: Warning: converting a masked element to nan.\n",
      "  return arr.astype(dtype, copy=True)\n"
     ]
    }
   ],
   "source": [
    "redshift_ned_voting_1a = redshift_ned_voting.copy()\n",
    "redshift_ned_voting_1a[redshift_ned_voting_1a == '--'] = np.nan\n",
    "redshift_ned_voting_1a = redshift_ned_voting_1a.astype(float)\n",
    "\n",
    "voting_specz_over = (redshift_ned_voting_1a > 0.01) & (flag_ned_voting == 'SPEC')"
   ]
  },
  {
   "cell_type": "code",
   "execution_count": 55,
   "metadata": {},
   "outputs": [],
   "source": [
    "ra_ned_voting_1 = np.array(ra_ned_voting[voting_specz_over])\n",
    "dec_ned_voting_1 = np.array(dec_ned_voting[voting_specz_over])\n",
    "name_ned_voting_1 =  np.array(name_ned_voting[voting_specz_over])\n",
    "velocity_ned_voting_1 = np.array(velocity_ned_voting[voting_specz_over])\n",
    "redshift_ned_voting_1 = np.array(redshift_ned_voting[voting_specz_over]).astype(float)\n",
    "flag_ned_voting_1 = np.array(flag_ned_voting[voting_specz_over])"
   ]
  },
  {
   "cell_type": "code",
   "execution_count": 56,
   "metadata": {},
   "outputs": [],
   "source": [
    "c1 = SkyCoord(ra=ra_voting*u.degree, dec=dec_voting*u.degree)\n",
    "catalog1 = SkyCoord(ra=ra_ned_voting_1*u.degree, dec=dec_ned_voting_1*u.degree)\n",
    "idx_1, d2d_1, d3d_1 = c1.match_to_catalog_sky(catalog1)"
   ]
  },
  {
   "cell_type": "code",
   "execution_count": 57,
   "metadata": {},
   "outputs": [],
   "source": [
    "max_sep = 1 * u.arcsec\n",
    "sep_constraint_1 = d2d_1 < max_sep\n",
    "c1_matches = c1[sep_constraint_1]\n",
    "catalog1_matches = catalog1[idx_1[sep_constraint_1]]"
   ]
  },
  {
   "cell_type": "code",
   "execution_count": 58,
   "metadata": {},
   "outputs": [],
   "source": [
    "objid_training = df_training['objid']\n",
    "ra_training, dec_training = df_training['ra'], df_training['dec']\n",
    "host_galaxy_training = df_training['host_galaxy']\n",
    "distance_training = df_training['distance']\n",
    "magnitude_training = df_training['magnitude']\n",
    "category_training = df_training['category']\n",
    "radius_training = df_training['radius']\n",
    "u_mag_training, g_mag_training, r_mag_training, i_mag_training, z_mag_training = df_training['u_mag'], df_training['g_mag'], df_training['r_mag'], df_training['i_mag'], df_training['z_mag']\n",
    "concentration_index_training = df_training['concentration_index']\n",
    "frac_dev_training = df_training['frac_dev']\n",
    "axis_ratio_training = df_training['axis_ratio']\n",
    "photoz_training = df_training['photo_z']\n",
    "category_training = df_training['category']\n",
    "g_i_training, u_g_training, u_z_training, g_z_training, g_r_training = df_training['g-i'], df_training['u-g'], df_training['u-z'], df_training['g-z'], df_training['g-r']\n",
    "w1_training, w2_training, w3_training, w4_training = df_training['w1'],df_training['w2'],df_training['w3'],df_training['w4']\n",
    "z_w1_training, z_w2_training,z_w3_training,z_w4_training = df_training['z-w1'],df_training['z-w2'],df_training['z-w3'],df_training['z-w4']\n",
    "link_training = df_training['link']"
   ]
  },
  {
   "cell_type": "code",
   "execution_count": 59,
   "metadata": {},
   "outputs": [
    {
     "name": "stderr",
     "output_type": "stream",
     "text": [
      "C:\\Users\\Home\\AppData\\Local\\Temp/ipykernel_4044/354860432.py:1: SettingWithCopyWarning: \n",
      "A value is trying to be set on a copy of a slice from a DataFrame\n",
      "\n",
      "See the caveats in the documentation: https://pandas.pydata.org/pandas-docs/stable/user_guide/indexing.html#returning-a-view-versus-a-copy\n",
      "  category_voting[sep_constraint_1] = 'Contaminant'\n"
     ]
    }
   ],
   "source": [
    "category_voting[sep_constraint_1] = 'Contaminant'"
   ]
  },
  {
   "cell_type": "markdown",
   "metadata": {},
   "source": [
    "# Creating new training data:\n",
    "## Adding original training set + NED confirmed contaminants"
   ]
  },
  {
   "cell_type": "code",
   "execution_count": 60,
   "metadata": {},
   "outputs": [],
   "source": [
    "objid_final = np.concatenate((objid_training,objid_voting[sep_constraint_1]))\n",
    "ra_final, dec_final = np.concatenate((ra_training,ra_voting[sep_constraint_1])), np.concatenate((dec_training,dec_voting[sep_constraint_1]))\n",
    "host_galaxy_final = np.concatenate((host_galaxy_training,host_galaxy_voting[sep_constraint_1]))\n",
    "distance_final = np.concatenate((distance_training,distance_voting[sep_constraint_1]))\n",
    "magnitude_final = np.concatenate((magnitude_training,magnitude_voting[sep_constraint_1]))\n",
    "category_final = np.concatenate((category_training,category_voting[sep_constraint_1]))\n",
    "radius_final = np.concatenate((radius_training,radius_voting[sep_constraint_1]))\n",
    "u_mag_final, g_mag_final, r_mag_final, i_mag_final, z_mag_final = np.concatenate((u_mag_training,u_mag_voting[sep_constraint_1])), np.concatenate((g_mag_training,g_mag_voting[sep_constraint_1])), np.concatenate((r_mag_training,r_mag_voting[sep_constraint_1])), np.concatenate((i_mag_training,i_mag_voting[sep_constraint_1])), np.concatenate((z_mag_training,z_mag_voting[sep_constraint_1]))\n",
    "concentration_index_final = np.concatenate((concentration_index_training,concentration_index_voting[sep_constraint_1]))\n",
    "frac_dev_final = np.concatenate((frac_dev_training,frac_dev_voting[sep_constraint_1]))\n",
    "axis_ratio_final = np.concatenate((axis_ratio_training,axis_ratio_voting[sep_constraint_1]))\n",
    "photoz_final = np.concatenate((photoz_training,photoz_voting[sep_constraint_1]))\n",
    "category_final = np.concatenate((category_training,category_voting[sep_constraint_1]))\n",
    "g_i_final, u_g_final, u_z_final, g_z_final, g_r_final = np.concatenate((g_i_training,g_i_voting[sep_constraint_1])), np.concatenate((u_g_training,u_g_voting[sep_constraint_1])), np.concatenate((u_z_training,u_z_voting[sep_constraint_1])), np.concatenate((g_z_training,g_z_voting[sep_constraint_1])), np.concatenate((g_r_training,g_r_voting[sep_constraint_1]))\n",
    "z_w1_final, z_w2_final, z_w3_final, z_w4_final = np.concatenate((z_w1_training, z_w1_voting[sep_constraint_1])),np.concatenate((z_w2_training, z_w2_voting[sep_constraint_1])),np.concatenate((z_w3_training, z_w3_voting[sep_constraint_1])), np.concatenate((z_w4_training, z_w4_voting[sep_constraint_1]))\n",
    "w1_final, w2_final, w3_final, w4_final = np.concatenate((w1_training, w1_voting[sep_constraint_1])), np.concatenate((w2_training, w2_voting[sep_constraint_1])), np.concatenate((w3_training, w3_voting[sep_constraint_1])),  np.concatenate((w4_training, w4_voting[sep_constraint_1]))\n",
    "link_final = np.concatenate((link_training,link_voting[sep_constraint_1]))"
   ]
  },
  {
   "cell_type": "code",
   "execution_count": 61,
   "metadata": {},
   "outputs": [],
   "source": [
    "# dictionary of lists  \n",
    "dict = {'objid': objid_final, 'ra': ra_final, 'dec': dec_final, 'g-i': g_i_final, 'u-g': u_g_final, 'u-z': u_z_final, 'g-z': g_z_final, 'g-r': g_r_final,'z-w1': z_w1_final, 'z-w2': z_w2_final,'z-w3': z_w3_final,'z-w4': z_w4_final,'concentration_index': concentration_index_final, 'photo_z': photoz_final, 'frac_dev': frac_dev_final, 'host_galaxy': host_galaxy_final, 'distance': distance_final, 'axis_ratio': axis_ratio_final, 'category': category_final, 'radius': radius_final, 'magnitude': magnitude_final, 'u_mag': u_mag_final, 'g_mag': g_mag_final, 'i_mag': i_mag_final, 'r_mag': r_mag_final, 'z_mag': z_mag_final, 'w1': w1_final, 'w2': w2_final,'w3': w3_final,'w4': w4_final, 'link': link_final}  \n",
    "df_training_v2 = pd.DataFrame(dict) \n",
    "    \n",
    "# saving the dataframe \n",
    "df_training_v2.to_csv('training_v2_dr7.csv') "
   ]
  },
  {
   "cell_type": "code",
   "execution_count": 62,
   "metadata": {},
   "outputs": [
    {
     "name": "stdout",
     "output_type": "stream",
     "text": [
      "category\n",
      "Contaminant       320\n",
      "Known galaxies     13\n",
      "dtype: int64\n"
     ]
    }
   ],
   "source": [
    "print(df_training_v2 .groupby('category').size())"
   ]
  },
  {
   "cell_type": "code",
   "execution_count": null,
   "metadata": {},
   "outputs": [],
   "source": []
  }
 ],
 "metadata": {
  "kernelspec": {
   "display_name": "Python 3 (ipykernel)",
   "language": "python",
   "name": "python3"
  },
  "language_info": {
   "codemirror_mode": {
    "name": "ipython",
    "version": 3
   },
   "file_extension": ".py",
   "mimetype": "text/x-python",
   "name": "python",
   "nbconvert_exporter": "python",
   "pygments_lexer": "ipython3",
   "version": "3.9.12"
  }
 },
 "nbformat": 4,
 "nbformat_minor": 4
}
