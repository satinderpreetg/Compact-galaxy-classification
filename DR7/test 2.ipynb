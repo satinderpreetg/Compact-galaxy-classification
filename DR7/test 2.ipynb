{
 "cells": [
  {
   "cell_type": "markdown",
   "metadata": {},
   "source": [
    "# Run 2"
   ]
  },
  {
   "cell_type": "code",
   "execution_count": 1,
   "metadata": {},
   "outputs": [],
   "source": [
    "import pandas as pd\n",
    "import numpy as np\n",
    "import seaborn as sns\n",
    "from sklearn.preprocessing import StandardScaler, RobustScaler, QuantileTransformer\n",
    "from sklearn.decomposition import PCA\n",
    "import matplotlib.pyplot as plt\n",
    "from mpl_toolkits import mplot3d\n",
    "import joblib\n",
    "from pickle import dump\n",
    "from pandas import read_csv\n",
    "from pickle import load\n",
    "\n",
    "%matplotlib inline"
   ]
  },
  {
   "cell_type": "code",
   "execution_count": 2,
   "metadata": {},
   "outputs": [
    {
     "name": "stderr",
     "output_type": "stream",
     "text": [
      "WARNING: AstropyDeprecationWarning: The update_default_config function is deprecated and may be removed in a future version. [astroquery._astropy_init]\n"
     ]
    }
   ],
   "source": [
    "from astroquery.ned import Ned\n",
    "import astropy.units as u\n",
    "from astropy import coordinates\n",
    "from astropy.table import Table\n",
    "import time\n",
    "from astropy.coordinates import SkyCoord"
   ]
  },
  {
   "cell_type": "code",
   "execution_count": 3,
   "metadata": {},
   "outputs": [],
   "source": [
    "# from sklearn.model_selection import train_test_split\n",
    "from sklearn.model_selection import cross_val_score\n",
    "from sklearn.model_selection import StratifiedKFold\n",
    "# from sklearn.metrics import classification_report\n",
    "from sklearn.metrics import confusion_matrix\n",
    "# from sklearn.metrics import accuracy_score\n",
    "from sklearn.linear_model import LogisticRegression\n",
    "from sklearn.tree import DecisionTreeClassifier\n",
    "from sklearn.neighbors import KNeighborsClassifier\n",
    "from sklearn.discriminant_analysis import LinearDiscriminantAnalysis\n",
    "from sklearn.naive_bayes import GaussianNB\n",
    "from sklearn.svm import SVC\n",
    "from sklearn.gaussian_process import GaussianProcessClassifier\n",
    "from sklearn.ensemble import RandomForestClassifier, VotingClassifier, AdaBoostClassifier\n",
    "from sklearn.neural_network import MLPClassifier\n",
    "from sklearn.linear_model import Perceptron\n",
    "# from sklearn.discriminant_analysis import QuadraticDiscriminantAnalysis\n",
    "# from sklearn.gaussian_process.kernels import RBF"
   ]
  },
  {
   "cell_type": "markdown",
   "metadata": {},
   "source": [
    "# PCA & data scaling"
   ]
  },
  {
   "cell_type": "code",
   "execution_count": 4,
   "metadata": {},
   "outputs": [
    {
     "name": "stdout",
     "output_type": "stream",
     "text": [
      "['objid', 'ra', 'dec', 'g-i', 'u-g', 'u-z', 'g-z', 'g-r', 'concentration_index', 'photo_z', 'frac_dev', 'host_galaxy', 'distance', 'axis_ratio', 'category', 'radius', 'magnitude', 'u_mag', 'g_mag', 'i_mag', 'r_mag', 'z_mag', 'link']\n"
     ]
    }
   ],
   "source": [
    "df_training =  pd.read_csv(\"test_training_v2_dr7.csv\")\n",
    "columnsNamesArr = df_training.columns.values\n",
    "column_names = list(columnsNamesArr)\n",
    "print(column_names[1:])"
   ]
  },
  {
   "cell_type": "code",
   "execution_count": 5,
   "metadata": {},
   "outputs": [
    {
     "name": "stdout",
     "output_type": "stream",
     "text": [
      "category\n",
      "Contaminant        145\n",
      "Known galaxies      18\n",
      "New Contaminant    103\n",
      "dtype: int64\n"
     ]
    }
   ],
   "source": [
    "print(df_training.groupby('category').size())"
   ]
  },
  {
   "cell_type": "code",
   "execution_count": 6,
   "metadata": {},
   "outputs": [
    {
     "name": "stdout",
     "output_type": "stream",
     "text": [
      "11\n"
     ]
    }
   ],
   "source": [
    "features = ['g-i', 'u-g', 'u-z', 'g-z', 'g-r', 'concentration_index', 'photo_z', 'frac_dev','axis_ratio','radius', 'magnitude']\n",
    "print(len(features))"
   ]
  },
  {
   "cell_type": "code",
   "execution_count": 14,
   "metadata": {},
   "outputs": [
    {
     "name": "stdout",
     "output_type": "stream",
     "text": [
      "266\n",
      "18\n"
     ]
    }
   ],
   "source": [
    "# classification as array of 0's and 1's\n",
    "category = df_training['category']\n",
    "classification = np.NaN*np.ones(len(category))\n",
    "classification[category == 'Known galaxies'] = 1  \n",
    "classification[(category == 'Contaminant') | (category == 'New Contaminant')] = 0 \n",
    "print(len(classification))\n",
    "print(len(classification[classification == 1]))"
   ]
  },
  {
   "cell_type": "code",
   "execution_count": 15,
   "metadata": {},
   "outputs": [],
   "source": [
    "# define feature data and standardize it\n",
    "data = df_training.loc[:,features].values\n",
    "# define scaler\n",
    "scaler = StandardScaler()\n",
    "# scaler = RobustScaler()\n",
    "# scaler = QuantileTransformer()\n",
    "# fit scaler on the training dataset\n",
    "scaler.fit(data)\n",
    "# transform the training dataset\n",
    "data_scaled = scaler.transform(data)"
   ]
  },
  {
   "cell_type": "code",
   "execution_count": 16,
   "metadata": {},
   "outputs": [
    {
     "name": "stdout",
     "output_type": "stream",
     "text": [
      "[[ 1.21908900e+00  1.99775000e+00  3.50163500e+00  1.50388500e+00\n",
      "   8.01174000e-01  4.29556079e-01  6.44320000e-02  1.00000000e+00\n",
      "   9.99748000e-01  2.41324678e+01 -1.30009332e+01]\n",
      " [ 9.18632000e-01  1.57951000e+00  2.65417300e+00  1.07466300e+00\n",
      "   5.44668000e-01  4.11960377e-01  6.38450000e-02  9.19178000e-01\n",
      "   7.72155000e-01  5.18420974e+01 -1.23090232e+01]\n",
      " [ 9.39611000e-01  1.51723700e+00  2.64687400e+00  1.12963700e+00\n",
      "   6.15393000e-01  3.58278360e-01  5.70110000e-02  1.00000000e+00\n",
      "   9.42084000e-01  4.71619806e+01 -1.25735082e+01]\n",
      " [ 9.86498000e-01  1.61505300e+00  2.80709500e+00  1.19204200e+00\n",
      "   6.59098000e-01  3.53439613e-01  5.51170000e-02  1.00000000e+00\n",
      "   9.75871000e-01  1.32931282e+02 -1.39173972e+01]\n",
      " [ 1.23237400e+00  1.93953000e+00  3.48002700e+00  1.54049700e+00\n",
      "   7.77068000e-01  3.56828268e-01  7.35520000e-02  8.98676000e-01\n",
      "   9.64339000e-01  1.87534407e+02 -1.79724182e+01]]\n"
     ]
    }
   ],
   "source": [
    "print(data[:5])"
   ]
  },
  {
   "cell_type": "code",
   "execution_count": 17,
   "metadata": {},
   "outputs": [],
   "source": [
    "# transform data to 6 principle components which take into account 95 pct of the variance in the data\n",
    "# pca = PCA(n_components = 11, random_state = 2020)\n",
    "pca = PCA(n_components = 0.95, random_state = 2020) #this automatically chooses the amount of PC's for 95 pct variance\n",
    "pca.fit(data_scaled)\n",
    "principal_components = pca.transform(data_scaled)\n",
    "principal_df = pd.DataFrame(data = principal_components, columns = ['Principal Component 1','Principal Component 2','Principal Component 3','Principal Component 4','Principal Component 5','Principal Component 6'])\n",
    "final_df = pd.concat([principal_df, df_training[['category']]], axis = 1)\n"
   ]
  },
  {
   "cell_type": "code",
   "execution_count": 18,
   "metadata": {},
   "outputs": [
    {
     "data": {
      "text/plain": [
       "Text(0.5, 1.0, 'Influence on each principal component by features')"
      ]
     },
     "execution_count": 18,
     "metadata": {},
     "output_type": "execute_result"
    },
    {
     "data": {
      "image/png": "[encoded data removed]",
      "text/plain": [
       "<Figure size 1008x1008 with 2 Axes>"
      ]
     },
     "metadata": {
      "needs_background": "light"
     },
     "output_type": "display_data"
    }
   ],
   "source": [
    "features_map = ['g-i', 'u-g', 'u-z', 'g-z', 'g-r', 'conc_index', 'photo_z', 'frac_dev', 'axis_ratio','radius', 'magnitude']\n",
    "fig = plt.figure(figsize = (14,14))\n",
    "ax = sns.heatmap(pca.components_,\n",
    "                 cmap='YlGnBu',\n",
    "                 yticklabels=[ \"PCA\"+str(x) for x in range(1,pca.n_components_+1)],\n",
    "                 xticklabels=features_map,\n",
    "                 cbar_kws={\"orientation\": \"horizontal\"})\n",
    "ax.set_aspect(\"equal\")\n",
    "ax.set_title('Influence on each principal component by features')"
   ]
  },
  {
   "cell_type": "code",
   "execution_count": 19,
   "metadata": {},
   "outputs": [],
   "source": [
    "X = principal_components\n",
    "y = classification"
   ]
  },
  {
   "cell_type": "code",
   "execution_count": 20,
   "metadata": {},
   "outputs": [],
   "source": [
    "# X = data_scaled\n",
    "# y = classification"
   ]
  },
  {
   "cell_type": "code",
   "execution_count": 21,
   "metadata": {},
   "outputs": [],
   "source": [
    "# X = data\n",
    "# y = classification"
   ]
  },
  {
   "cell_type": "markdown",
   "metadata": {},
   "source": [
    "# Model training"
   ]
  },
  {
   "cell_type": "code",
   "execution_count": 30,
   "metadata": {},
   "outputs": [
    {
     "name": "stdout",
     "output_type": "stream",
     "text": [
      "0.533333 (0.066667)\n"
     ]
    }
   ],
   "source": [
    "clf = SVC(random_state = 2020,gamma='auto')\n",
    "kfold = StratifiedKFold(n_splits=5, random_state=2020, shuffle=True)\n",
    "cv_results = cross_val_score(clf, X, y, cv=kfold, scoring='balanced_accuracy')\n",
    "print('%f (%f)' % (cv_results.mean(), cv_results.std()))"
   ]
  },
  {
   "cell_type": "code",
   "execution_count": 31,
   "metadata": {},
   "outputs": [],
   "source": [
    "clf.fit(X, y)\n",
    "clf_predict = clf.predict(X)"
   ]
  },
  {
   "cell_type": "code",
   "execution_count": 32,
   "metadata": {},
   "outputs": [],
   "source": [
    "# # Spot Check Algorithms\n",
    "# random_state = 2020\n",
    "# models = []\n",
    "# models.append(('LR', LogisticRegression(random_state = 2020,solver='liblinear', multi_class='ovr')))\n",
    "# models.append(('LDA', LinearDiscriminantAnalysis()))\n",
    "# models.append(('KNN', KNeighborsClassifier()))\n",
    "# models.append(('CART',DecisionTreeClassifier()))\n",
    "# models.append(('NB', GaussianNB()))\n",
    "# models.append(('SVM', SVC(random_state = 2020,gamma='auto')))\n",
    "# models.append(('GP', GaussianProcessClassifier(random_state = 2020)))\n",
    "# models.append(('RF', RandomForestClassifier(random_state = 2020,max_depth=None, n_estimators=100, max_features= 'auto')))\n",
    "# models.append(('MLP', MLPClassifier(random_state = 2020,activation='relu', solver='lbfgs', max_iter=200)))\n",
    "# models.append(('PRCP', Perceptron(random_state = 2020, max_iter=30, tol = 0.001)))\n",
    "# # evaluate each model in turn\n",
    "# results = []\n",
    "# names = []\n",
    "# for name, model in models:\n",
    "# \tkfold = StratifiedKFold(n_splits=4, random_state=2020, shuffle=True)\n",
    "# \tcv_results = cross_val_score(model, X, y, cv=kfold, scoring='recall')\n",
    "# \tresults.append(cv_results)\n",
    "# \tnames.append(name)\n",
    "# \tprint('%s: %f (%f)' % (name, cv_results.mean(), cv_results.std()))\n",
    "# # try neural network"
   ]
  },
  {
   "cell_type": "code",
   "execution_count": 33,
   "metadata": {},
   "outputs": [],
   "source": [
    "# # voting methods application\n",
    "# clf1 = LogisticRegression(random_state = 2020,solver='liblinear', multi_class='ovr')\n",
    "# clf2 = LinearDiscriminantAnalysis()\n",
    "# clf3 = KNeighborsClassifier()\n",
    "# clf4 = DecisionTreeClassifier()\n",
    "# clf5 = GaussianNB()\n",
    "# clf6 = GaussianProcessClassifier(random_state = 2020)\n",
    "# clf7 = SVC(random_state = 2020,gamma='auto')\n",
    "# clf8 = RandomForestClassifier(random_state = 2020,max_depth=None, n_estimators=100, max_features= 'auto')\n",
    "# clf9 = MLPClassifier(random_state = 2020, activation='relu', solver='lbfgs', max_iter=100000)\n",
    "# clf10 = Perceptron(random_state = 2020, max_iter=30, tol = 0.001)\n",
    "\n",
    "# eclf1 = VotingClassifier(estimators=[('CART', clf4), ('MLP', clf9)], voting='hard')\n",
    "# eclf1.fit(X, y)\n",
    "# eclf_predict = eclf1.predict(X)"
   ]
  },
  {
   "cell_type": "code",
   "execution_count": 34,
   "metadata": {},
   "outputs": [],
   "source": [
    "# # save the model\n",
    "# dump(eclf1, open('voting_model_PCA_v1_dr7.pkl', 'wb'))\n",
    "# # save the scaler\n",
    "# dump(scaler, open('scaler_voting_model_PCA_v1_dr7.pkl', 'wb'))\n",
    "# # save the pca\n",
    "# dump(pca, open('pca_model_PCA_v1_dr7.pkl', 'wb'))"
   ]
  },
  {
   "cell_type": "code",
   "execution_count": 35,
   "metadata": {},
   "outputs": [],
   "source": [
    "plt.rcParams.update({'font.size': 20})"
   ]
  },
  {
   "cell_type": "code",
   "execution_count": 36,
   "metadata": {},
   "outputs": [
    {
     "data": {
      "image/png": "[encoded data removed]",
      "text/plain": [
       "<Figure size 792x792 with 1 Axes>"
      ]
     },
     "metadata": {
      "needs_background": "light"
     },
     "output_type": "display_data"
    }
   ],
   "source": [
    "fig1 = plt.figure(figsize=(11,11))\n",
    "g = sns.heatmap(confusion_matrix(y, clf_predict), square=True, annot=True, fmt=\"d\", cbar=False, xticklabels=['Contaminants', 'Compact Galaxies'], yticklabels=['Contaminants', 'Compact Galaxies'])\n",
    "g.set_yticklabels(labels=g.get_yticklabels(), va='center')\n",
    "plt.xlabel('predicted class')\n",
    "plt.ylabel('true class')\n",
    "plt.title('classifications')\n",
    "plt.tick_params('both', length=10, width=1.2, which='major', labelsize=20)"
   ]
  },
  {
   "cell_type": "markdown",
   "metadata": {},
   "source": [
    "# Model application on Atlas3D galaxies"
   ]
  },
  {
   "cell_type": "code",
   "execution_count": 22,
   "metadata": {},
   "outputs": [
    {
     "name": "stdout",
     "output_type": "stream",
     "text": [
      "['objid', 'ra', 'dec', 'g-i', 'u-g', 'u-z', 'g-z', 'g-r', 'concentration_index', 'photo_z', 'frac_dev', 'host_galaxy', 'distance', 'axis_ratio', 'category', 'radius', 'magnitude', 'u_mag', 'g_mag', 'i_mag', 'r_mag', 'z_mag', 'link']\n"
     ]
    }
   ],
   "source": [
    "df_atlas3d = pd.read_csv(\"atlas3d_search_dr7.csv\")\n",
    "columnsNamesArr = df_atlas3d.columns.values\n",
    "column_names = list(columnsNamesArr)\n",
    "print(column_names[1:])"
   ]
  },
  {
   "cell_type": "code",
   "execution_count": 23,
   "metadata": {},
   "outputs": [],
   "source": [
    "objid = df_atlas3d['objid']\n",
    "ra, dec = df_atlas3d['ra'], df_atlas3d['dec']\n",
    "host_galaxy = df_atlas3d['host_galaxy']\n",
    "distance = df_atlas3d['distance']\n",
    "magnitude = df_atlas3d['magnitude']\n",
    "category = df_atlas3d['category']\n",
    "radius = df_atlas3d['radius']\n",
    "u_mag, g_mag, r_mag, i_mag, z_mag = df_atlas3d['u_mag'], df_atlas3d['g_mag'], df_atlas3d['r_mag'], df_atlas3d['i_mag'], df_atlas3d['z_mag']\n",
    "concentration_index = df_atlas3d['concentration_index']\n",
    "frac_dev = df_atlas3d['frac_dev']\n",
    "axis_ratio = df_atlas3d['axis_ratio']\n",
    "photoz = df_atlas3d['photo_z']\n",
    "category = df_atlas3d['category']\n",
    "g_i, u_g, u_z, g_z, g_r = df_atlas3d['g-i'], df_atlas3d['u-g'], df_atlas3d['u-z'], df_atlas3d['g-z'], df_atlas3d['g-r']\n",
    "magnitude = df_atlas3d['magnitude']\n",
    "radius = df_atlas3d['radius']"
   ]
  },
  {
   "cell_type": "code",
   "execution_count": 24,
   "metadata": {},
   "outputs": [
    {
     "name": "stderr",
     "output_type": "stream",
     "text": [
      "C:\\Users\\Home\\AppData\\Local\\Temp/ipykernel_3976/2455194359.py:1: SettingWithCopyWarning: \n",
      "A value is trying to be set on a copy of a slice from a DataFrame\n",
      "\n",
      "See the caveats in the documentation: https://pandas.pydata.org/pandas-docs/stable/user_guide/indexing.html#returning-a-view-versus-a-copy\n",
      "  category[category == 'Possible contaminants'] = 'Possible compact galaxies'\n"
     ]
    }
   ],
   "source": [
    "category[category == 'Possible contaminants'] = 'Possible compact galaxies'"
   ]
  },
  {
   "cell_type": "code",
   "execution_count": 25,
   "metadata": {},
   "outputs": [
    {
     "name": "stdout",
     "output_type": "stream",
     "text": [
      "11\n"
     ]
    }
   ],
   "source": [
    "features = ['g-i', 'u-g', 'u-z', 'g-z', 'g-r', 'concentration_index', 'photo_z', 'frac_dev','axis_ratio','radius', 'magnitude']\n",
    "print(len(features))"
   ]
  },
  {
   "cell_type": "code",
   "execution_count": 26,
   "metadata": {},
   "outputs": [],
   "source": [
    "#make a link to sdss for this object\n",
    "objid = np.array(objid)\n",
    "link = []\n",
    "for i in range(len(objid)):\n",
    "    url = 'http://cas.sdss.org/dr7/en/tools/explore/obj.asp?id=' + str(objid[i])\n",
    "    link.append(url)\n",
    "link = np.array(link)"
   ]
  },
  {
   "cell_type": "code",
   "execution_count": 27,
   "metadata": {},
   "outputs": [
    {
     "name": "stdout",
     "output_type": "stream",
     "text": [
      "category\n",
      "Known galaxies                  18\n",
      "Possible compact galaxies    18769\n",
      "dtype: int64\n"
     ]
    }
   ],
   "source": [
    "print(df_atlas3d.groupby('category').size())"
   ]
  },
  {
   "cell_type": "code",
   "execution_count": 28,
   "metadata": {},
   "outputs": [],
   "source": [
    "#PCA\n",
    "X = df_atlas3d.loc[:,features].values\n",
    "X_scaled = scaler.transform(X)\n",
    "X_pca_scaled = pca.transform(X_scaled)\n",
    "y = clf.predict(X_pca_scaled) "
   ]
  },
  {
   "cell_type": "code",
   "execution_count": 29,
   "metadata": {},
   "outputs": [],
   "source": [
    "# #Scaled\n",
    "# X = df_atlas3d.loc[:,features].values\n",
    "# X_scaled = scaler.transform(X)\n",
    "# # X_pca_scaled = pca.transform(X_scaled)\n",
    "# y = eclf1.predict(X_scaled) "
   ]
  },
  {
   "cell_type": "code",
   "execution_count": 30,
   "metadata": {},
   "outputs": [],
   "source": [
    "# #Raw\n",
    "# X = df_atlas3d.loc[:,features].values\n",
    "# # X_scaled = scaler.transform(X)\n",
    "# # X_pca_scaled = pca.transform(X_scaled)\n",
    "# y = eclf1.predict(X) "
   ]
  },
  {
   "cell_type": "code",
   "execution_count": 31,
   "metadata": {},
   "outputs": [
    {
     "name": "stdout",
     "output_type": "stream",
     "text": [
      "Voting method: 723\n"
     ]
    }
   ],
   "source": [
    "index_1a = np.where(y == 1)[0]\n",
    "print('Voting method:', len(index_1a))\n",
    "index_1b = np.where(y == 0)[0]"
   ]
  },
  {
   "cell_type": "code",
   "execution_count": 32,
   "metadata": {},
   "outputs": [],
   "source": [
    "# dictionary of lists  \n",
    "dict = {'objid': objid[index_1a], 'ra': ra[index_1a], 'dec': dec[index_1a], 'g-i': g_mag[index_1a] - i_mag[index_1a], 'u-g': u_mag[index_1a] - g_mag[index_1a], 'u-z': u_mag[index_1a] - z_mag[index_1a], 'g-z': g_mag[index_1a] - z_mag[index_1a], 'g-r': g_mag[index_1a] - r_mag[index_1a], 'concentration_index': concentration_index[index_1a], 'photo_z': photoz[index_1a], 'frac_dev': frac_dev[index_1a], 'host_galaxy': host_galaxy[index_1a], 'distance': distance[index_1a], 'axis_ratio': axis_ratio[index_1a], 'category': category[index_1a], 'radius': radius[index_1a], 'magnitude': magnitude[index_1a], 'u_mag': u_mag[index_1a], 'g_mag': g_mag[index_1a], 'i_mag': i_mag[index_1a], 'r_mag': r_mag[index_1a], 'z_mag': z_mag[index_1a],  'link': link[index_1a]}   \n",
    "df_voting_results= pd.DataFrame(dict) \n",
    "    \n",
    "# saving the dataframe \n",
    "# df_voting_results.to_csv('voting_results_v2.csv', index = False) "
   ]
  },
  {
   "cell_type": "code",
   "execution_count": 33,
   "metadata": {},
   "outputs": [
    {
     "name": "stdout",
     "output_type": "stream",
     "text": [
      "category\n",
      "Known galaxies                18\n",
      "Possible compact galaxies    705\n",
      "dtype: int64\n",
      "From a total of 871 host galaxies\n"
     ]
    }
   ],
   "source": [
    "print(df_voting_results.groupby('category').size())\n",
    "print('From a total of 871 host galaxies')"
   ]
  },
  {
   "cell_type": "markdown",
   "metadata": {},
   "source": [
    "# NED search for possible compact galaxies from "
   ]
  },
  {
   "cell_type": "code",
   "execution_count": 34,
   "metadata": {},
   "outputs": [],
   "source": [
    "# objid_voting = df_voting_results['objid']\n",
    "# ra_voting, dec_voting = np.array(df_voting_results['ra']), np.array(df_voting_results['dec'])\n",
    "# host_galaxy_voting = df_voting_results['host_galaxy']\n",
    "# distance_voting = df_voting_results['distance']\n",
    "# magnitude_voting = df_voting_results['magnitude']\n",
    "# category_voting = df_voting_results['category']\n",
    "# radius_voting = df_voting_results['radius']\n",
    "# u_mag_voting, g_mag_voting, r_mag_voting, i_mag_voting, z_mag_voting = df_voting_results['u_mag'], df_voting_results['g_mag'], df_voting_results['r_mag'], df_voting_results['i_mag'], df_voting_results['z_mag']\n",
    "# concentration_index_voting = df_voting_results['concentration_index']\n",
    "# frac_dev_voting = df_voting_results['frac_dev']\n",
    "# axis_ratio_voting = df_voting_results['axis_ratio']\n",
    "# photoz_voting = df_voting_results['photo_z']\n",
    "# category_voting = df_voting_results['category']\n",
    "# g_i_voting, u_g_voting, u_z_voting, g_z_voting, g_r_voting = df_voting_results['g-i'], df_voting_results['u-g'], df_voting_results['u-z'], df_voting_results['g-z'], df_voting_results['g-r']\n",
    "# link_voting = df_voting_results['link']"
   ]
  },
  {
   "cell_type": "code",
   "execution_count": 35,
   "metadata": {},
   "outputs": [],
   "source": [
    "# name1 = []\n",
    "# ra1 = []\n",
    "# dec1 = []\n",
    "# velocity1 = []\n",
    "# redshift1 = []\n",
    "# flag1 = []\n",
    "# for i in range(len(ra_voting)):\n",
    "#     print(i)\n",
    "# #     if i%200 == 0:\n",
    "# #         time.sleep(15)\n",
    "#     co = coordinates.SkyCoord(ra=ra_voting[i], dec=dec_voting[i], unit=(u.deg, u.deg))\n",
    "#     results = Ned.query_region(co, radius=1* u.arcsec, equinox='J2000.0')\n",
    "#     if len(results) == 0:\n",
    "#         name1_temp, ra1_temp, dec1_temp, vel1_temp, redshift1_temp, flag1_temp = np.nan, np.nan, np.nan, np.nan, np.nan, np.nan\n",
    "#         name1.append(name1_temp)\n",
    "#         ra1.append(ra1_temp)\n",
    "#         dec1.append(dec1_temp)\n",
    "#         velocity1.append(vel1_temp)\n",
    "#         redshift1.append(redshift1_temp)\n",
    "#         flag1.append(flag1_temp)\n",
    "#     else:\n",
    "#         name1_temp, ra1_temp, dec1_temp, vel1_temp, redshift1_temp, flag1_temp = results['Object Name'], results['RA'], results['DEC'], results['Velocity'], results['Redshift'], results['Redshift Flag']\n",
    "#         for j in range(len(name1_temp)):\n",
    "#             name1.append(name1_temp[j])\n",
    "#             ra1.append(ra1_temp[j])\n",
    "#             dec1.append(dec1_temp[j])\n",
    "#             velocity1.append(vel1_temp[j])\n",
    "#             redshift1.append(redshift1_temp[j])\n",
    "#             flag1.append(flag1_temp[j])"
   ]
  },
  {
   "cell_type": "code",
   "execution_count": 36,
   "metadata": {},
   "outputs": [],
   "source": [
    "# # dictionary of lists  \n",
    "# dict = {'name': name1, 'ra': ra1, 'dec': dec1, 'velocity': velocity1, 'redshift': redshift1, 'flag': flag1}  \n",
    "# df_ned_voting = pd.DataFrame(dict) \n",
    "    \n",
    "# # saving the dataframe \n",
    "# # df1.to_csv('ned_compact_dr7.csv') "
   ]
  },
  {
   "cell_type": "markdown",
   "metadata": {},
   "source": [
    "# NED (with specz > 0.01) and ML results crossmatching"
   ]
  },
  {
   "cell_type": "code",
   "execution_count": 37,
   "metadata": {},
   "outputs": [],
   "source": [
    "# ra_ned_voting, dec_ned_voting, name_ned_voting, velocity_ned_voting, redshift_ned_voting, flag_ned_voting = df_ned_voting['ra'], df_ned_voting['dec'], df_ned_voting['name'], df_ned_voting['velocity'], df_ned_voting['redshift'], df_ned_voting['flag']"
   ]
  },
  {
   "cell_type": "code",
   "execution_count": 38,
   "metadata": {},
   "outputs": [],
   "source": [
    "# redshift_ned_voting_1a = redshift_ned_voting.copy()\n",
    "# redshift_ned_voting_1a[redshift_ned_voting_1a == '--'] = np.nan\n",
    "# redshift_ned_voting_1a = redshift_ned_voting_1a.astype(float)\n",
    "\n",
    "# voting_specz_over = (redshift_ned_voting_1a > 0.01) & (flag_ned_voting == 'SPEC')"
   ]
  },
  {
   "cell_type": "code",
   "execution_count": 39,
   "metadata": {},
   "outputs": [],
   "source": [
    "# ra_ned_voting_1 = np.array(ra_ned_voting[voting_specz_over])\n",
    "# dec_ned_voting_1 = np.array(dec_ned_voting[voting_specz_over])\n",
    "# name_ned_voting_1 =  np.array(name_ned_voting[voting_specz_over])\n",
    "# velocity_ned_voting_1 = np.array(velocity_ned_voting[voting_specz_over])\n",
    "# redshift_ned_voting_1 = np.array(redshift_ned_voting[voting_specz_over]).astype(float)\n",
    "# flag_ned_voting_1 = np.array(flag_ned_voting[voting_specz_over])"
   ]
  },
  {
   "cell_type": "code",
   "execution_count": 40,
   "metadata": {},
   "outputs": [],
   "source": [
    "# c1 = SkyCoord(ra=ra_voting*u.degree, dec=dec_voting*u.degree)\n",
    "# catalog1 = SkyCoord(ra=ra_ned_voting_1*u.degree, dec=dec_ned_voting_1*u.degree)\n",
    "# idx_1, d2d_1, d3d_1 = c1.match_to_catalog_sky(catalog1)"
   ]
  },
  {
   "cell_type": "code",
   "execution_count": 41,
   "metadata": {},
   "outputs": [],
   "source": [
    "# max_sep = 1 * u.arcsec\n",
    "# sep_constraint_1 = d2d_1 < max_sep\n",
    "# c1_matches = c1[sep_constraint_1]\n",
    "# catalog1_matches = catalog1[idx_1[sep_constraint_1]]"
   ]
  },
  {
   "cell_type": "code",
   "execution_count": 42,
   "metadata": {},
   "outputs": [],
   "source": [
    "# objid_training = df_training['objid']\n",
    "# ra_training, dec_training = df_training['ra'], df_training['dec']\n",
    "# host_galaxy_training = df_training['host_galaxy']\n",
    "# distance_training = df_training['distance']\n",
    "# magnitude_training = df_training['magnitude']\n",
    "# category_training = df_training['category']\n",
    "# radius_training = df_training['radius']\n",
    "# u_mag_training, g_mag_training, r_mag_training, i_mag_training, z_mag_training = df_training['u_mag'], df_training['g_mag'], df_training['r_mag'], df_training['i_mag'], df_training['z_mag']\n",
    "# concentration_index_training = df_training['concentration_index']\n",
    "# frac_dev_training = df_training['frac_dev']\n",
    "# axis_ratio_training = df_training['axis_ratio']\n",
    "# photoz_training = df_training['photo_z']\n",
    "# category_training = df_training['category']\n",
    "# g_i_training, u_g_training, u_z_training, g_z_training, g_r_training = df_training['g-i'], df_training['u-g'], df_training['u-z'], df_training['g-z'], df_training['g-r']\n",
    "# link_training = df_training['link']"
   ]
  },
  {
   "cell_type": "code",
   "execution_count": 43,
   "metadata": {},
   "outputs": [],
   "source": [
    "# category_voting[sep_constraint_1] = 'Contaminant'"
   ]
  },
  {
   "cell_type": "markdown",
   "metadata": {},
   "source": [
    "# Creating new training data:\n",
    "## Adding original training set + NED confirmed contaminants"
   ]
  },
  {
   "cell_type": "code",
   "execution_count": 44,
   "metadata": {},
   "outputs": [],
   "source": [
    "# objid_final = np.concatenate((objid_training,objid_voting[sep_constraint_1]))\n",
    "# ra_final, dec_final = np.concatenate((ra_training,ra_voting[sep_constraint_1])), np.concatenate((dec_training,dec_voting[sep_constraint_1]))\n",
    "# host_galaxy_final = np.concatenate((host_galaxy_training,host_galaxy_voting[sep_constraint_1]))\n",
    "# distance_final = np.concatenate((distance_training,distance_voting[sep_constraint_1]))\n",
    "# magnitude_final = np.concatenate((magnitude_training,magnitude_voting[sep_constraint_1]))\n",
    "# category_final = np.concatenate((category_training,category_voting[sep_constraint_1]))\n",
    "# radius_final = np.concatenate((radius_training,radius_voting[sep_constraint_1]))\n",
    "# u_mag_final, g_mag_final, r_mag_final, i_mag_final, z_mag_final = np.concatenate((u_mag_training,u_mag_voting[sep_constraint_1])), np.concatenate((g_mag_training,g_mag_voting[sep_constraint_1])), np.concatenate((r_mag_training,r_mag_voting[sep_constraint_1])), np.concatenate((i_mag_training,i_mag_voting[sep_constraint_1])), np.concatenate((z_mag_training,z_mag_voting[sep_constraint_1]))\n",
    "# concentration_index_final = np.concatenate((concentration_index_training,concentration_index_voting[sep_constraint_1]))\n",
    "# frac_dev_final = np.concatenate((frac_dev_training,frac_dev_voting[sep_constraint_1]))\n",
    "# axis_ratio_final = np.concatenate((axis_ratio_training,axis_ratio_voting[sep_constraint_1]))\n",
    "# photoz_final = np.concatenate((photoz_training,photoz_voting[sep_constraint_1]))\n",
    "# category_final = np.concatenate((category_training,category_voting[sep_constraint_1]))\n",
    "# g_i_final, u_g_final, u_z_final, g_z_final, g_r_final = np.concatenate((g_i_training,g_i_voting[sep_constraint_1])), np.concatenate((u_g_training,u_g_voting[sep_constraint_1])), np.concatenate((u_z_training,u_z_voting[sep_constraint_1])), np.concatenate((g_z_training,g_z_voting[sep_constraint_1])), np.concatenate((g_r_training,g_r_voting[sep_constraint_1]))\n",
    "# link_final = np.concatenate((link_training,link_voting[sep_constraint_1]))"
   ]
  },
  {
   "cell_type": "code",
   "execution_count": 45,
   "metadata": {},
   "outputs": [],
   "source": [
    "# # dictionary of lists  \n",
    "# dict = {'objid': objid_final, 'ra': ra_final, 'dec': dec_final, 'g-i': g_i_final, 'u-g': u_g_final, 'u-z': u_z_final, 'g-z': g_z_final, 'g-r': g_r_final, 'concentration_index': concentration_index_final, 'photo_z': photoz_final, 'frac_dev': frac_dev_final, 'host_galaxy': host_galaxy_final, 'distance': distance_final, 'axis_ratio': axis_ratio_final, 'category': category_final, 'radius': radius_final, 'magnitude': magnitude_final, 'u_mag': u_mag_final, 'g_mag': g_mag_final, 'i_mag': i_mag_final, 'r_mag': r_mag_final, 'z_mag': z_mag_final,  'link': link_final}  \n",
    "# df_training_v3= pd.DataFrame(dict) \n",
    "    \n",
    "# # saving the dataframe \n",
    "# # df_training_v3.to_csv('training_v3_dr7.csv') "
   ]
  },
  {
   "cell_type": "code",
   "execution_count": 46,
   "metadata": {},
   "outputs": [],
   "source": [
    "# print(df_training_v3 .groupby('category').size())"
   ]
  },
  {
   "cell_type": "code",
   "execution_count": null,
   "metadata": {},
   "outputs": [],
   "source": []
  }
 ],
 "metadata": {
  "kernelspec": {
   "display_name": "Python 3 (ipykernel)",
   "language": "python",
   "name": "python3"
  },
  "language_info": {
   "codemirror_mode": {
    "name": "ipython",
    "version": 3
   },
   "file_extension": ".py",
   "mimetype": "text/x-python",
   "name": "python",
   "nbconvert_exporter": "python",
   "pygments_lexer": "ipython3",
   "version": "3.9.7"
  }
 },
 "nbformat": 4,
 "nbformat_minor": 4
}
