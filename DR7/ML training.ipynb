{
 "cells": [
  {
   "cell_type": "code",
   "execution_count": 5,
   "metadata": {},
   "outputs": [],
   "source": [
    "from pandas import read_csv\n",
    "from pandas.plotting import scatter_matrix\n",
    "from matplotlib import pyplot\n",
    "from sklearn.model_selection import train_test_split\n",
    "from sklearn.model_selection import cross_val_score\n",
    "from sklearn.model_selection import StratifiedKFold\n",
    "from sklearn.metrics import classification_report\n",
    "from sklearn.metrics import confusion_matrix\n",
    "from sklearn.metrics import accuracy_score\n",
    "from sklearn.linear_model import LogisticRegression\n",
    "from sklearn.tree import DecisionTreeClassifier\n",
    "from sklearn.neighbors import KNeighborsClassifier\n",
    "from sklearn.discriminant_analysis import LinearDiscriminantAnalysis\n",
    "from sklearn.naive_bayes import GaussianNB\n",
    "from sklearn.svm import SVC\n",
    "from pylab import *\n",
    "from sklearn import*\n",
    "from sklearn.neural_network import MLPClassifier\n",
    "import joblib\n",
    "import seaborn as sns\n",
    "import pandas as pd\n",
    "import matplotlib.pyplot as plt\n",
    "from sklearn.ensemble import RandomForestClassifier, VotingClassifier, AdaBoostClassifier\n",
    "from sklearn.gaussian_process import GaussianProcessClassifier\n",
    "from sklearn.discriminant_analysis import QuadraticDiscriminantAnalysis\n",
    "from sklearn.gaussian_process.kernels import RBF"
   ]
  },
  {
   "cell_type": "code",
   "execution_count": 35,
   "metadata": {},
   "outputs": [],
   "source": [
    "from sklearn_lvq import LgmlvqModel\n",
    "from sklearn_lvq import RslvqModel"
   ]
  },
  {
   "cell_type": "code",
   "execution_count": 6,
   "metadata": {},
   "outputs": [],
   "source": [
    "# Import required libraries\n",
    "import pandas as pd\n",
    "import numpy as np \n",
    "import matplotlib.pyplot as plt\n",
    "import sklearn\n",
    "from sklearn.neural_network import MLPClassifier\n",
    "from sklearn.neural_network import MLPRegressor\n",
    "\n",
    "# Import necessary modules\n",
    "from sklearn.model_selection import train_test_split\n",
    "from sklearn.metrics import mean_squared_error\n",
    "from math import sqrt\n",
    "from sklearn.metrics import r2_score"
   ]
  },
  {
   "cell_type": "code",
   "execution_count": 7,
   "metadata": {},
   "outputs": [],
   "source": [
    "import pandas as pd\n",
    "import numpy as np\n",
    "import seaborn as sns\n",
    "from sklearn.preprocessing import StandardScaler\n",
    "import matplotlib.pyplot as plt"
   ]
  },
  {
   "cell_type": "code",
   "execution_count": 8,
   "metadata": {},
   "outputs": [
    {
     "name": "stdout",
     "output_type": "stream",
     "text": [
      "['ra', 'dec', 'g-i', 'u-g', 'u-z', 'g-z', 'g-r', 'concentration_index', 'photo_z', 'frac_dev', 'host_galaxy', 'distance', 'axis_ratio', 'category', 'radius', 'magnitude', 'u_mag', 'g_mag', 'i_mag', 'r_mag', 'z_mag', 'link']\n"
     ]
    }
   ],
   "source": [
    "df_training =  pd.read_csv(\"training_set_v1_dr7.csv\")\n",
    "columnsNamesArr = df_training.columns.values\n",
    "column_names = list(columnsNamesArr)\n",
    "print(column_names[1:])"
   ]
  },
  {
   "cell_type": "code",
   "execution_count": 9,
   "metadata": {},
   "outputs": [],
   "source": [
    "u, g, r, i, z = df_training['u_mag'], df_training['g_mag'], df_training['r_mag'], df_training['i_mag'], df_training['z_mag']\n",
    "concentration_index = df_training['concentration_index']\n",
    "frac_dev = df_training['frac_dev']\n",
    "axis_ratio = df_training['axis_ratio']\n",
    "photoz = df_training['photo_z']\n",
    "category = df_training['category']\n",
    "g_i, u_g, u_z, g_z, g_r = df_training['g-i'], df_training['u-g'], df_training['u-z'], df_training['g-z'], df_training['g-r']\n",
    "magnitude = df_training['magnitude']\n",
    "radius = df_training['radius']"
   ]
  },
  {
   "cell_type": "code",
   "execution_count": 10,
   "metadata": {},
   "outputs": [
    {
     "name": "stdout",
     "output_type": "stream",
     "text": [
      "11\n"
     ]
    }
   ],
   "source": [
    "features = ['g-i', 'u-g', 'u-z', 'g-z', 'g-r', 'concentration_index', 'photo_z', 'frac_dev','axis_ratio','radius', 'magnitude']\n",
    "print(len(features))"
   ]
  },
  {
   "cell_type": "code",
   "execution_count": 11,
   "metadata": {},
   "outputs": [],
   "source": [
    "# classification\n",
    "classification = np.NaN*np.ones(len(photoz))\n",
    "classification[category == 'Known galaxies'] = 1  \n",
    "classification[category == 'Contaminant'] = 0 "
   ]
  },
  {
   "cell_type": "markdown",
   "metadata": {},
   "source": [
    "# Unscaled data"
   ]
  },
  {
   "cell_type": "code",
   "execution_count": 12,
   "metadata": {},
   "outputs": [],
   "source": [
    "X = df_training.loc[:,features].values\n",
    "y = classification"
   ]
  },
  {
   "cell_type": "code",
   "execution_count": 13,
   "metadata": {},
   "outputs": [
    {
     "name": "stdout",
     "output_type": "stream",
     "text": [
      "LR: 0.225000 (0.025000)\n",
      "LDA: 0.787500 (0.245904)\n",
      "KNN: 0.537500 (0.198037)\n",
      "CART: 0.787500 (0.143069)\n",
      "NB: 0.875000 (0.125000)\n",
      "SVM: 0.212500 (0.143069)\n",
      "GP: 0.537500 (0.198037)\n",
      "RF: 0.487500 (0.143069)\n",
      "ABC: 0.787500 (0.143069)\n"
     ]
    }
   ],
   "source": [
    "# Spot Check Algorithms\n",
    "models = []\n",
    "models.append(('LR', LogisticRegression(solver='liblinear', multi_class='ovr')))\n",
    "models.append(('LDA', LinearDiscriminantAnalysis()))\n",
    "models.append(('KNN', KNeighborsClassifier()))\n",
    "models.append(('CART', DecisionTreeClassifier()))\n",
    "models.append(('NB', GaussianNB()))\n",
    "models.append(('SVM', SVC(gamma='auto')))\n",
    "models.append(('GP', GaussianProcessClassifier()))\n",
    "models.append(('RF', RandomForestClassifier(max_depth=5, n_estimators=15, max_features=1)))\n",
    "models.append(('ABC', AdaBoostClassifier()))\n",
    "# evaluate each model in turn\n",
    "results = []\n",
    "names = []\n",
    "for name, model in models:\n",
    "\tkfold = StratifiedKFold(n_splits=4, random_state=1, shuffle=True)\n",
    "\tcv_results = cross_val_score(model, X, y, cv=kfold, scoring='recall')\n",
    "\tresults.append(cv_results)\n",
    "\tnames.append(name)\n",
    "\tprint('%s: %f (%f)' % (name, cv_results.mean(), cv_results.std()))\n",
    "# try neural network"
   ]
  },
  {
   "cell_type": "code",
   "execution_count": 14,
   "metadata": {},
   "outputs": [
    {
     "data": {
      "image/png": "[encoded data removed]",
      "text/plain": [
       "<Figure size 432x288 with 1 Axes>"
      ]
     },
     "metadata": {
      "needs_background": "light"
     },
     "output_type": "display_data"
    }
   ],
   "source": [
    "# Compare Algorithms\n",
    "pyplot.boxplot(results, labels=names)\n",
    "pyplot.title('Algorithm Comparison')\n",
    "pyplot.show()"
   ]
  },
  {
   "cell_type": "code",
   "execution_count": 15,
   "metadata": {},
   "outputs": [],
   "source": [
    "# Make predictions on validation dataset\n",
    "model = DecisionTreeClassifier()\n",
    "model.fit(X, y)\n",
    "# filename = 'dr7_model_photometric.sav'\n",
    "# joblib.dump(model, filename)\n",
    "# loaded_model = joblib.load(filename)\n",
    "# result = loaded_model.score(X_test, Y_test)\n",
    "predictions = model.predict(X)"
   ]
  },
  {
   "cell_type": "code",
   "execution_count": 16,
   "metadata": {},
   "outputs": [
    {
     "name": "stdout",
     "output_type": "stream",
     "text": [
      "1.0\n",
      "[[145   0]\n",
      " [  0  18]]\n",
      "              precision    recall  f1-score   support\n",
      "\n",
      "         0.0       1.00      1.00      1.00       145\n",
      "         1.0       1.00      1.00      1.00        18\n",
      "\n",
      "    accuracy                           1.00       163\n",
      "   macro avg       1.00      1.00      1.00       163\n",
      "weighted avg       1.00      1.00      1.00       163\n",
      "\n"
     ]
    }
   ],
   "source": [
    "# Evaluate predictions\n",
    "print(accuracy_score(y, predictions))\n",
    "print(confusion_matrix(y, predictions))\n",
    "print(classification_report(y, predictions))"
   ]
  },
  {
   "cell_type": "code",
   "execution_count": 17,
   "metadata": {},
   "outputs": [],
   "source": [
    "plt.rcParams.update({'font.size': 20})"
   ]
  },
  {
   "cell_type": "code",
   "execution_count": 18,
   "metadata": {},
   "outputs": [
    {
     "data": {
      "image/png": "[encoded data removed]",
      "text/plain": [
       "<Figure size 792x792 with 1 Axes>"
      ]
     },
     "metadata": {
      "needs_background": "light"
     },
     "output_type": "display_data"
    }
   ],
   "source": [
    "fig4 = plt.figure(figsize=(11,11))\n",
    "g = sns.heatmap(confusion_matrix(y, predictions), square=True, annot=True, fmt=\"d\", cbar=False, xticklabels=['Contaminants', 'Compact Galaxies'], yticklabels=['Contaminants', 'Compact Galaxies'])\n",
    "g.set_yticklabels(labels=g.get_yticklabels(), va='center') # why is this hack necessary?\n",
    "plt.xlabel('predicted class')\n",
    "plt.ylabel('true class')\n",
    "plt.title('classifications')\n",
    "plt.tick_params('both', length=10, width=1.2, which='major', labelsize=20)"
   ]
  },
  {
   "cell_type": "markdown",
   "metadata": {},
   "source": [
    "# Scaled data"
   ]
  },
  {
   "cell_type": "code",
   "execution_count": 20,
   "metadata": {},
   "outputs": [],
   "source": [
    "scaler = StandardScaler()"
   ]
  },
  {
   "cell_type": "code",
   "execution_count": 21,
   "metadata": {},
   "outputs": [],
   "source": [
    "X_scaled = scaler.fit_transform(X)"
   ]
  },
  {
   "cell_type": "code",
   "execution_count": 37,
   "metadata": {},
   "outputs": [
    {
     "name": "stdout",
     "output_type": "stream",
     "text": [
      "LR: 0.887500 (0.113880)\n",
      "LDA: 0.787500 (0.245904)\n",
      "KNN: 0.612500 (0.089268)\n",
      "CART: 0.787500 (0.143069)\n",
      "NB: 0.750000 (0.306186)\n",
      "SVM: 0.950000 (0.086603)\n",
      "GP: 0.900000 (0.100000)\n",
      "RF: 0.550000 (0.231840)\n",
      "ABC: 0.787500 (0.143069)\n",
      "LGMLVQ: 0.762500 (0.178098)\n"
     ]
    }
   ],
   "source": [
    "# Spot Check Algorithms\n",
    "models = []\n",
    "models.append(('LR', LogisticRegression(solver='liblinear', multi_class='ovr')))\n",
    "models.append(('LDA', LinearDiscriminantAnalysis()))\n",
    "models.append(('KNN', KNeighborsClassifier()))\n",
    "models.append(('CART', DecisionTreeClassifier()))\n",
    "models.append(('NB', GaussianNB()))\n",
    "models.append(('SVM', SVC(gamma='auto')))\n",
    "models.append(('GP', GaussianProcessClassifier()))\n",
    "models.append(('RF', RandomForestClassifier(max_depth=5, n_estimators=15, max_features=1)))\n",
    "models.append(('ABC', AdaBoostClassifier()))\n",
    "models.append(('LGMLVQ', RslvqModel()))\n",
    "# evaluate each model in turn\n",
    "results_scaled = []\n",
    "names = []\n",
    "for name, model in models:\n",
    "    kfold = StratifiedKFold(n_splits=4, random_state=1, shuffle=True)\n",
    "    cv_results_scaled = cross_val_score(model, X_scaled, y, cv=kfold, scoring='recall')\n",
    "    results_scaled.append(cv_results)\n",
    "    names.append(name)\n",
    "    print('%s: %f (%f)' % (name, cv_results_scaled.mean(), cv_results_scaled.std()))"
   ]
  },
  {
   "cell_type": "code",
   "execution_count": 30,
   "metadata": {},
   "outputs": [
    {
     "name": "stdout",
     "output_type": "stream",
     "text": [
      "Automatically created module for IPython interactive environment\n",
      "LGMLVQ:\n"
     ]
    },
    {
     "ename": "ValueError",
     "evalue": "X has wrong number of features\nfound=11\nexpected=2",
     "output_type": "error",
     "traceback": [
      "\u001b[1;31m---------------------------------------------------------------------------\u001b[0m",
      "\u001b[1;31mValueError\u001b[0m                                Traceback (most recent call last)",
      "\u001b[1;32m~\\AppData\\Local\\Temp/ipykernel_14924/2990385123.py\u001b[0m in \u001b[0;36m<module>\u001b[1;34m\u001b[0m\n\u001b[0;32m     20\u001b[0m \u001b[1;31m# plot2d(lgmlvq, toy_data, toy_label, 1, 'lgmlvq')\u001b[0m\u001b[1;33m\u001b[0m\u001b[1;33m\u001b[0m\u001b[0m\n\u001b[0;32m     21\u001b[0m \u001b[1;33m\u001b[0m\u001b[0m\n\u001b[1;32m---> 22\u001b[1;33m \u001b[0mprint\u001b[0m\u001b[1;33m(\u001b[0m\u001b[1;34m'classification accuracy:'\u001b[0m\u001b[1;33m,\u001b[0m \u001b[0mlgmlvq\u001b[0m\u001b[1;33m.\u001b[0m\u001b[0mscore\u001b[0m\u001b[1;33m(\u001b[0m\u001b[0mtoy_data\u001b[0m\u001b[1;33m,\u001b[0m \u001b[0mtoy_label\u001b[0m\u001b[1;33m)\u001b[0m\u001b[1;33m)\u001b[0m\u001b[1;33m\u001b[0m\u001b[1;33m\u001b[0m\u001b[0m\n\u001b[0m\u001b[0;32m     23\u001b[0m \u001b[0mplt\u001b[0m\u001b[1;33m.\u001b[0m\u001b[0mshow\u001b[0m\u001b[1;33m(\u001b[0m\u001b[1;33m)\u001b[0m\u001b[1;33m\u001b[0m\u001b[1;33m\u001b[0m\u001b[0m\n",
      "\u001b[1;32m~\\anaconda3\\lib\\site-packages\\sklearn\\base.py\u001b[0m in \u001b[0;36mscore\u001b[1;34m(self, X, y, sample_weight)\u001b[0m\n\u001b[0;32m    649\u001b[0m         \u001b[1;32mfrom\u001b[0m \u001b[1;33m.\u001b[0m\u001b[0mmetrics\u001b[0m \u001b[1;32mimport\u001b[0m \u001b[0maccuracy_score\u001b[0m\u001b[1;33m\u001b[0m\u001b[1;33m\u001b[0m\u001b[0m\n\u001b[0;32m    650\u001b[0m \u001b[1;33m\u001b[0m\u001b[0m\n\u001b[1;32m--> 651\u001b[1;33m         \u001b[1;32mreturn\u001b[0m \u001b[0maccuracy_score\u001b[0m\u001b[1;33m(\u001b[0m\u001b[0my\u001b[0m\u001b[1;33m,\u001b[0m \u001b[0mself\u001b[0m\u001b[1;33m.\u001b[0m\u001b[0mpredict\u001b[0m\u001b[1;33m(\u001b[0m\u001b[0mX\u001b[0m\u001b[1;33m)\u001b[0m\u001b[1;33m,\u001b[0m \u001b[0msample_weight\u001b[0m\u001b[1;33m=\u001b[0m\u001b[0msample_weight\u001b[0m\u001b[1;33m)\u001b[0m\u001b[1;33m\u001b[0m\u001b[1;33m\u001b[0m\u001b[0m\n\u001b[0m\u001b[0;32m    652\u001b[0m \u001b[1;33m\u001b[0m\u001b[0m\n\u001b[0;32m    653\u001b[0m     \u001b[1;32mdef\u001b[0m \u001b[0m_more_tags\u001b[0m\u001b[1;33m(\u001b[0m\u001b[0mself\u001b[0m\u001b[1;33m)\u001b[0m\u001b[1;33m:\u001b[0m\u001b[1;33m\u001b[0m\u001b[1;33m\u001b[0m\u001b[0m\n",
      "\u001b[1;32m~\\anaconda3\\lib\\site-packages\\sklearn_lvq\\glvq.py\u001b[0m in \u001b[0;36mpredict\u001b[1;34m(self, x)\u001b[0m\n\u001b[0;32m    237\u001b[0m         \u001b[0mx\u001b[0m \u001b[1;33m=\u001b[0m \u001b[0mvalidation\u001b[0m\u001b[1;33m.\u001b[0m\u001b[0mcheck_array\u001b[0m\u001b[1;33m(\u001b[0m\u001b[0mx\u001b[0m\u001b[1;33m)\u001b[0m\u001b[1;33m\u001b[0m\u001b[1;33m\u001b[0m\u001b[0m\n\u001b[0;32m    238\u001b[0m         \u001b[1;32mif\u001b[0m \u001b[0mx\u001b[0m\u001b[1;33m.\u001b[0m\u001b[0mshape\u001b[0m\u001b[1;33m[\u001b[0m\u001b[1;36m1\u001b[0m\u001b[1;33m]\u001b[0m \u001b[1;33m!=\u001b[0m \u001b[0mself\u001b[0m\u001b[1;33m.\u001b[0m\u001b[0mw_\u001b[0m\u001b[1;33m.\u001b[0m\u001b[0mshape\u001b[0m\u001b[1;33m[\u001b[0m\u001b[1;36m1\u001b[0m\u001b[1;33m]\u001b[0m\u001b[1;33m:\u001b[0m\u001b[1;33m\u001b[0m\u001b[1;33m\u001b[0m\u001b[0m\n\u001b[1;32m--> 239\u001b[1;33m             raise ValueError(\"X has wrong number of features\\n\"\n\u001b[0m\u001b[0;32m    240\u001b[0m                              \u001b[1;34m\"found=%d\\n\"\u001b[0m\u001b[1;33m\u001b[0m\u001b[1;33m\u001b[0m\u001b[0m\n\u001b[0;32m    241\u001b[0m                              \"expected=%d\" % (self.w_.shape[1], x.shape[1]))\n",
      "\u001b[1;31mValueError\u001b[0m: X has wrong number of features\nfound=11\nexpected=2"
     ]
    }
   ],
   "source": [
    "import matplotlib.pyplot as plt\n",
    "import numpy as np\n",
    "\n",
    "from sklearn_lvq import LgmlvqModel\n",
    "from sklearn_lvq.utils import plot2d\n",
    "\n",
    "print(__doc__)\n",
    "\n",
    "nb_ppc = 100\n",
    "toy_label = np.append(np.zeros(nb_ppc), np.ones(nb_ppc), axis=0)\n",
    "\n",
    "print('LGMLVQ:')\n",
    "toy_data = np.append(\n",
    "    np.random.multivariate_normal([0, 1], np.array([[5, -4], [-4, 6]]),\n",
    "                                  size=nb_ppc),\n",
    "    np.random.multivariate_normal([0, 0], np.array([[5, 4], [4, 6]]),\n",
    "                                  size=nb_ppc), axis=0)\n",
    "lgmlvq = LgmlvqModel()\n",
    "lgmlvq.fit(X_scaled, y)\n",
    "# plot2d(lgmlvq, toy_data, toy_label, 1, 'lgmlvq')\n",
    "\n",
    "print('classification accuracy:', lgmlvq.score(toy_data, toy_label))\n",
    "plt.show()"
   ]
  },
  {
   "cell_type": "code",
   "execution_count": null,
   "metadata": {},
   "outputs": [],
   "source": []
  },
  {
   "cell_type": "code",
   "execution_count": 38,
   "metadata": {},
   "outputs": [],
   "source": [
    "mlp = MLPClassifier(activation='relu', solver='lbfgs', max_iter=100000000000000)\n",
    "# hidden_layer_sizes=(8,8,8)\n",
    "mlp.fit(X,y)\n",
    "# filename_1 = 'dr7_neuralnetwork_photometric.sav'\n",
    "# joblib.dump(mlp, filename_1)\n",
    "predict_train = mlp.predict(X_train)\n",
    "predict_validation = mlp.predict(X_validation)\n",
    "predict_final = mlp.predict(X)"
   ]
  },
  {
   "cell_type": "code",
   "execution_count": 39,
   "metadata": {},
   "outputs": [
    {
     "name": "stdout",
     "output_type": "stream",
     "text": [
      "[[45  2]\n",
      " [ 3  6]]\n",
      "              precision    recall  f1-score   support\n",
      "\n",
      "         0.0       0.94      0.96      0.95        47\n",
      "         1.0       0.75      0.67      0.71         9\n",
      "\n",
      "    accuracy                           0.91        56\n",
      "   macro avg       0.84      0.81      0.83        56\n",
      "weighted avg       0.91      0.91      0.91        56\n",
      "\n"
     ]
    }
   ],
   "source": [
    "print(confusion_matrix(Y_train,predict_train))\n",
    "print(classification_report(Y_train,predict_train))"
   ]
  },
  {
   "cell_type": "code",
   "execution_count": 40,
   "metadata": {},
   "outputs": [
    {
     "name": "stdout",
     "output_type": "stream",
     "text": [
      "[[66  2]\n",
      " [ 4  8]]\n",
      "              precision    recall  f1-score   support\n",
      "\n",
      "         0.0       0.94      0.97      0.96        68\n",
      "         1.0       0.80      0.67      0.73        12\n",
      "\n",
      "    accuracy                           0.93        80\n",
      "   macro avg       0.87      0.82      0.84        80\n",
      "weighted avg       0.92      0.93      0.92        80\n",
      "\n"
     ]
    }
   ],
   "source": [
    "print(confusion_matrix(y,predict_final))\n",
    "print(classification_report(y,predict_final))"
   ]
  },
  {
   "cell_type": "code",
   "execution_count": 41,
   "metadata": {},
   "outputs": [
    {
     "data": {
      "image/png": "[encoded data removed]",
      "text/plain": [
       "<Figure size 792x792 with 1 Axes>"
      ]
     },
     "metadata": {
      "needs_background": "light"
     },
     "output_type": "display_data"
    }
   ],
   "source": [
    "fig4 = plt.figure(figsize=(11,11))\n",
    "g = sns.heatmap(confusion_matrix(y,predict_final), square=True, annot=True, fmt=\"d\", cbar=False, xticklabels=['Compact Galaxies','Contaminants'], yticklabels=['Compact Galaxies','Contaminants'])\n",
    "g.set_yticklabels(labels=g.get_yticklabels(), va='center') # why is this hack necessary?\n",
    "plt.xlabel('predicted class')\n",
    "plt.ylabel('true class')\n",
    "plt.title('classifications')\n",
    "plt.tick_params('both', length=10, width=1.2, which='major', labelsize=20)"
   ]
  },
  {
   "cell_type": "markdown",
   "metadata": {},
   "source": [
    "make plot of mass of compact galaxy vs mass of host, most compact galaxies should have already been seen, so only look for few\n",
    "this is for compact ellipticals\n",
    "\n",
    "UCD could be 1 per galaxy.\n",
    "\n",
    "liu UCD's add from there\n",
    "\n",
    "perturb results using sdss errors and run simulations to augment data, also look at voting methods for machine learning.\n",
    "\n",
    "stick with diff UCD and CE different plots."
   ]
  },
  {
   "cell_type": "code",
   "execution_count": 68,
   "metadata": {},
   "outputs": [
    {
     "data": {
      "text/plain": [
       "['dr7_model_voting.sav']"
      ]
     },
     "execution_count": 68,
     "metadata": {},
     "output_type": "execute_result"
    }
   ],
   "source": [
    "clf1 = LogisticRegression(solver='liblinear', multi_class='ovr')\n",
    "clf2 = LinearDiscriminantAnalysis()\n",
    "clf3 = DecisionTreeClassifier()\n",
    "clf4 = GaussianNB()\n",
    "clf5 = MLPClassifier(activation='relu', solver='lbfgs', max_iter=100000)\n",
    "clf6 = AdaBoostClassifier()\n",
    "eclf1 = VotingClassifier(estimators=[('lda', clf2), ('cart', clf3), ('mlp', clf5), ('nb', clf4)], voting='soft')\n",
    "eclf1.fit(X, y)\n",
    "eclf_predict = eclf1.predict(X)\n",
    "\n",
    "filename = 'dr7_model_voting_2.sav'\n",
    "joblib.dump(eclf1, filename)"
   ]
  },
  {
   "cell_type": "code",
   "execution_count": 69,
   "metadata": {},
   "outputs": [
    {
     "data": {
      "image/png": "[encoded data removed]",
      "text/plain": [
       "<Figure size 792x792 with 1 Axes>"
      ]
     },
     "metadata": {
      "needs_background": "light"
     },
     "output_type": "display_data"
    }
   ],
   "source": [
    "fig5 = plt.figure(figsize=(11,11))\n",
    "g = sns.heatmap(confusion_matrix(y, eclf_predict), square=True, annot=True, fmt=\"d\", cbar=False, xticklabels=['Contaminants', 'Compact Galaxies'], yticklabels=['Contaminants', 'Compact Galaxies'])\n",
    "g.set_yticklabels(labels=g.get_yticklabels(), va='center') # why is this hack necessary?\n",
    "plt.xlabel('predicted class')\n",
    "plt.ylabel('true class')\n",
    "plt.title('classifications')\n",
    "plt.tick_params('both', length=10, width=1.2, which='major', labelsize=20)"
   ]
  },
  {
   "cell_type": "code",
   "execution_count": null,
   "metadata": {},
   "outputs": [],
   "source": []
  }
 ],
 "metadata": {
  "kernelspec": {
   "display_name": "Python 3 (ipykernel)",
   "language": "python",
   "name": "python3"
  },
  "language_info": {
   "codemirror_mode": {
    "name": "ipython",
    "version": 3
   },
   "file_extension": ".py",
   "mimetype": "text/x-python",
   "name": "python",
   "nbconvert_exporter": "python",
   "pygments_lexer": "ipython3",
   "version": "3.9.7"
  }
 },
 "nbformat": 4,
 "nbformat_minor": 4
}
