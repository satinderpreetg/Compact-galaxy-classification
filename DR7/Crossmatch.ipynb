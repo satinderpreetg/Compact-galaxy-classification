{
 "cells": [
  {
   "cell_type": "code",
   "execution_count": 1,
   "id": "47d6f21f",
   "metadata": {},
   "outputs": [
    {
     "name": "stderr",
     "output_type": "stream",
     "text": [
      "WARNING: AstropyDeprecationWarning: The update_default_config function is deprecated and may be removed in a future version. [astroquery._astropy_init]\n"
     ]
    }
   ],
   "source": [
    "from astroquery.ned import Ned\n",
    "from astropy.coordinates import SkyCoord\n",
    "import pandas as pd\n",
    "import numpy as np\n",
    "import astropy.units as u\n",
    "from astropy import coordinates\n",
    "from astropy.table import Table\n",
    "import time"
   ]
  },
  {
   "cell_type": "code",
   "execution_count": 2,
   "id": "2bba4591",
   "metadata": {},
   "outputs": [],
   "source": [
    "df1 = pd.read_csv('ned_compact_dr7.csv')\n",
    "df2 = pd.read_csv('ned_contaminant_dr7.csv')\n",
    "df3 = pd.read_csv('results_voting_dr7.csv')\n",
    "df4 = pd.read_csv('results_voting_contaminants_dr7.csv')\n",
    "df5 = pd.read_csv('training_set_v1_dr7.csv')"
   ]
  },
  {
   "cell_type": "code",
   "execution_count": 3,
   "id": "959c75fd",
   "metadata": {},
   "outputs": [],
   "source": [
    "ra_voting_compact, dec_voting_compact = df3['ra'], df3['dec']\n",
    "ra_voting_contaminant, dec_voting_contaminant = df4['ra'], df4['dec']\n",
    "ra_ned_compact, dec_ned_compact, name_ned_compact, velocity_ned_compact, redshift_ned_compact, flag_ned_compact = df1['ra'], df1['dec'], df1['name'], df1['velocity'], df1['redshift'], df1['flag']\n",
    "ra_ned_contaminant, dec_ned_contaminant, name_ned_contaminant, velocity_ned_contaminant, redshift_ned_contaminant, flag_ned_contaminant = df2['ra'], df2['dec'], df2['name'], df2['velocity'], df2['redshift'], df2['flag']"
   ]
  },
  {
   "cell_type": "code",
   "execution_count": 4,
   "id": "bb490abf",
   "metadata": {},
   "outputs": [],
   "source": [
    "redshift_ned_compact1a = redshift_ned_compact.copy()\n",
    "redshift_ned_compact1a[redshift_ned_compact1a == '--'] = np.nan\n",
    "redshift_ned_compact1a = redshift_ned_compact1a.astype(float)\n",
    "\n",
    "compact_over_z = (redshift_ned_compact1a > 0.01) & (flag_ned_compact == 'SPEC')"
   ]
  },
  {
   "cell_type": "code",
   "execution_count": 5,
   "id": "e669bbc4",
   "metadata": {},
   "outputs": [],
   "source": [
    "ra_ned_compact1 = np.array(ra_ned_compact[compact_over_z])\n",
    "dec_ned_compact1 = np.array(dec_ned_compact[compact_over_z])\n",
    "name_ned_compact1 =  np.array(name_ned_compact[compact_over_z])\n",
    "velocity_ned_compact1 = np.array(velocity_ned_compact[compact_over_z])\n",
    "redshift_ned_compact1 = np.array(redshift_ned_compact[compact_over_z]).astype(float)\n",
    "flag_ned_compact1 = np.array(flag_ned_compact[compact_over_z])"
   ]
  },
  {
   "cell_type": "code",
   "execution_count": 6,
   "id": "ec9aa47e",
   "metadata": {},
   "outputs": [],
   "source": [
    "c1 = SkyCoord(ra=ra_voting_compact*u.degree, dec=dec_voting_compact*u.degree)\n",
    "catalog1 = SkyCoord(ra=ra_ned_compact1*u.degree, dec=dec_ned_compact1*u.degree)\n",
    "idx_1, d2d_1, d3d_1 = c1.match_to_catalog_sky(catalog1)"
   ]
  },
  {
   "cell_type": "code",
   "execution_count": 7,
   "id": "15d753f6",
   "metadata": {},
   "outputs": [],
   "source": [
    "max_sep = 1 * u.arcsec\n",
    "sep_constraint_1 = d2d_1 < max_sep\n",
    "c1_matches = c1[sep_constraint_1]\n",
    "catalog1_matches = catalog1[idx_1[sep_constraint_1]]"
   ]
  },
  {
   "cell_type": "code",
   "execution_count": 8,
   "id": "3963bbfb",
   "metadata": {},
   "outputs": [],
   "source": [
    "c1_matched_ra1 = []\n",
    "c1_matched_dec1 = []\n",
    "for i in range(len(c1_matches)):\n",
    "    c1_matched_ra1.extend([c1_matches[i].ra.degree])\n",
    "    c1_matched_dec1.extend([c1_matches[i].dec.degree])"
   ]
  },
  {
   "cell_type": "markdown",
   "id": "77cb8ff9",
   "metadata": {},
   "source": [
    "Calling in all training data"
   ]
  },
  {
   "cell_type": "code",
   "execution_count": 9,
   "id": "135ca64e",
   "metadata": {},
   "outputs": [],
   "source": [
    "objid_training = df5['objid']\n",
    "ra_training, dec_training = df5['ra'], df5['dec']\n",
    "host_galaxy_training = df5['host_galaxy']\n",
    "distance_training = df5['distance']\n",
    "magnitude_training = df5['magnitude']\n",
    "category_training = df5['category']\n",
    "radius_training = df5['radius']\n",
    "u_mag_training, g_mag_training, r_mag_training, i_mag_training, z_mag_training = df5['u_mag'], df5['g_mag'], df5['r_mag'], df5['i_mag'], df5['z_mag']\n",
    "concentration_index_training = df5['concentration_index']\n",
    "frac_dev_training = df5['frac_dev']\n",
    "axis_ratio_training = df5['axis_ratio']\n",
    "photoz_training = df5['photo_z']\n",
    "category_training = df5['category']\n",
    "g_i_training, u_g_training, u_z_training, g_z_training, g_r_training = df5['g-i'], df5['u-g'], df5['u-z'], df5['g-z'], df5['g-r']\n",
    "link_training = df5['link']"
   ]
  },
  {
   "cell_type": "markdown",
   "id": "0493ed0d",
   "metadata": {},
   "source": [
    "Calling in all ML data for compact galaxies"
   ]
  },
  {
   "cell_type": "code",
   "execution_count": 10,
   "id": "9d9e936c",
   "metadata": {},
   "outputs": [],
   "source": [
    "objid_voting = df3['objid']\n",
    "ra_voting, dec_voting = df3['ra'], df3['dec']\n",
    "host_galaxy_voting = df3['host_galaxy']\n",
    "distance_voting = df3['distance']\n",
    "magnitude_voting = df3['magnitude']\n",
    "category_voting = df3['category']\n",
    "radius_voting = df3['radius']\n",
    "u_mag_voting, g_mag_voting, r_mag_voting, i_mag_voting, z_mag_voting = df3['u_mag'], df3['g_mag'], df3['r_mag'], df3['i_mag'], df3['z_mag']\n",
    "concentration_index_voting = df3['concentration_index']\n",
    "frac_dev_voting = df3['frac_dev']\n",
    "axis_ratio_voting = df3['axis_ratio']\n",
    "photoz_voting = df3['photo_z']\n",
    "category_voting = df3['category']\n",
    "g_i_voting, u_g_voting, u_z_voting, g_z_voting, g_r_voting = df3['g-i'], df3['u-g'], df3['u-z'], df3['g-z'], df3['g-r']\n",
    "link_voting = df3['link']"
   ]
  },
  {
   "cell_type": "code",
   "execution_count": 11,
   "id": "d0506bdc",
   "metadata": {},
   "outputs": [
    {
     "name": "stderr",
     "output_type": "stream",
     "text": [
      "C:\\Users\\Home\\AppData\\Local\\Temp/ipykernel_15348/354860432.py:1: SettingWithCopyWarning: \n",
      "A value is trying to be set on a copy of a slice from a DataFrame\n",
      "\n",
      "See the caveats in the documentation: https://pandas.pydata.org/pandas-docs/stable/user_guide/indexing.html#returning-a-view-versus-a-copy\n",
      "  category_voting[sep_constraint_1] = 'Contaminant'\n"
     ]
    }
   ],
   "source": [
    "category_voting[sep_constraint_1] = 'Contaminant'"
   ]
  },
  {
   "cell_type": "markdown",
   "id": "92be35b1",
   "metadata": {},
   "source": [
    "Calling in all ML data for contaminants"
   ]
  },
  {
   "cell_type": "code",
   "execution_count": 22,
   "id": "1a8352d8",
   "metadata": {},
   "outputs": [],
   "source": [
    "objid_voting_contaminant = df4['objid']\n",
    "ra_voting_contaminant, dec_voting_contaminant = df4['ra'], df4['dec']\n",
    "host_galaxy_voting_contaminant = df4['host_galaxy']\n",
    "distance_voting_contaminant = df4['distance']\n",
    "magnitude_voting_contaminant = df4['magnitude']\n",
    "category_voting_contaminant = df4['category']\n",
    "radius_voting_contaminant = df4['radius']\n",
    "u_mag_voting_contaminant, g_mag_voting_contaminant, r_mag_voting_contaminant, i_mag_voting_contaminant, z_mag_voting_contaminant = df4['u_mag'], df4['g_mag'], df4['r_mag'], df4['i_mag'], df4['z_mag']\n",
    "concentration_index_voting_contaminant = df4['concentration_index']\n",
    "frac_dev_voting_contaminant = df4['frac_dev']\n",
    "axis_ratio_voting_contaminant = df4['axis_ratio']\n",
    "photoz_voting_contaminant = df4['photo_z']\n",
    "category_voting_contaminant = df4['category']\n",
    "g_i_voting_contaminant, u_g_voting_contaminant, u_z_voting_contaminant, g_z_voting_contaminant, g_r_voting_contaminant = df4['g-i'], df4['u-g'], df4['u-z'], df4['g-z'], df4['g-r']\n",
    "link_voting_contaminant = df4['link']"
   ]
  },
  {
   "cell_type": "code",
   "execution_count": 12,
   "id": "8ab8aec2",
   "metadata": {},
   "outputs": [],
   "source": [
    "objid_voting_high_specz = objid_voting[sep_constraint_1]"
   ]
  },
  {
   "cell_type": "code",
   "execution_count": 13,
   "id": "90350f3e",
   "metadata": {},
   "outputs": [
    {
     "name": "stdout",
     "output_type": "stream",
     "text": [
      "163\n",
      "178\n",
      "341\n"
     ]
    }
   ],
   "source": [
    "objid12 = np.concatenate((objid_training,objid_voting[sep_constraint_1]))\n",
    "print(len(objid_training))\n",
    "print(len(objid_voting[sep_constraint_1]))\n",
    "print(len(objid12))"
   ]
  },
  {
   "cell_type": "code",
   "execution_count": 14,
   "id": "18dc2dd3",
   "metadata": {},
   "outputs": [],
   "source": [
    "objid_final = np.concatenate((objid_training,objid_voting[sep_constraint_1]))\n",
    "ra_final, dec_final = np.concatenate((ra_training,ra_voting[sep_constraint_1])), np.concatenate((dec_training,dec_voting[sep_constraint_1]))\n",
    "host_galaxy_final = np.concatenate((host_galaxy_training,host_galaxy_voting[sep_constraint_1]))\n",
    "distance_final = np.concatenate((distance_training,distance_voting[sep_constraint_1]))\n",
    "magnitude_final = np.concatenate((magnitude_training,magnitude_voting[sep_constraint_1]))\n",
    "category_final = np.concatenate((category_training,category_voting[sep_constraint_1]))\n",
    "radius_final = np.concatenate((radius_training,radius_voting[sep_constraint_1]))\n",
    "u_mag_final, g_mag_final, r_mag_final, i_mag_final, z_mag_final = np.concatenate((u_mag_training,u_mag_voting[sep_constraint_1])), np.concatenate((g_mag_training,g_mag_voting[sep_constraint_1])), np.concatenate((r_mag_training,r_mag_voting[sep_constraint_1])), np.concatenate((i_mag_training,i_mag_voting[sep_constraint_1])), np.concatenate((z_mag_training,z_mag_voting[sep_constraint_1]))\n",
    "concentration_index_final = np.concatenate((concentration_index_training,concentration_index_voting[sep_constraint_1]))\n",
    "frac_dev_final = np.concatenate((frac_dev_training,frac_dev_voting[sep_constraint_1]))\n",
    "axis_ratio_final = np.concatenate((axis_ratio_training,axis_ratio_voting[sep_constraint_1]))\n",
    "photoz_final = np.concatenate((photoz_training,photoz_voting[sep_constraint_1]))\n",
    "category_final = np.concatenate((category_training,category_voting[sep_constraint_1]))\n",
    "g_i_final, u_g_final, u_z_final, g_z_final, g_r_final = np.concatenate((g_i_training,g_i_voting[sep_constraint_1])), np.concatenate((u_g_training,u_g_voting[sep_constraint_1])), np.concatenate((u_z_training,u_z_voting[sep_constraint_1])), np.concatenate((g_z_training,g_z_voting[sep_constraint_1])), np.concatenate((g_r_training,g_r_voting[sep_constraint_1]))\n",
    "link_final = np.concatenate((link_training,link_voting[sep_constraint_1]))"
   ]
  },
  {
   "cell_type": "code",
   "execution_count": 15,
   "id": "a9747587",
   "metadata": {},
   "outputs": [],
   "source": [
    "# dictionary of lists  \n",
    "dict = {'objid': objid_final, 'ra': ra_final, 'dec': dec_final, 'g-i': g_i_final, 'u-g': u_g_final, 'u-z': u_z_final, 'g-z': g_z_final, 'g-r': g_r_final, 'concentration_index': concentration_index_final, 'photo_z': photoz_final, 'frac_dev': frac_dev_final, 'host_galaxy': host_galaxy_final, 'distance': distance_final, 'axis_ratio': axis_ratio_final, 'category': category_final, 'radius': radius_final, 'magnitude': magnitude_final, 'u_mag': u_mag_final, 'g_mag': g_mag_final, 'i_mag': i_mag_final, 'r_mag': r_mag_final, 'z_mag': z_mag_final,  'link': link_final}  \n",
    "df = pd.DataFrame(dict) \n",
    "    \n",
    "# saving the dataframe \n",
    "df.to_csv('training_set_v2_dr7.csv') "
   ]
  },
  {
   "cell_type": "code",
   "execution_count": 16,
   "id": "31abaf84",
   "metadata": {},
   "outputs": [],
   "source": [
    "# dictionary of lists  \n",
    "dict = {'objid': objid_voting[sep_constraint_1], 'ra': ra_voting[sep_constraint_1], 'dec': dec_voting[sep_constraint_1], 'g-i': g_i_voting[sep_constraint_1], 'u-g': u_g_voting[sep_constraint_1], 'u-z': u_z_voting[sep_constraint_1], 'g-z': g_z_voting[sep_constraint_1], 'g-r': g_r_voting[sep_constraint_1], 'concentration_index': concentration_index_voting[sep_constraint_1], 'photo_z': photoz_voting[sep_constraint_1], 'frac_dev': frac_dev_voting[sep_constraint_1], 'host_galaxy': host_galaxy_voting[sep_constraint_1], 'distance': distance_voting[sep_constraint_1], 'axis_ratio': axis_ratio_voting[sep_constraint_1], 'category': category_voting[sep_constraint_1], 'radius': radius_voting[sep_constraint_1], 'magnitude': magnitude_voting[sep_constraint_1], 'u_mag': u_mag_voting[sep_constraint_1], 'g_mag': g_mag_voting[sep_constraint_1], 'i_mag': i_mag_voting[sep_constraint_1], 'r_mag': r_mag_voting[sep_constraint_1], 'z_mag': z_mag_voting[sep_constraint_1],  'link': link_voting[sep_constraint_1]}  \n",
    "df = pd.DataFrame(dict) \n",
    "    \n",
    "# saving the dataframe \n",
    "df.to_csv('ned_check_compact_over.csv') "
   ]
  },
  {
   "cell_type": "code",
   "execution_count": 17,
   "id": "14f702ee",
   "metadata": {},
   "outputs": [
    {
     "name": "stdout",
     "output_type": "stream",
     "text": [
      "0        False\n",
      "1        False\n",
      "2        False\n",
      "3        False\n",
      "4        False\n",
      "         ...  \n",
      "28795    False\n",
      "28796    False\n",
      "28797    False\n",
      "28798    False\n",
      "28799    False\n",
      "Length: 28800, dtype: bool\n"
     ]
    }
   ],
   "source": [
    "redshift_ned_contaminant1a = redshift_ned_contaminant.copy()\n",
    "redshift_ned_contaminant1a[redshift_ned_contaminant1a == '--'] = np.nan\n",
    "redshift_ned_contaminant1a = redshift_ned_contaminant1a.astype(float)\n",
    "\n",
    "contaminant_under_z = (redshift_ned_contaminant1a <= 0.01) & (flag_ned_contaminant == 'SPEC')\n",
    "print(contaminant_under_z)"
   ]
  },
  {
   "cell_type": "code",
   "execution_count": 18,
   "id": "46456e9a",
   "metadata": {},
   "outputs": [
    {
     "name": "stdout",
     "output_type": "stream",
     "text": [
      "[133.35737 137.96431 145.07821 162.02436 162.89416 169.71305 182.05213\n",
      " 184.11357 183.71367 184.91178 185.4627  185.71955 186.70053 186.57103\n",
      " 187.43963 187.44012 188.97071 189.77499 191.91134 192.86292 215.35958\n",
      " 226.83844 353.37287  20.11738  37.67373  37.49623  41.74458 130.14514\n",
      " 132.85128 133.79413 140.51583 139.8961  141.45218 141.52572 153.85483\n",
      " 166.09475 165.85319 166.14656 167.41555 169.07784 169.40973 170.17986\n",
      " 171.1252  177.34945 181.9624  182.82229 182.82382 182.94142 183.84642\n",
      " 183.91476 185.56252 186.91532 186.82469 187.28467 188.72966 189.15258\n",
      " 190.53357 193.85778 194.39226 194.27451 197.44239 197.44239 198.91371\n",
      " 198.57145 202.90711 208.0785  211.34164 211.91366 210.31682 217.76332\n",
      " 225.07637 230.6745  233.63801 247.65288 178.46491]\n"
     ]
    }
   ],
   "source": [
    "ra_ned_contaminant1 = np.array(ra_ned_contaminant[contaminant_under_z])\n",
    "dec_ned_contaminant1 = np.array(dec_ned_contaminant[contaminant_under_z])\n",
    "name_ned_contaminant1 =  np.array(name_ned_contaminant[contaminant_under_z])\n",
    "velocity_ned_contaminant1 = np.array(velocity_ned_contaminant[contaminant_under_z])\n",
    "redshift_ned_contaminant1 = np.array(redshift_ned_contaminant[contaminant_under_z]).astype(float)\n",
    "flag_ned_contaminant1 = np.array(flag_ned_contaminant[contaminant_under_z])\n",
    "print(ra_ned_contaminant1)"
   ]
  },
  {
   "cell_type": "code",
   "execution_count": 19,
   "id": "b0092cf0",
   "metadata": {},
   "outputs": [],
   "source": [
    "c2 = SkyCoord(ra=ra_voting_contaminant*u.degree, dec=dec_voting_contaminant*u.degree)\n",
    "catalog2 = SkyCoord(ra=ra_ned_contaminant1*u.degree, dec=dec_ned_contaminant1*u.degree)\n",
    "idx_2, d2d_2, d3d_2 = c2.match_to_catalog_sky(catalog2)\n"
   ]
  },
  {
   "cell_type": "code",
   "execution_count": 20,
   "id": "a03311c9",
   "metadata": {},
   "outputs": [],
   "source": [
    "max_sep = 1 * u.arcsec\n",
    "sep_constraint_2 = d2d_2 < max_sep\n",
    "c2_matches = c2[sep_constraint_2]\n",
    "catalog2_matches = catalog2[idx_2[sep_constraint_2]]"
   ]
  },
  {
   "cell_type": "code",
   "execution_count": 23,
   "id": "7b58815c",
   "metadata": {},
   "outputs": [],
   "source": [
    "# dictionary of lists  \n",
    "dict = {'objid': objid_voting_contaminant[sep_constraint_2], 'ra': ra_voting_contaminant[sep_constraint_2], 'dec': dec_voting_contaminant[sep_constraint_2], 'g-i': g_i_voting_contaminant[sep_constraint_2], 'u-g': u_g_voting_contaminant[sep_constraint_2], 'u-z': u_z_voting_contaminant[sep_constraint_2], 'g-z': g_z_voting_contaminant[sep_constraint_2], 'g-r': g_r_voting_contaminant[sep_constraint_2], 'concentration_index': concentration_index_voting_contaminant[sep_constraint_2], 'photo_z': photoz_voting_contaminant[sep_constraint_2], 'frac_dev': frac_dev_voting_contaminant[sep_constraint_2], 'host_galaxy': host_galaxy_voting_contaminant[sep_constraint_2], 'distance': distance_voting_contaminant[sep_constraint_2], 'axis_ratio': axis_ratio_voting_contaminant[sep_constraint_2], 'category': category_voting_contaminant[sep_constraint_2], 'radius': radius_voting_contaminant[sep_constraint_2], 'magnitude': magnitude_voting_contaminant[sep_constraint_2], 'u_mag': u_mag_voting_contaminant[sep_constraint_2], 'g_mag': g_mag_voting_contaminant[sep_constraint_2], 'i_mag': i_mag_voting_contaminant[sep_constraint_2], 'r_mag': r_mag_voting_contaminant[sep_constraint_2], 'z_mag': z_mag_voting_contaminant[sep_constraint_2],  'link': link_voting_contaminant[sep_constraint_2]}  \n",
    "df = pd.DataFrame(dict) \n",
    "    \n",
    "# saving the dataframe \n",
    "df.to_csv('ned_check_contaminants_under.csv') "
   ]
  },
  {
   "cell_type": "code",
   "execution_count": null,
   "id": "782cff82",
   "metadata": {},
   "outputs": [],
   "source": [
    "# 0.01 spec z or greater is contaminant\n",
    "# flag to avoid timeout. m31  NGC0224 is large search, check how many obj\n",
    "# make sure redshift flag is spec"
   ]
  }
 ],
 "metadata": {
  "kernelspec": {
   "display_name": "Python 3 (ipykernel)",
   "language": "python",
   "name": "python3"
  },
  "language_info": {
   "codemirror_mode": {
    "name": "ipython",
    "version": 3
   },
   "file_extension": ".py",
   "mimetype": "text/x-python",
   "name": "python",
   "nbconvert_exporter": "python",
   "pygments_lexer": "ipython3",
   "version": "3.9.7"
  }
 },
 "nbformat": 4,
 "nbformat_minor": 5
}
